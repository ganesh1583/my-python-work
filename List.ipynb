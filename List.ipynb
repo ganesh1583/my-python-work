{
 "cells": [
  {
   "cell_type": "code",
   "execution_count": null,
   "id": "25bb4f2b",
   "metadata": {},
   "outputs": [],
   "source": [
    "#List datatype "
   ]
  },
  {
   "cell_type": "code",
   "execution_count": 10,
   "id": "df412407",
   "metadata": {},
   "outputs": [
    {
     "name": "stdout",
     "output_type": "stream",
     "text": [
      "ABCD\n",
      "ABCD"
     ]
    }
   ],
   "source": [
    "L = [\"A\",\"B\",\"C\",\"D\"]\n",
    "for i in L:\n",
    "    print(i,end=\"\")\n",
    "print()\n",
    "for i in range(len(L)):\n",
    "    print(L[i],end=\"\")"
   ]
  },
  {
   "cell_type": "code",
   "execution_count": 12,
   "id": "8be53c35",
   "metadata": {},
   "outputs": [
    {
     "name": "stdout",
     "output_type": "stream",
     "text": [
      "DCBA"
     ]
    }
   ],
   "source": [
    "L = [\"A\",\"B\",\"C\",\"D\"]\n",
    "\n",
    "for i in range(-1,-(len(L)+1),-1):\n",
    "    print(L[i],end=\"\")\n"
   ]
  },
  {
   "cell_type": "code",
   "execution_count": 2,
   "id": "1abcda56",
   "metadata": {},
   "outputs": [
    {
     "name": "stdout",
     "output_type": "stream",
     "text": [
      "Enter list : [11,66,33,22,4,66,88,3]\n",
      "Max element :  88\n"
     ]
    }
   ],
   "source": [
    "#Accept list from user and find maximum element from list\n",
    "L = eval(input(\"Enter list : \"))\n",
    "m = 0\n",
    "for i in L:\n",
    "    if m < i:\n",
    "        m = i\n",
    "print(\"Max element : \",m)"
   ]
  },
  {
   "cell_type": "code",
   "execution_count": 9,
   "id": "aed350df",
   "metadata": {},
   "outputs": [
    {
     "name": "stdout",
     "output_type": "stream",
     "text": [
      "140678837046720\n",
      "140678837048832\n"
     ]
    }
   ],
   "source": [
    "L = [\"a\",\"b\",\"c\"]\n",
    "print(id(L))\n",
    "SL = L[::]\n",
    "print(id(SL))"
   ]
  },
  {
   "cell_type": "code",
   "execution_count": 4,
   "id": "1f44c037",
   "metadata": {},
   "outputs": [
    {
     "name": "stdout",
     "output_type": "stream",
     "text": [
      "[1, 2, 3, 4, 5]\n",
      "[1, 4, 9, 16, 25]\n",
      "[1, 4, 9, 16, 25]\n"
     ]
    }
   ],
   "source": [
    "#List comprehension\n",
    "\n",
    "L = [1,2,3,4,5]\n",
    "SL = list()\n",
    "for i in L:\n",
    "    SL.append(i*i)\n",
    "    \n",
    "print(L)\n",
    "print(SL)\n",
    "\n",
    "LC = [i*i for i in L]\n",
    "print(LC)"
   ]
  },
  {
   "cell_type": "code",
   "execution_count": 7,
   "id": "553a45cb",
   "metadata": {},
   "outputs": [
    {
     "name": "stdout",
     "output_type": "stream",
     "text": [
      "[1, 324, 33, 500, 7]\n",
      "[1, 33, 7]\n"
     ]
    }
   ],
   "source": [
    "L = [1,324,33,500,7]\n",
    "SL = [i for i in L if i < 100]\n",
    "print(L)\n",
    "print(SL)"
   ]
  },
  {
   "cell_type": "code",
   "execution_count": 8,
   "id": "0bdac673",
   "metadata": {},
   "outputs": [
    {
     "name": "stdout",
     "output_type": "stream",
     "text": [
      "[1, 324, 33, 500, 7]\n",
      "[1, 1089, 49]\n"
     ]
    }
   ],
   "source": [
    "L = [1,324,33,500,7]\n",
    "SL = [i*i for i in L if i < 100]\n",
    "print(L)\n",
    "print(SL)"
   ]
  },
  {
   "cell_type": "code",
   "execution_count": 13,
   "id": "2ff48047",
   "metadata": {},
   "outputs": [
    {
     "name": "stdout",
     "output_type": "stream",
     "text": [
      "[[1, 2, 3], [4, 5, 6], [7, 8, 9]]\n",
      "[1, 2, 3, 4, 5, 6, 7, 8, 9]\n"
     ]
    }
   ],
   "source": [
    "L = [[1,2,3],[4,5,6],[7,8,9]]\n",
    "SL = list()\n",
    "\n",
    "for i in L:\n",
    "    for j in i:\n",
    "        SL.append(j)\n",
    "print(L)\n",
    "print(SL)"
   ]
  },
  {
   "cell_type": "code",
   "execution_count": 21,
   "id": "1a38ec6d",
   "metadata": {},
   "outputs": [
    {
     "name": "stdout",
     "output_type": "stream",
     "text": [
      "[[1, 2, 3], [4, 5, 6], [7, 8, 9]]\n",
      "[1, 2, 3, 4, 5, 6, 7, 8, 9]\n"
     ]
    }
   ],
   "source": [
    "L = [[1,2,3],[4,5,6],[7,8,9]]\n",
    "SL = [j for i in L for j in i]\n",
    "\n",
    "print(L)\n",
    "print(SL)"
   ]
  },
  {
   "cell_type": "code",
   "execution_count": 25,
   "id": "8d64098e",
   "metadata": {},
   "outputs": [
    {
     "name": "stdout",
     "output_type": "stream",
     "text": [
      "[[1, 2, 3, 55, 66, 86], [4, 5, 6, 10], [7, 8, 9, 20, 20, 90]]\n",
      "[1, 2, 3, 55, 66, 86, 7, 8, 9, 20, 20, 90]\n"
     ]
    }
   ],
   "source": [
    "L = [[1,2,3,55,66,86],[4,5,6,10],[7,8,9,20,20,90]]\n",
    "SL = list()\n",
    "for i in L:\n",
    "    if len(i) > 4:\n",
    "        for j in i:\n",
    "            SL.append(j)\n",
    "            \n",
    "print(L)\n",
    "print(SL)"
   ]
  },
  {
   "cell_type": "code",
   "execution_count": 24,
   "id": "9719b000",
   "metadata": {},
   "outputs": [
    {
     "name": "stdout",
     "output_type": "stream",
     "text": [
      "[[1, 2, 3, 55, 66, 86], [4, 5, 6, 10], [7, 8, 9, 20, 20, 90]]\n",
      "[1, 2, 3, 55, 66, 86, 7, 8, 9, 20, 20, 90]\n"
     ]
    }
   ],
   "source": [
    "L = [[1,2,3,55,66,86],[4,5,6,10],[7,8,9,20,20,90]]\n",
    "SL = [j for i in L if len(i) > 4 for j in i]\n",
    "print(L)\n",
    "print(SL)"
   ]
  },
  {
   "cell_type": "code",
   "execution_count": 26,
   "id": "67c75dde",
   "metadata": {},
   "outputs": [
    {
     "name": "stdout",
     "output_type": "stream",
     "text": [
      "[[1, 2, 3, 55, 66, 86], [4, 5, 6, 10], [7, 8, 9, 20, 20, 90]]\n",
      "[[1, 2, 3, 55, 66, 86], [7, 8, 9, 20, 20, 90]]\n"
     ]
    }
   ],
   "source": [
    "L = [[1,2,3,55,66,86],[4,5,6,10],[7,8,9,20,20,90]]\n",
    "SL = [i for i in L if len(i) > 4 ]\n",
    "            \n",
    "print(L)\n",
    "print(SL)"
   ]
  },
  {
   "cell_type": "code",
   "execution_count": null,
   "id": "0edc357a",
   "metadata": {},
   "outputs": [],
   "source": [
    "L = [10,45,34,23,643,2,4,34]\n",
    "SL = [num for i in L ]"
   ]
  },
  {
   "cell_type": "code",
   "execution_count": 55,
   "id": "5c9f11a1",
   "metadata": {},
   "outputs": [
    {
     "name": "stdout",
     "output_type": "stream",
     "text": [
      "[[1, 2, 3], [1, 2, 3], [1, 2, 3], [1, 2, 3]]\n"
     ]
    }
   ],
   "source": [
    "# L = [[1,2,3],[4,5,6],[7,8,9]]\n",
    "SL = [ [i for i in range(1,4)] for j in range(1,5) ]\n",
    "#L = [i for i in range(1,10,3) for j in range(i,i+3) ]\n",
    "print(SL)"
   ]
  },
  {
   "cell_type": "code",
   "execution_count": 49,
   "id": "4f5923f6",
   "metadata": {},
   "outputs": [
    {
     "name": "stdout",
     "output_type": "stream",
     "text": [
      "[[1, 2, 3], [4, 5, 6], [7, 8, 9]]\n"
     ]
    }
   ],
   "source": [
    "L = list()\n",
    "SL = list()\n",
    "for i in range(1,10,3):\n",
    "    for j in range(i,i+3):\n",
    "        SL.append(j)\n",
    "    L.append(SL)\n",
    "    SL = []\n",
    "print(L)"
   ]
  },
  {
   "cell_type": "code",
   "execution_count": 59,
   "id": "a1e95f6b",
   "metadata": {},
   "outputs": [
    {
     "name": "stdout",
     "output_type": "stream",
     "text": [
      "[[1, 2, 3, 4, 5, 6, 7, 8, 9], [1, 2, 3, 4, 5, 6, 7, 8, 9], [1, 2, 3, 4, 5, 6, 7, 8, 9]]\n"
     ]
    }
   ],
   "source": [
    "L = [ [k for j in range(1,10,3) for k in range(j,j+3)] for i in range(1,4) ]\n",
    "print(L)"
   ]
  },
  {
   "cell_type": "code",
   "execution_count": 62,
   "id": "c7137907",
   "metadata": {},
   "outputs": [
    {
     "name": "stdout",
     "output_type": "stream",
     "text": [
      "[[1, 2, 3, 4, 5, 6, 7, 8, 9], [1, 2, 3, 4, 5, 6, 7, 8, 9], [1, 2, 3, 4, 5, 6, 7, 8, 9]]\n"
     ]
    }
   ],
   "source": [
    "L = [ [k for j in range(1,10,3) for k in range(j,j+3)] for i in range(1,4) ]\n",
    "print(L)"
   ]
  },
  {
   "cell_type": "code",
   "execution_count": 9,
   "id": "43315cf2",
   "metadata": {},
   "outputs": [
    {
     "name": "stdout",
     "output_type": "stream",
     "text": [
      "[['a', 3], ['a', 5], ['b', 3], ['b', 5], ['c', 3], ['c', 5]]\n",
      "[['a', 3], ['a', 5], ['b', 3], ['b', 5], ['c', 3], ['c', 5]]\n"
     ]
    }
   ],
   "source": [
    "L1 = [\"a\",\"b\",\"c\"]\n",
    "L2 = [3,5]\n",
    "L3 = [ [i,j] for i in L1 for j in L2]\n",
    "L4 = list()\n",
    "for i in L1:\n",
    "    for j in L2:\n",
    "        L4.append([i,j])\n",
    "print(L3)\n",
    "print(L4)"
   ]
  },
  {
   "cell_type": "code",
   "execution_count": 12,
   "id": "f1ff3bf7",
   "metadata": {},
   "outputs": [
    {
     "name": "stdout",
     "output_type": "stream",
     "text": [
      "[[1, 2, 3], [4, 5, 6], [7, 8, 9]]\n"
     ]
    }
   ],
   "source": [
    "L = [ [j for j in range(i,i+3)] for i in range(1,10,3)]\n",
    "print(L)"
   ]
  },
  {
   "cell_type": "code",
   "execution_count": 13,
   "id": "5524cdef",
   "metadata": {},
   "outputs": [
    {
     "name": "stdout",
     "output_type": "stream",
     "text": [
      "[0, 2, 4, 6, 8, 10, 12, 14, 16, 18, 20]\n"
     ]
    }
   ],
   "source": [
    "#Create a list comprehension that generates a list of even numbers from 1 to 20.\n",
    "L = [i for i in range(0,21,2)]\n",
    "print(L)"
   ]
  },
  {
   "cell_type": "code",
   "execution_count": 14,
   "id": "ac460bd7",
   "metadata": {},
   "outputs": [
    {
     "name": "stdout",
     "output_type": "stream",
     "text": [
      "[1, 4, 9, 16, 25]\n"
     ]
    }
   ],
   "source": [
    "#Write a list comprehension to square each element of the given list.\n",
    "L = [1,2,3,4,5]\n",
    "SL = [i*i for i in L]\n",
    "print(SL)"
   ]
  },
  {
   "cell_type": "code",
   "execution_count": 20,
   "id": "6ec3be96",
   "metadata": {},
   "outputs": [
    {
     "name": "stdout",
     "output_type": "stream",
     "text": [
      "['e', 'o', 'o', 'a', 'i', 'a', 'u', 'a', 'e']\n"
     ]
    }
   ],
   "source": [
    "#Use list comprehension to extract all the vowels from a given string.\n",
    "S = \"Hello Programming Language\"\n",
    "V = [\"a\",\"e\",\"i\",\"o\",\"u\"]\n",
    "L = [i for i in S if i in V]\n",
    "print(L)"
   ]
  },
  {
   "cell_type": "code",
   "execution_count": 22,
   "id": "4ab5278d",
   "metadata": {},
   "outputs": [
    {
     "name": "stdout",
     "output_type": "stream",
     "text": [
      "[9, 36, 81, 144, 225, 324, 441, 576, 729, 900, 1089, 1296, 1521, 1764, 2025, 2304, 2601, 2916, 3249, 3600, 3969, 4356, 4761, 5184, 5625, 6084, 6561, 7056, 7569, 8100, 8649, 9216, 9801]\n"
     ]
    }
   ],
   "source": [
    "#Generate a list comprehension that contains the squares of numbers divisible by 3 from 1 to 100.\n",
    "L = [i*i for i in range(1,101) if i*i%3==0]\n",
    "print(L)"
   ]
  },
  {
   "cell_type": "code",
   "execution_count": 25,
   "id": "19b3af00",
   "metadata": {},
   "outputs": [
    {
     "name": "stdout",
     "output_type": "stream",
     "text": [
      "[3, 1, 3, 6, 5]\n"
     ]
    }
   ],
   "source": [
    "#Create a list comprehension that converts a list of strings to a list of their lengths.\n",
    "L = [\"AAA\",\"B\",\"BCC\",\"akdsfj\",\"sfjei\"]\n",
    "SL = [len(i) for i in L]\n",
    "print(SL)"
   ]
  },
  {
   "cell_type": "code",
   "execution_count": 37,
   "id": "41a5c6a9",
   "metadata": {},
   "outputs": [
    {
     "name": "stdout",
     "output_type": "stream",
     "text": [
      "[1, 2, 3, 5, 7, 11, 13, 17, 19, 23, 29, 31, 37, 41, 43, 47]\n"
     ]
    }
   ],
   "source": [
    "#Use list comprehension to filter out all the prime numbers from a list of integers.\n",
    "L = list(range(1,50))\n",
    "SL = [i for i in L if all(i%j!=0 for j in range(2,i))]\n",
    "print(SL)"
   ]
  },
  {
   "cell_type": "code",
   "execution_count": 41,
   "id": "2750bba8",
   "metadata": {},
   "outputs": [
    {
     "name": "stdout",
     "output_type": "stream",
     "text": [
      "['AAA', 'BBB', 'CCC']\n"
     ]
    }
   ],
   "source": [
    "L = [\"AAA\",\"BBB\",\"CCC\"]\n",
    "L.sort()\n",
    "print(L)"
   ]
  },
  {
   "cell_type": "code",
   "execution_count": 46,
   "id": "f0cf428f",
   "metadata": {},
   "outputs": [
    {
     "name": "stdout",
     "output_type": "stream",
     "text": [
      "[1, 2, 3, 1, 2, 3, 1, 2, 3, 1, 2, 3, 1, 2, 3]\n"
     ]
    }
   ],
   "source": [
    "L = [1,2,3]\n",
    "n = 5\n",
    "SL = [j for i in range(n) for j in L]\n",
    "print(SL)"
   ]
  },
  {
   "cell_type": "code",
   "execution_count": 49,
   "id": "3e824859",
   "metadata": {},
   "outputs": [
    {
     "name": "stdout",
     "output_type": "stream",
     "text": [
      "11\n"
     ]
    }
   ],
   "source": [
    "L = [\"Pune\",\"Mumbai\",\"lksdjfsodjf\",\"Delhi\"]\n",
    "length = len(L[0])\n",
    "for i in L: \n",
    "    if len(i) > length:\n",
    "        length = len(i)\n",
    "print(length)"
   ]
  },
  {
   "cell_type": "code",
   "execution_count": 53,
   "id": "840ad5e5",
   "metadata": {},
   "outputs": [
    {
     "name": "stdout",
     "output_type": "stream",
     "text": [
      "['India', 'Country']\n"
     ]
    }
   ],
   "source": [
    "s = \"India is my Country\"\n",
    "n = 3\n",
    "L = [i for i in s.split() if len(i)>n]\n",
    "print(L)"
   ]
  },
  {
   "cell_type": "code",
   "execution_count": null,
   "id": "09353f88",
   "metadata": {},
   "outputs": [],
   "source": []
  },
  {
   "cell_type": "code",
   "execution_count": null,
   "id": "8b50a4d3",
   "metadata": {},
   "outputs": [],
   "source": []
  },
  {
   "cell_type": "code",
   "execution_count": null,
   "id": "b000b3e2",
   "metadata": {},
   "outputs": [],
   "source": []
  },
  {
   "cell_type": "code",
   "execution_count": null,
   "id": "c3959bbc",
   "metadata": {},
   "outputs": [],
   "source": []
  }
 ],
 "metadata": {
  "kernelspec": {
   "display_name": "Python 3 (ipykernel)",
   "language": "python",
   "name": "python3"
  },
  "language_info": {
   "codemirror_mode": {
    "name": "ipython",
    "version": 3
   },
   "file_extension": ".py",
   "mimetype": "text/x-python",
   "name": "python",
   "nbconvert_exporter": "python",
   "pygments_lexer": "ipython3",
   "version": "3.8.10"
  }
 },
 "nbformat": 4,
 "nbformat_minor": 5
}
