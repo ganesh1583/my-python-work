{
 "cells": [
  {
   "cell_type": "code",
   "execution_count": null,
   "id": "e61c2003",
   "metadata": {},
   "outputs": [],
   "source": [
    "#Dict Type"
   ]
  },
  {
   "cell_type": "code",
   "execution_count": 1,
   "id": "c11e8e51",
   "metadata": {},
   "outputs": [
    {
     "name": "stdout",
     "output_type": "stream",
     "text": [
      "<class 'dict'>\n",
      "{'k1': 'v1', 'k2': 'v2', 'k3': 'v3'}\n"
     ]
    }
   ],
   "source": [
    "d = {\"k1\" : \"v1\", \"k2\" : \"v2\", \"k3\" : \"v3\"}\n",
    "print(type(d))\n",
    "print(d)"
   ]
  },
  {
   "cell_type": "code",
   "execution_count": 8,
   "id": "92274e73",
   "metadata": {},
   "outputs": [
    {
     "name": "stdout",
     "output_type": "stream",
     "text": [
      "{11: 'AA', 22: 'BB', 33: 'CC'}\n",
      "AA\n",
      "{11: 'AA', 22: 'BB', 33: 'DD'}\n"
     ]
    }
   ],
   "source": [
    "d = {11:\"AA\",22:\"BB\",33:\"CC\"}\n",
    "print(d)\n",
    "print(d[11])\n",
    "d[33] = \"DD\"\n",
    "print(d)\n"
   ]
  },
  {
   "cell_type": "code",
   "execution_count": 19,
   "id": "4780ce1d",
   "metadata": {},
   "outputs": [
    {
     "name": "stdout",
     "output_type": "stream",
     "text": [
      "{11: 123, 22: 456, 33: 789}\n",
      "139959900706496\n",
      "139959900706496\n",
      "{11: 1234, 22: 456, 33: 789}\n"
     ]
    }
   ],
   "source": [
    "d = {11:123,22:456,33:789}\n",
    "print(d)\n",
    "print(id(d))\n",
    "d[11] = 1234\n",
    "print(id(d))\n",
    "print(d)"
   ]
  },
  {
   "cell_type": "code",
   "execution_count": 23,
   "id": "abe31179",
   "metadata": {},
   "outputs": [
    {
     "name": "stdout",
     "output_type": "stream",
     "text": [
      "<generator object <genexpr> at 0x7f4ad6f5c970>\n"
     ]
    }
   ],
   "source": [
    "t = (i for i in range(5))\n",
    "\n",
    "print(t)"
   ]
  },
  {
   "cell_type": "code",
   "execution_count": null,
   "id": "8fc98e51",
   "metadata": {},
   "outputs": [],
   "source": [
    "Dict Comprehension"
   ]
  },
  {
   "cell_type": "code",
   "execution_count": 41,
   "id": "548c9e37",
   "metadata": {},
   "outputs": [
    {
     "name": "stdout",
     "output_type": "stream",
     "text": [
      "Enter limit : 12\n",
      "{0: 11, 1: 11, 2: 11, 3: 11, 4: 11, 5: 11, 6: 11, 7: 11, 8: 11, 9: 11, 10: 11}\n",
      "<class 'dict'>\n"
     ]
    }
   ],
   "source": [
    "n = int(input(\"Enter limit : \"))\n",
    "D = {j : i for i in range(n) for j in range(i)}\n",
    "print(D)\n",
    "print(type(D))"
   ]
  },
  {
   "cell_type": "code",
   "execution_count": 34,
   "id": "460e3202",
   "metadata": {},
   "outputs": [
    {
     "name": "stdout",
     "output_type": "stream",
     "text": [
      "Enter n : 6\n",
      "[0, 1, 2, 3, 5]\n",
      "[0, 1, 2, 3, 5]\n"
     ]
    }
   ],
   "source": [
    "n = int(input(\"Enter n : \"))\n",
    "L = [i for i in range(n) if all(i%j!=0 for j in range(2,i))]\n",
    "SL = [i for i in range(n) if all(i%j!=0 for j in range(2,i))]\n",
    "print(L)\n",
    "print(SL)"
   ]
  },
  {
   "cell_type": "code",
   "execution_count": 46,
   "id": "ca1f5996",
   "metadata": {},
   "outputs": [
    {
     "name": "stdout",
     "output_type": "stream",
     "text": [
      "{0, 1, 2, 3, 4}\n",
      "[0, 1, 2, 3, 4]\n"
     ]
    }
   ],
   "source": [
    "d = {i for i in range(5)}\n",
    "print(d)\n",
    "s = sorted(d)\n",
    "print(s)"
   ]
  },
  {
   "cell_type": "code",
   "execution_count": 47,
   "id": "a88b1f15",
   "metadata": {},
   "outputs": [
    {
     "name": "stdout",
     "output_type": "stream",
     "text": [
      "Help on built-in function sorted in module builtins:\n",
      "\n",
      "sorted(iterable, /, *, key=None, reverse=False)\n",
      "    Return a new list containing all items from the iterable in ascending order.\n",
      "    \n",
      "    A custom key function can be supplied to customize the sort order, and the\n",
      "    reverse flag can be set to request the result in descending order.\n",
      "\n"
     ]
    }
   ],
   "source": [
    "help(sorted)\n",
    "\n"
   ]
  },
  {
   "cell_type": "code",
   "execution_count": 59,
   "id": "505640cc",
   "metadata": {},
   "outputs": [
    {
     "name": "stdout",
     "output_type": "stream",
     "text": [
      "6591627001642629966\n"
     ]
    }
   ],
   "source": [
    "a = (11,22)\n",
    "print(hash(a))"
   ]
  },
  {
   "cell_type": "code",
   "execution_count": 60,
   "id": "632fb997",
   "metadata": {},
   "outputs": [
    {
     "name": "stdout",
     "output_type": "stream",
     "text": [
      "Help on built-in function hash in module builtins:\n",
      "\n",
      "hash(obj, /)\n",
      "    Return the hash value for the given object.\n",
      "    \n",
      "    Two objects that compare equal must also have the same hash value, but the\n",
      "    reverse is not necessarily true.\n",
      "\n"
     ]
    }
   ],
   "source": [
    "help(hash)"
   ]
  },
  {
   "cell_type": "code",
   "execution_count": null,
   "id": "f85ab4ee",
   "metadata": {},
   "outputs": [],
   "source": []
  },
  {
   "cell_type": "code",
   "execution_count": null,
   "id": "74a503d9",
   "metadata": {},
   "outputs": [],
   "source": []
  }
 ],
 "metadata": {
  "kernelspec": {
   "display_name": "Python 3 (ipykernel)",
   "language": "python",
   "name": "python3"
  },
  "language_info": {
   "codemirror_mode": {
    "name": "ipython",
    "version": 3
   },
   "file_extension": ".py",
   "mimetype": "text/x-python",
   "name": "python",
   "nbconvert_exporter": "python",
   "pygments_lexer": "ipython3",
   "version": "3.8.10"
  }
 },
 "nbformat": 4,
 "nbformat_minor": 5
}
