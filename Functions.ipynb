{
 "cells": [
  {
   "cell_type": "code",
   "execution_count": null,
   "id": "61d8816c",
   "metadata": {},
   "outputs": [],
   "source": [
    "#Functions in python"
   ]
  },
  {
   "cell_type": "code",
   "execution_count": 1,
   "id": "916e56e4",
   "metadata": {},
   "outputs": [
    {
     "name": "stdout",
     "output_type": "stream",
     "text": [
      "I am in display\n"
     ]
    }
   ],
   "source": [
    "def display():\n",
    "    print(\"I am in display\")\n",
    "    \n",
    "display()"
   ]
  },
  {
   "cell_type": "code",
   "execution_count": 2,
   "id": "f789d4f9",
   "metadata": {},
   "outputs": [
    {
     "name": "stdout",
     "output_type": "stream",
     "text": [
      "{'__name__': '__main__', '__doc__': 'Automatically created module for IPython interactive environment', '__package__': None, '__loader__': None, '__spec__': None, '__builtin__': <module 'builtins' (built-in)>, '__builtins__': <module 'builtins' (built-in)>, '_ih': ['', 'def display():\\n    print(\"I am in display\")\\n    \\ndisplay()', 'print(globals())'], '_oh': {}, '_dh': [PosixPath('/home/lenovo/Desktop/Python')], 'In': ['', 'def display():\\n    print(\"I am in display\")\\n    \\ndisplay()', 'print(globals())'], 'Out': {}, 'get_ipython': <bound method InteractiveShell.get_ipython of <ipykernel.zmqshell.ZMQInteractiveShell object at 0x7f3c59b590d0>>, 'exit': <IPython.core.autocall.ZMQExitAutocall object at 0x7f3c59b59f10>, 'quit': <IPython.core.autocall.ZMQExitAutocall object at 0x7f3c59b59f10>, 'open': <function open at 0x7f3c5bd96f70>, '_': '', '__': '', '___': '', '_i': 'def display():\\n    print(\"I am in display\")\\n    \\ndisplay()', '_ii': '', '_iii': '', '_i1': 'def display():\\n    print(\"I am in display\")\\n    \\ndisplay()', 'display': <function display at 0x7f3c48b021f0>, '_i2': 'print(globals())'}\n"
     ]
    }
   ],
   "source": [
    "print(globals())"
   ]
  },
  {
   "cell_type": "code",
   "execution_count": 5,
   "id": "6f6e455b",
   "metadata": {},
   "outputs": [
    {
     "name": "stdout",
     "output_type": "stream",
     "text": [
      "6\n"
     ]
    }
   ],
   "source": [
    "L = [1,2,3]\n",
    "print(sum(L))"
   ]
  },
  {
   "cell_type": "code",
   "execution_count": 8,
   "id": "7fdbf67f",
   "metadata": {},
   "outputs": [
    {
     "name": "stdout",
     "output_type": "stream",
     "text": [
      "Sum :  5\n"
     ]
    },
    {
     "ename": "TypeError",
     "evalue": "add() takes 2 positional arguments but 3 were given",
     "output_type": "error",
     "traceback": [
      "\u001b[0;31m---------------------------------------------------------------------------\u001b[0m",
      "\u001b[0;31mTypeError\u001b[0m                                 Traceback (most recent call last)",
      "Cell \u001b[0;32mIn[8], line 5\u001b[0m\n\u001b[1;32m      2\u001b[0m     \u001b[38;5;28mprint\u001b[39m(\u001b[38;5;124m\"\u001b[39m\u001b[38;5;124mSum : \u001b[39m\u001b[38;5;124m\"\u001b[39m,a\u001b[38;5;241m+\u001b[39mb)\n\u001b[1;32m      4\u001b[0m add(\u001b[38;5;241m2\u001b[39m,\u001b[38;5;241m3\u001b[39m)\n\u001b[0;32m----> 5\u001b[0m \u001b[43madd\u001b[49m\u001b[43m(\u001b[49m\u001b[38;5;241;43m1\u001b[39;49m\u001b[43m,\u001b[49m\u001b[38;5;241;43m2\u001b[39;49m\u001b[43m,\u001b[49m\u001b[38;5;241;43m3\u001b[39;49m\u001b[43m)\u001b[49m\n",
      "\u001b[0;31mTypeError\u001b[0m: add() takes 2 positional arguments but 3 were given"
     ]
    }
   ],
   "source": [
    "def add(a,b):\n",
    "    print(\"Sum : \",a+b)\n",
    "    \n",
    "add(2,3)\n",
    "add(1,2,3)"
   ]
  },
  {
   "cell_type": "code",
   "execution_count": 12,
   "id": "2b228831",
   "metadata": {},
   "outputs": [
    {
     "name": "stdout",
     "output_type": "stream",
     "text": [
      "Sum :  3\n",
      "Sum :  4\n",
      "Sum :  3\n"
     ]
    }
   ],
   "source": [
    "def add(a=1,b=2):\n",
    "    print(\"Sum : \",a+b)\n",
    "add()\n",
    "add(2)\n",
    "add(1,2)"
   ]
  },
  {
   "cell_type": "code",
   "execution_count": 15,
   "id": "f3b9033c",
   "metadata": {},
   "outputs": [
    {
     "name": "stdout",
     "output_type": "stream",
     "text": [
      "Sum :  4\n",
      "Sum :  3\n"
     ]
    }
   ],
   "source": [
    "def add(a,b=2):\n",
    "    print(\"Sum : \",a+b)\n",
    "\n",
    "add(2)\n",
    "add(1,2)"
   ]
  },
  {
   "cell_type": "code",
   "execution_count": 16,
   "id": "bd3f885e",
   "metadata": {},
   "outputs": [
    {
     "ename": "SyntaxError",
     "evalue": "non-default argument follows default argument (2704259976.py, line 1)",
     "output_type": "error",
     "traceback": [
      "\u001b[0;36m  Cell \u001b[0;32mIn[16], line 1\u001b[0;36m\u001b[0m\n\u001b[0;31m    def add(b=2,a):\u001b[0m\n\u001b[0m            ^\u001b[0m\n\u001b[0;31mSyntaxError\u001b[0m\u001b[0;31m:\u001b[0m non-default argument follows default argument\n"
     ]
    }
   ],
   "source": [
    "def add(b=2,a):\n",
    "    print(\"Sum : \",a+b)\n",
    "\n",
    "add(2)\n",
    "add(1,2)"
   ]
  },
  {
   "cell_type": "code",
   "execution_count": 26,
   "id": "2dac3289",
   "metadata": {},
   "outputs": [
    {
     "name": "stdout",
     "output_type": "stream",
     "text": [
      "a :  1 b:  2\n"
     ]
    }
   ],
   "source": [
    "def add(a,b=2):\n",
    "    print(\"a : \",a,\"b: \",b)\n",
    "add(a=1)"
   ]
  },
  {
   "cell_type": "code",
   "execution_count": 31,
   "id": "0ca62c10",
   "metadata": {},
   "outputs": [
    {
     "name": "stdout",
     "output_type": "stream",
     "text": [
      "sum :  0\n",
      "sum :  2\n",
      "sum :  3\n",
      "sum :  45\n"
     ]
    }
   ],
   "source": [
    "def add(*a):\n",
    "    s = 0\n",
    "    for i in a:\n",
    "        s+=i\n",
    "    print(\"sum : \",s)\n",
    "add()\n",
    "add(2)\n",
    "add(1,2)\n",
    "add(1,2,3,4,5,6,7,8,9)"
   ]
  },
  {
   "cell_type": "code",
   "execution_count": 32,
   "id": "6326ec16",
   "metadata": {},
   "outputs": [
    {
     "name": "stdout",
     "output_type": "stream",
     "text": [
      "<class 'tuple'>\n",
      "(1, 9)\n"
     ]
    }
   ],
   "source": [
    "def add(*a):\n",
    "    print(type(a))\n",
    "    print(a)\n",
    "add(1,9)"
   ]
  },
  {
   "cell_type": "code",
   "execution_count": 60,
   "id": "2cc8b012",
   "metadata": {},
   "outputs": [
    {
     "name": "stdout",
     "output_type": "stream",
     "text": [
      "{'a': 11, 'b': 12, 'c': 13}\n",
      "sum :  36\n"
     ]
    }
   ],
   "source": [
    "def add(**a):\n",
    "    print(a)\n",
    "    s = 0\n",
    "    for i in a:\n",
    "        s += a[i]\n",
    "    print(\"sum : \",s)\n",
    "    \n",
    "add(a=11,b=12,c=13)"
   ]
  },
  {
   "cell_type": "code",
   "execution_count": 59,
   "id": "0801860f",
   "metadata": {},
   "outputs": [
    {
     "name": "stdout",
     "output_type": "stream",
     "text": [
      "{'a': 11, 'b': 12, 'c': 13}\n",
      "a -> 11\n",
      "b -> 12\n",
      "c -> 13\n"
     ]
    }
   ],
   "source": [
    "d = {\"a\":11,\"b\":12,\"c\":13}\n",
    "print(d)\n",
    "for i in d:\n",
    "    print(i,\"->\",d[i])"
   ]
  },
  {
   "cell_type": "code",
   "execution_count": null,
   "id": "fa42b472",
   "metadata": {},
   "outputs": [],
   "source": [
    "#lamda function"
   ]
  },
  {
   "cell_type": "code",
   "execution_count": 65,
   "id": "a332ce9a",
   "metadata": {},
   "outputs": [
    {
     "name": "stdout",
     "output_type": "stream",
     "text": [
      "1\n"
     ]
    }
   ],
   "source": [
    "show = lambda m : print(m)\n",
    "show(1)"
   ]
  },
  {
   "cell_type": "code",
   "execution_count": 67,
   "id": "80d5f507",
   "metadata": {},
   "outputs": [
    {
     "name": "stdout",
     "output_type": "stream",
     "text": [
      "Hello World\n"
     ]
    }
   ],
   "source": [
    "display =lambda : print(\"Hello World\")\n",
    "display()"
   ]
  },
  {
   "cell_type": "code",
   "execution_count": 72,
   "id": "c86641ad",
   "metadata": {},
   "outputs": [
    {
     "name": "stdout",
     "output_type": "stream",
     "text": [
      "2\n",
      "14\n",
      "2\n"
     ]
    }
   ],
   "source": [
    "maximum = lambda a,b : a if a > b else b\n",
    "print(maximum(2,1))\n",
    "print(maximum(2,14))\n",
    "print(maximum(2,2))"
   ]
  },
  {
   "cell_type": "code",
   "execution_count": 1,
   "id": "d9e5d920",
   "metadata": {},
   "outputs": [
    {
     "name": "stdout",
     "output_type": "stream",
     "text": [
      "<class 'function'>\n"
     ]
    }
   ],
   "source": [
    "def display():\n",
    "    pass\n",
    "print(type(display))"
   ]
  },
  {
   "cell_type": "code",
   "execution_count": 16,
   "id": "d21bbb3c",
   "metadata": {},
   "outputs": [
    {
     "name": "stdout",
     "output_type": "stream",
     "text": [
      "<class 'generator'>\n",
      "gan\n",
      "pat\n"
     ]
    }
   ],
   "source": [
    "def display():\n",
    "    yield \"gan\"\n",
    "    yield \"pat\"\n",
    "    \n",
    "g = display()\n",
    "print(type(g))\n",
    "\n",
    "print(next(g))\n",
    "print(next(g))\n"
   ]
  },
  {
   "cell_type": "code",
   "execution_count": 15,
   "id": "d75bba1b",
   "metadata": {},
   "outputs": [
    {
     "name": "stdout",
     "output_type": "stream",
     "text": [
      "<class 'generator'>\n",
      "gan\n",
      "pat\n"
     ]
    }
   ],
   "source": [
    "def display():\n",
    "    yield \"gan\"\n",
    "    yield \"pat\"\n",
    "    \n",
    "g = display()\n",
    "print(type(g))\n",
    "\n",
    "for i in g:\n",
    "    print(i)"
   ]
  },
  {
   "cell_type": "code",
   "execution_count": 18,
   "id": "cd3240da",
   "metadata": {},
   "outputs": [
    {
     "name": "stdout",
     "output_type": "stream",
     "text": [
      "[1, 3]\n"
     ]
    }
   ],
   "source": [
    "#Same function like range\n",
    "\n",
    "def display(a,b,s):\n",
    "    i = a\n",
    "    while i<b:\n",
    "        yield i\n",
    "        i = i + s\n",
    "\n",
    "L = list(display(1,5,2))\n",
    "print(L)"
   ]
  },
  {
   "cell_type": "code",
   "execution_count": 26,
   "id": "e59ed768",
   "metadata": {},
   "outputs": [
    {
     "name": "stdout",
     "output_type": "stream",
     "text": [
      "[1, 3]\n",
      "[0]\n"
     ]
    }
   ],
   "source": [
    "#Same function like range\n",
    "\n",
    "def display(a=0,b=0,s=1):\n",
    "    i = a\n",
    "    while i<b:\n",
    "        yield i\n",
    "        i = i + s\n",
    "\n",
    "L = list(display(1,5,2))\n",
    "print(L)\n",
    "\n",
    "L = list(display(0,4,12))\n",
    "print(L)"
   ]
  },
  {
   "cell_type": "code",
   "execution_count": 4,
   "id": "eea7fc48",
   "metadata": {},
   "outputs": [
    {
     "name": "stdout",
     "output_type": "stream",
     "text": [
      "Factorial :  24\n"
     ]
    }
   ],
   "source": [
    "#Factorial\n",
    "def factorial(n):\n",
    "    if n==0:\n",
    "        return 1\n",
    "    return n * factorial(n-1)\n",
    "    \n",
    "\n",
    "print(\"Factorial : \",factorial(4))\n"
   ]
  },
  {
   "cell_type": "code",
   "execution_count": 5,
   "id": "d575b643",
   "metadata": {},
   "outputs": [
    {
     "name": "stdout",
     "output_type": "stream",
     "text": [
      "6\n"
     ]
    }
   ],
   "source": [
    "#Factorial\n",
    "def factorial(a):\n",
    "    if a==0:\n",
    "        return 1\n",
    "    return a * factorial(a-1)\n",
    "    \n",
    "\n",
    "ans = factorial(3)\n",
    "print(ans)"
   ]
  },
  {
   "cell_type": "code",
   "execution_count": 9,
   "id": "f8ab3c63",
   "metadata": {},
   "outputs": [
    {
     "name": "stdout",
     "output_type": "stream",
     "text": [
      "[30, 70]\n"
     ]
    }
   ],
   "source": [
    "L = list()\n",
    "LT = ((10,20),(30,40))\n",
    "for i in LT:\n",
    "    L.append(i[0]+i[1])\n",
    "print(L)"
   ]
  },
  {
   "cell_type": "code",
   "execution_count": 13,
   "id": "7a081307",
   "metadata": {},
   "outputs": [
    {
     "name": "stdout",
     "output_type": "stream",
     "text": [
      "[30, 70]\n"
     ]
    }
   ],
   "source": [
    "LT = ((10,20),(30,40))\n",
    "L = [i[0]+i[1] for i in LT]\n",
    "print(L)"
   ]
  },
  {
   "cell_type": "code",
   "execution_count": 3,
   "id": "bb0480f2",
   "metadata": {},
   "outputs": [
    {
     "name": "stdout",
     "output_type": "stream",
     "text": [
      "I am in display\n"
     ]
    }
   ],
   "source": [
    "def display():\n",
    "    print(\"I am in display\")\n",
    "    \n",
    "i = display\n",
    "i()"
   ]
  },
  {
   "cell_type": "code",
   "execution_count": 10,
   "id": "319fb1a2",
   "metadata": {},
   "outputs": [
    {
     "name": "stdout",
     "output_type": "stream",
     "text": [
      "I am in inner function\n"
     ]
    }
   ],
   "source": [
    "def display():\n",
    "    def inner():\n",
    "        print(\"I am in inner function\")\n",
    "    inner()\n",
    "        \n",
    "display()\n"
   ]
  },
  {
   "cell_type": "code",
   "execution_count": 13,
   "id": "7326ac34",
   "metadata": {},
   "outputs": [
    {
     "name": "stdout",
     "output_type": "stream",
     "text": [
      "I am in show\n"
     ]
    }
   ],
   "source": [
    "def show():\n",
    "    print(\"I am in show\")\n",
    "    \n",
    "def display(f):\n",
    "    f()\n",
    "\n",
    "display(show)"
   ]
  },
  {
   "cell_type": "code",
   "execution_count": 18,
   "id": "e6d21237",
   "metadata": {},
   "outputs": [
    {
     "name": "stdout",
     "output_type": "stream",
     "text": [
      "I am in inner function\n"
     ]
    }
   ],
   "source": [
    "def mydecor(f):\n",
    "    def inner():\n",
    "        print(\"I am in inner function\")\n",
    "    return inner\n",
    "\n",
    "@mydecor \n",
    "def display():\n",
    "    print(\"I am in display\")\n",
    "    \n",
    "display()"
   ]
  },
  {
   "cell_type": "code",
   "execution_count": null,
   "id": "2fac316d",
   "metadata": {},
   "outputs": [],
   "source": []
  },
  {
   "cell_type": "code",
   "execution_count": null,
   "id": "55d81b0e",
   "metadata": {},
   "outputs": [],
   "source": []
  },
  {
   "cell_type": "code",
   "execution_count": null,
   "id": "d0651d11",
   "metadata": {},
   "outputs": [],
   "source": []
  },
  {
   "cell_type": "code",
   "execution_count": null,
   "id": "37c9dadf",
   "metadata": {},
   "outputs": [],
   "source": []
  },
  {
   "cell_type": "code",
   "execution_count": null,
   "id": "43c85696",
   "metadata": {},
   "outputs": [],
   "source": []
  }
 ],
 "metadata": {
  "kernelspec": {
   "display_name": "Python 3 (ipykernel)",
   "language": "python",
   "name": "python3"
  },
  "language_info": {
   "codemirror_mode": {
    "name": "ipython",
    "version": 3
   },
   "file_extension": ".py",
   "mimetype": "text/x-python",
   "name": "python",
   "nbconvert_exporter": "python",
   "pygments_lexer": "ipython3",
   "version": "3.8.10"
  }
 },
 "nbformat": 4,
 "nbformat_minor": 5
}
