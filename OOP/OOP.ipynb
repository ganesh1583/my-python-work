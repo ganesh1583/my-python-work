{
 "cells": [
  {
   "cell_type": "code",
   "execution_count": 11,
   "id": "d1e674ce",
   "metadata": {},
   "outputs": [
    {
     "name": "stdout",
     "output_type": "stream",
     "text": [
      "I am in init\n",
      "<class '__main__.Student'>\n"
     ]
    }
   ],
   "source": [
    "class Student:\n",
    "    def __init__(self):\n",
    "        print(\"I am in init\")\n",
    "ob = Student()\n",
    "print(type(ob))"
   ]
  },
  {
   "cell_type": "code",
   "execution_count": 10,
   "id": "cbe076b1",
   "metadata": {},
   "outputs": [
    {
     "name": "stdout",
     "output_type": "stream",
     "text": [
      "Roll No :  101\n",
      "Name :  AAA\n",
      "Percentage :  80\n",
      "{'rno': 101, 'name': 'AAA', 'per': 80, 'city': 'Pune'}\n",
      "<__main__.Student object at 0x7f7f0c6a9ee0>\n"
     ]
    }
   ],
   "source": [
    "class Student:\n",
    "    def __init__(self,rno,name,per):\n",
    "        self.rno = rno\n",
    "        self.name = name\n",
    "        self.per = per\n",
    "    \n",
    "    def display(self):\n",
    "        print(\"Roll No : \",self.rno)\n",
    "        print(\"Name : \",self.name)\n",
    "        print(\"Percentage : \",self.per)\n",
    "        \n",
    "ob = Student(101,\"AAA\",80)\n",
    "ob.display()\n",
    "ob.city = \"Pune\"\n",
    "#ob.display()\n",
    "print(ob.__dict__)\n",
    "print(ob)"
   ]
  },
  {
   "cell_type": "code",
   "execution_count": 13,
   "id": "9d4da6de",
   "metadata": {},
   "outputs": [
    {
     "name": "stdout",
     "output_type": "stream",
     "text": [
      "I am in init\n",
      "{'self': <__main__.Student object at 0x7f7f0c48fcd0>}\n",
      "{'__name__': '__main__', '__doc__': 'Automatically created module for IPython interactive environment', '__package__': None, '__loader__': None, '__spec__': None, '__builtin__': <module 'builtins' (built-in)>, '__builtins__': <module 'builtins' (built-in)>, '_ih': ['', 'class Student:\\n    __init__(self):\\n        print(\"I am in init\")\\nob = Student()', 'class Student:\\n    def __init__(self):\\n        print(\"I am in init\")\\nob = Student()', 'class Student:\\n    def __init__(self,rno,name,per):\\n        self.rno = rno\\n        self.name = name\\n        self.per = per\\n    \\n    def display(self):\\n        print(\"Roll No : \"+rno)\\n        print(\"Roll No : \"+rno)\\n        print(\"Roll No : \"+rno)', 'class Student:\\n    def __init__(self,rno,name,per):\\n        self.rno = rno\\n        self.name = name\\n        self.per = per\\n    \\n    def display(self):\\n        print(\"Roll No : \"+self.rno)\\n        print(\"Name : \"+self.name)\\n        print(\"Percentage : \"+self.per)\\n        \\nob = Student(101,\"AAA\",80)\\nob.display()', 'class Student:\\n    def __init__(self,rno,name,per):\\n        self.rno = rno\\n        self.name = name\\n        self.per = per\\n    \\n    def display(self):\\n        print(\"Roll No : \",self.rno)\\n        print(\"Name : \",self.name)\\n        print(\"Percentage : \",self.per)\\n        \\nob = Student(101,\"AAA\",80)\\nob.display()', 'class Student:\\n    def __init__(self,rno,name,per):\\n        self.rno = rno\\n        self.name = name\\n        self.per = per\\n    \\n    def display(self):\\n        print(\"Roll No : \",self.rno)\\n        print(\"Name : \",self.name)\\n        print(\"Percentage : \",self.per)\\n        \\nob = Student(101,\"AAA\",80)\\nob.display()\\nob.city = \"Pune\"\\nob.display()', 'class Student:\\n    def __init__(self,rno,name,per):\\n        self.rno = rno\\n        self.name = name\\n        self.per = per\\n    \\n    def display(self):\\n        print(\"Roll No : \",self.rno)\\n        print(\"Name : \",self.name)\\n        print(\"Percentage : \",self.per)\\n        \\nob = Student(101,\"AAA\",80)\\nob.display()\\nob.city = \"Pune\"\\n#ob.display()\\nprint(ob.__dict__)', 'class Student:\\n    def __init__(self,rno,name,per):\\n        self.rno = rno\\n        self.name = name\\n        self.per = per\\n    \\n    def display(self):\\n        print(\"Roll No : \",self.rno)\\n        print(\"Name : \",self.name)\\n        print(\"Percentage : \",self.per)\\n        \\nob = Student(101,\"AAA\",80)\\nob.display()\\nob.city = \"Pune\"\\n#ob.display()\\nprint(ob.__dict__)\\nprint(ob)', 'class Student:\\n    def __init__(self,rno,name,per):\\n        self.rno = rno\\n        self.name = name\\n        self.per = per\\n    \\n    def display(self):\\n        print(\"Roll No : \",self.rno)\\n        print(\"Name : \",self.name)\\n        print(\"Percentage : \",self.per)\\n        \\nob = Student(101,\"AAA\",80)\\nob.display()\\nob.city = \"Pune\"\\n#ob.display()\\nprint(ob.__dict__)\\nprint(ob.toString())', 'class Student:\\n    def __init__(self,rno,name,per):\\n        self.rno = rno\\n        self.name = name\\n        self.per = per\\n    \\n    def display(self):\\n        print(\"Roll No : \",self.rno)\\n        print(\"Name : \",self.name)\\n        print(\"Percentage : \",self.per)\\n        \\nob = Student(101,\"AAA\",80)\\nob.display()\\nob.city = \"Pune\"\\n#ob.display()\\nprint(ob.__dict__)\\nprint(ob)', 'class Student:\\n    def __init__(self):\\n        print(\"I am in init\")\\nob = Student()\\nprint(type(ob))', 'class Student:\\n    def __init__(self):\\n        print(\"I am in init\")\\nob = Student()\\nprint(type(ob))', 'class Student:\\n    def __init__(self):\\n        print(\"I am in init\")\\n        print(locals())\\n        print(globals())\\nob = Student()'], '_oh': {}, '_dh': [PosixPath('/home/lenovo/Desktop/Python/OOP')], 'In': ['', 'class Student:\\n    __init__(self):\\n        print(\"I am in init\")\\nob = Student()', 'class Student:\\n    def __init__(self):\\n        print(\"I am in init\")\\nob = Student()', 'class Student:\\n    def __init__(self,rno,name,per):\\n        self.rno = rno\\n        self.name = name\\n        self.per = per\\n    \\n    def display(self):\\n        print(\"Roll No : \"+rno)\\n        print(\"Roll No : \"+rno)\\n        print(\"Roll No : \"+rno)', 'class Student:\\n    def __init__(self,rno,name,per):\\n        self.rno = rno\\n        self.name = name\\n        self.per = per\\n    \\n    def display(self):\\n        print(\"Roll No : \"+self.rno)\\n        print(\"Name : \"+self.name)\\n        print(\"Percentage : \"+self.per)\\n        \\nob = Student(101,\"AAA\",80)\\nob.display()', 'class Student:\\n    def __init__(self,rno,name,per):\\n        self.rno = rno\\n        self.name = name\\n        self.per = per\\n    \\n    def display(self):\\n        print(\"Roll No : \",self.rno)\\n        print(\"Name : \",self.name)\\n        print(\"Percentage : \",self.per)\\n        \\nob = Student(101,\"AAA\",80)\\nob.display()', 'class Student:\\n    def __init__(self,rno,name,per):\\n        self.rno = rno\\n        self.name = name\\n        self.per = per\\n    \\n    def display(self):\\n        print(\"Roll No : \",self.rno)\\n        print(\"Name : \",self.name)\\n        print(\"Percentage : \",self.per)\\n        \\nob = Student(101,\"AAA\",80)\\nob.display()\\nob.city = \"Pune\"\\nob.display()', 'class Student:\\n    def __init__(self,rno,name,per):\\n        self.rno = rno\\n        self.name = name\\n        self.per = per\\n    \\n    def display(self):\\n        print(\"Roll No : \",self.rno)\\n        print(\"Name : \",self.name)\\n        print(\"Percentage : \",self.per)\\n        \\nob = Student(101,\"AAA\",80)\\nob.display()\\nob.city = \"Pune\"\\n#ob.display()\\nprint(ob.__dict__)', 'class Student:\\n    def __init__(self,rno,name,per):\\n        self.rno = rno\\n        self.name = name\\n        self.per = per\\n    \\n    def display(self):\\n        print(\"Roll No : \",self.rno)\\n        print(\"Name : \",self.name)\\n        print(\"Percentage : \",self.per)\\n        \\nob = Student(101,\"AAA\",80)\\nob.display()\\nob.city = \"Pune\"\\n#ob.display()\\nprint(ob.__dict__)\\nprint(ob)', 'class Student:\\n    def __init__(self,rno,name,per):\\n        self.rno = rno\\n        self.name = name\\n        self.per = per\\n    \\n    def display(self):\\n        print(\"Roll No : \",self.rno)\\n        print(\"Name : \",self.name)\\n        print(\"Percentage : \",self.per)\\n        \\nob = Student(101,\"AAA\",80)\\nob.display()\\nob.city = \"Pune\"\\n#ob.display()\\nprint(ob.__dict__)\\nprint(ob.toString())', 'class Student:\\n    def __init__(self,rno,name,per):\\n        self.rno = rno\\n        self.name = name\\n        self.per = per\\n    \\n    def display(self):\\n        print(\"Roll No : \",self.rno)\\n        print(\"Name : \",self.name)\\n        print(\"Percentage : \",self.per)\\n        \\nob = Student(101,\"AAA\",80)\\nob.display()\\nob.city = \"Pune\"\\n#ob.display()\\nprint(ob.__dict__)\\nprint(ob)', 'class Student:\\n    def __init__(self):\\n        print(\"I am in init\")\\nob = Student()\\nprint(type(ob))', 'class Student:\\n    def __init__(self):\\n        print(\"I am in init\")\\nob = Student()\\nprint(type(ob))', 'class Student:\\n    def __init__(self):\\n        print(\"I am in init\")\\n        print(locals())\\n        print(globals())\\nob = Student()'], 'Out': {}, 'get_ipython': <bound method InteractiveShell.get_ipython of <ipykernel.zmqshell.ZMQInteractiveShell object at 0x7f7f0fef22b0>>, 'exit': <IPython.core.autocall.ZMQExitAutocall object at 0x7f7f0ff08130>, 'quit': <IPython.core.autocall.ZMQExitAutocall object at 0x7f7f0ff08130>, 'open': <function open at 0x7f7f1212dee0>, '_': '', '__': '', '___': '', '_i': 'class Student:\\n    def __init__(self):\\n        print(\"I am in init\")\\nob = Student()\\nprint(type(ob))', '_ii': 'class Student:\\n    def __init__(self):\\n        print(\"I am in init\")\\nob = Student()\\nprint(type(ob))', '_iii': 'class Student:\\n    def __init__(self,rno,name,per):\\n        self.rno = rno\\n        self.name = name\\n        self.per = per\\n    \\n    def display(self):\\n        print(\"Roll No : \",self.rno)\\n        print(\"Name : \",self.name)\\n        print(\"Percentage : \",self.per)\\n        \\nob = Student(101,\"AAA\",80)\\nob.display()\\nob.city = \"Pune\"\\n#ob.display()\\nprint(ob.__dict__)\\nprint(ob)', '_i1': 'class Student:\\n    __init__(self):\\n        print(\"I am in init\")\\nob = Student()', '_i2': 'class Student:\\n    def __init__(self):\\n        print(\"I am in init\")\\nob = Student()', 'Student': <class '__main__.Student'>, 'ob': <__main__.Student object at 0x7f7f0c6a9bb0>, '_i3': 'class Student:\\n    def __init__(self,rno,name,per):\\n        self.rno = rno\\n        self.name = name\\n        self.per = per\\n    \\n    def display(self):\\n        print(\"Roll No : \"+rno)\\n        print(\"Roll No : \"+rno)\\n        print(\"Roll No : \"+rno)', '_i4': 'class Student:\\n    def __init__(self,rno,name,per):\\n        self.rno = rno\\n        self.name = name\\n        self.per = per\\n    \\n    def display(self):\\n        print(\"Roll No : \"+self.rno)\\n        print(\"Name : \"+self.name)\\n        print(\"Percentage : \"+self.per)\\n        \\nob = Student(101,\"AAA\",80)\\nob.display()', '_i5': 'class Student:\\n    def __init__(self,rno,name,per):\\n        self.rno = rno\\n        self.name = name\\n        self.per = per\\n    \\n    def display(self):\\n        print(\"Roll No : \",self.rno)\\n        print(\"Name : \",self.name)\\n        print(\"Percentage : \",self.per)\\n        \\nob = Student(101,\"AAA\",80)\\nob.display()', '_i6': 'class Student:\\n    def __init__(self,rno,name,per):\\n        self.rno = rno\\n        self.name = name\\n        self.per = per\\n    \\n    def display(self):\\n        print(\"Roll No : \",self.rno)\\n        print(\"Name : \",self.name)\\n        print(\"Percentage : \",self.per)\\n        \\nob = Student(101,\"AAA\",80)\\nob.display()\\nob.city = \"Pune\"\\nob.display()', '_i7': 'class Student:\\n    def __init__(self,rno,name,per):\\n        self.rno = rno\\n        self.name = name\\n        self.per = per\\n    \\n    def display(self):\\n        print(\"Roll No : \",self.rno)\\n        print(\"Name : \",self.name)\\n        print(\"Percentage : \",self.per)\\n        \\nob = Student(101,\"AAA\",80)\\nob.display()\\nob.city = \"Pune\"\\n#ob.display()\\nprint(ob.__dict__)', '_i8': 'class Student:\\n    def __init__(self,rno,name,per):\\n        self.rno = rno\\n        self.name = name\\n        self.per = per\\n    \\n    def display(self):\\n        print(\"Roll No : \",self.rno)\\n        print(\"Name : \",self.name)\\n        print(\"Percentage : \",self.per)\\n        \\nob = Student(101,\"AAA\",80)\\nob.display()\\nob.city = \"Pune\"\\n#ob.display()\\nprint(ob.__dict__)\\nprint(ob)', '_i9': 'class Student:\\n    def __init__(self,rno,name,per):\\n        self.rno = rno\\n        self.name = name\\n        self.per = per\\n    \\n    def display(self):\\n        print(\"Roll No : \",self.rno)\\n        print(\"Name : \",self.name)\\n        print(\"Percentage : \",self.per)\\n        \\nob = Student(101,\"AAA\",80)\\nob.display()\\nob.city = \"Pune\"\\n#ob.display()\\nprint(ob.__dict__)\\nprint(ob.toString())', '_i10': 'class Student:\\n    def __init__(self,rno,name,per):\\n        self.rno = rno\\n        self.name = name\\n        self.per = per\\n    \\n    def display(self):\\n        print(\"Roll No : \",self.rno)\\n        print(\"Name : \",self.name)\\n        print(\"Percentage : \",self.per)\\n        \\nob = Student(101,\"AAA\",80)\\nob.display()\\nob.city = \"Pune\"\\n#ob.display()\\nprint(ob.__dict__)\\nprint(ob)', '_i11': 'class Student:\\n    def __init__(self):\\n        print(\"I am in init\")\\nob = Student()\\nprint(type(ob))', '_i12': 'class Student:\\n    def __init__(self):\\n        print(\"I am in init\")\\nob = Student()\\nprint(type(ob))', '_i13': 'class Student:\\n    def __init__(self):\\n        print(\"I am in init\")\\n        print(locals())\\n        print(globals())\\nob = Student()'}\n"
     ]
    }
   ],
   "source": [
    "class Student:\n",
    "    def __init__(self):\n",
    "        print(\"I am in init\")\n",
    "        print(locals())\n",
    "        print(globals())\n",
    "ob = Student()\n"
   ]
  },
  {
   "cell_type": "code",
   "execution_count": 42,
   "id": "4309dc46",
   "metadata": {},
   "outputs": [
    {
     "name": "stdout",
     "output_type": "stream",
     "text": [
      "Enter total no of student: 3\n",
      "Enter roll no : 101\n",
      "Enter name : AAA\n",
      "Enter percentage : 56\n",
      "Enter roll no : 102\n",
      "Enter name : BBB\n",
      "Enter percentage : 86\n",
      "Enter roll no : 103\n",
      "Enter name : CCC\n",
      "Enter percentage : 98\n",
      "\n",
      "Roll No :  101\n",
      "Name :  AAA\n",
      "Percentage :  56.0\n",
      "\n",
      "Roll No :  102\n",
      "Name :  BBB\n",
      "Percentage :  86.0\n",
      "\n",
      "Roll No :  103\n",
      "Name :  CCC\n",
      "Percentage :  98.0\n"
     ]
    }
   ],
   "source": [
    "class Student:\n",
    "    def __init__(self,rno,name,per):\n",
    "        self.rno = rno\n",
    "        self.name = name\n",
    "        self.per = per\n",
    "    \n",
    "    def display(self):\n",
    "        print(\"\\nRoll No : \",self.rno)\n",
    "        print(\"Name : \",self.name)\n",
    "        print(\"Percentage : \",self.per,end=\"\\n\")\n",
    "\n",
    "   \n",
    "n = int(input(\"Enter total no of student: \"))\n",
    "\n",
    "L = list()\n",
    "\n",
    "for i in range(0,n):\n",
    "    rno = int(input(\"Enter roll no : \"))\n",
    "    name = input(\"Enter name : \")\n",
    "    per = float(input(\"Enter percentage : \"))\n",
    "    s = Student(rno,name,per)\n",
    "    L.append(s)\n",
    "    \n",
    "for i in range(n):\n",
    "    L[i].display()\n"
   ]
  },
  {
   "cell_type": "code",
   "execution_count": 47,
   "id": "959e2c0a",
   "metadata": {},
   "outputs": [
    {
     "name": "stdout",
     "output_type": "stream",
     "text": [
      "Enter total no of student: 3\n",
      "Enter roll no : 101\n",
      "Enter name : aaa\n",
      "Enter percentage : 45\n",
      "Enter roll no : 102\n",
      "Enter name : bbb\n",
      "Enter percentage : 43\n",
      "Enter roll no : 103\n",
      "Enter name : ccc\n",
      "Enter percentage : 7\n",
      "\n",
      "Roll No :  101\n",
      "Name :  aaa\n",
      "Percentage :  45.0\n",
      "\n",
      "Roll No :  102\n",
      "Name :  bbb\n",
      "Percentage :  43.0\n",
      "\n",
      "Roll No :  103\n",
      "Name :  ccc\n",
      "Percentage :  7.0\n",
      "list index out of range\n"
     ]
    }
   ],
   "source": [
    "class Student:\n",
    "    def __init__(self,rno,name,per):\n",
    "        self.rno = rno\n",
    "        self.name = name\n",
    "        self.per = per\n",
    "    \n",
    "    def display(self):\n",
    "        print(\"\\nRoll No : \",self.rno)\n",
    "        print(\"Name : \",self.name)\n",
    "        print(\"Percentage : \",self.per,end=\"\\n\")\n",
    "\n",
    "    @staticmethod\n",
    "    def sort():\n",
    "        for i in range(0,len(L)-1):\n",
    "            for j in range(i+1,len(L)):\n",
    "                if(L[j].per > L[j+1].per):\n",
    "                    L[j],L[j+1] = L[j+1],L[j]\n",
    "        \n",
    "try:\n",
    "    n = int(input(\"Enter total no of student: \"))\n",
    "    L = list()\n",
    "\n",
    "    for i in range(0,n):\n",
    "        rno = int(input(\"Enter roll no : \"))\n",
    "        name = input(\"Enter name : \")\n",
    "        per = float(input(\"Enter percentage : \"))\n",
    "        s = Student(rno,name,per)\n",
    "        L.append(s)\n",
    "\n",
    "    for i in range(n):\n",
    "        L[i].display()\n",
    "\n",
    "    Student.sort()\n",
    "\n",
    "    for i in range(n):\n",
    "        L[i].display()\n",
    "except Exception as e:\n",
    "    print(e)\n"
   ]
  },
  {
   "cell_type": "code",
   "execution_count": 49,
   "id": "97280d14",
   "metadata": {},
   "outputs": [
    {
     "name": "stdout",
     "output_type": "stream",
     "text": [
      "Area :  4\n",
      "Perimeter :  8\n"
     ]
    }
   ],
   "source": [
    "class Rectangle:\n",
    "    def __init__(self,l,w):\n",
    "        self.l = l\n",
    "        self.w = w\n",
    "    \n",
    "    def getarea(self):\n",
    "        area = self.l*self.w\n",
    "        print(\"Area : \",area)\n",
    "    \n",
    "    def getperimeter(self):\n",
    "        per = 2*(self.l+self.w)\n",
    "        print(\"Perimeter : \",per)\n",
    "        \n",
    "ob = Rectangle(2,2)\n",
    "ob.getarea()\n",
    "ob.getperimeter()"
   ]
  },
  {
   "cell_type": "code",
   "execution_count": 12,
   "id": "2c6fadb5",
   "metadata": {},
   "outputs": [
    {
     "name": "stdout",
     "output_type": "stream",
     "text": [
      "\n",
      "Before Sort : \n",
      "\n",
      "\n",
      "Roll No :  101\n",
      "Name :  AAA\n",
      "Percentage :  56\n",
      "\n",
      "Roll No :  102\n",
      "Name :  BBB\n",
      "Percentage :  87\n",
      "\n",
      "Roll No :  103\n",
      "Name :  CCC\n",
      "Percentage :  34\n",
      "\n",
      "After Sort : \n",
      "\n",
      "\n",
      "Roll No :  103\n",
      "Name :  CCC\n",
      "Percentage :  34\n",
      "\n",
      "Roll No :  101\n",
      "Name :  AAA\n",
      "Percentage :  56\n",
      "\n",
      "Roll No :  102\n",
      "Name :  BBB\n",
      "Percentage :  87\n"
     ]
    }
   ],
   "source": [
    "class Student:\n",
    "    def __init__(self,rno,name,per):\n",
    "        self.rno = rno\n",
    "        self.name = name\n",
    "        self.per = per\n",
    "    \n",
    "    def display(self):\n",
    "        print(\"\\nRoll No : \",self.rno)\n",
    "        print(\"Name : \",self.name)\n",
    "        print(\"Percentage : \",self.per,end=\"\\n\")\n",
    "\n",
    "    @staticmethod\n",
    "    def sort():\n",
    "        for i in range(len(L)-1,-1,-1):\n",
    "            for j in range(0,i):\n",
    "                if L[j].per > L[j+1].per:\n",
    "                    L[j],L[j+1] = L[j+1],L[j]\n",
    "\n",
    "data = [[101,\"AAA\",56],[102,\"BBB\",87],[103,\"CCC\",34]]\n",
    "        \n",
    "try:\n",
    "    L = list()\n",
    "\n",
    "    for i in data:\n",
    "        rno = i[0]\n",
    "        name = i[1]\n",
    "        per = i[2]\n",
    "        s = Student(rno,name,per)\n",
    "        L.append(s)\n",
    "        \n",
    "    print(\"\\nBefore Sort : \\n\")\n",
    "\n",
    "    for i in range(n):\n",
    "        L[i].display()\n",
    "\n",
    "    Student.sort()\n",
    "\n",
    "    print(\"\\nAfter Sort : \\n\")\n",
    "    \n",
    "    for i in range(n):\n",
    "        L[i].display()\n",
    "except Exception as e:\n",
    "    print(e)\n"
   ]
  },
  {
   "cell_type": "code",
   "execution_count": null,
   "id": "ce5010fa",
   "metadata": {},
   "outputs": [],
   "source": []
  },
  {
   "cell_type": "code",
   "execution_count": null,
   "id": "5d291c59",
   "metadata": {},
   "outputs": [],
   "source": []
  },
  {
   "cell_type": "code",
   "execution_count": null,
   "id": "03683ac8",
   "metadata": {},
   "outputs": [],
   "source": []
  },
  {
   "cell_type": "code",
   "execution_count": null,
   "id": "a40bc131",
   "metadata": {},
   "outputs": [],
   "source": []
  },
  {
   "cell_type": "code",
   "execution_count": null,
   "id": "08a001e5",
   "metadata": {},
   "outputs": [],
   "source": []
  },
  {
   "cell_type": "code",
   "execution_count": null,
   "id": "76dfde2c",
   "metadata": {},
   "outputs": [],
   "source": []
  },
  {
   "cell_type": "code",
   "execution_count": null,
   "id": "b6e8276d",
   "metadata": {},
   "outputs": [],
   "source": []
  },
  {
   "cell_type": "code",
   "execution_count": null,
   "id": "0f8df515",
   "metadata": {},
   "outputs": [],
   "source": []
  },
  {
   "cell_type": "code",
   "execution_count": null,
   "id": "d3803a48",
   "metadata": {},
   "outputs": [],
   "source": []
  },
  {
   "cell_type": "code",
   "execution_count": null,
   "id": "0c3297f6",
   "metadata": {},
   "outputs": [],
   "source": []
  },
  {
   "cell_type": "code",
   "execution_count": null,
   "id": "edecc02e",
   "metadata": {},
   "outputs": [],
   "source": []
  },
  {
   "cell_type": "code",
   "execution_count": null,
   "id": "d87dc4db",
   "metadata": {},
   "outputs": [],
   "source": []
  }
 ],
 "metadata": {
  "kernelspec": {
   "display_name": "Python 3 (ipykernel)",
   "language": "python",
   "name": "python3"
  },
  "language_info": {
   "codemirror_mode": {
    "name": "ipython",
    "version": 3
   },
   "file_extension": ".py",
   "mimetype": "text/x-python",
   "name": "python",
   "nbconvert_exporter": "python",
   "pygments_lexer": "ipython3",
   "version": "3.8.10"
  }
 },
 "nbformat": 4,
 "nbformat_minor": 5
}
