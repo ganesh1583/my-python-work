{
 "cells": [
  {
   "cell_type": "code",
   "execution_count": 3,
   "id": "767821e2",
   "metadata": {},
   "outputs": [
    {
     "name": "stdout",
     "output_type": "stream",
     "text": [
      "\n",
      "    This is comment\n",
      "    Hello World\n",
      "    \n"
     ]
    }
   ],
   "source": [
    "s = \"\"\"\n",
    "    This is comment\n",
    "    Hello World\n",
    "    \"\"\"\n",
    "print(s)"
   ]
  },
  {
   "cell_type": "code",
   "execution_count": null,
   "id": "b54159e8",
   "metadata": {},
   "outputs": [],
   "source": [
    "#String type"
   ]
  },
  {
   "cell_type": "code",
   "execution_count": null,
   "id": "18124c9a",
   "metadata": {},
   "outputs": [],
   "source": []
  },
  {
   "cell_type": "code",
   "execution_count": 4,
   "id": "62a05aa0",
   "metadata": {},
   "outputs": [
    {
     "name": "stdout",
     "output_type": "stream",
     "text": [
      "ganesh\n"
     ]
    }
   ],
   "source": [
    "a = \"ganesh\"\n",
    "print(a)"
   ]
  },
  {
   "cell_type": "code",
   "execution_count": 7,
   "id": "5f6744dc",
   "metadata": {},
   "outputs": [
    {
     "name": "stdout",
     "output_type": "stream",
     "text": [
      "INDIA\n",
      "I\n",
      "N\n",
      "D\n",
      "I\n",
      "A\n"
     ]
    }
   ],
   "source": [
    "s = \"INDIA\"\n",
    "print(s)\n",
    "print(s[0])\n",
    "print(s[1])\n",
    "print(s[2])\n",
    "print(s[3])\n",
    "print(s[4])"
   ]
  },
  {
   "cell_type": "code",
   "execution_count": 11,
   "id": "c419d952",
   "metadata": {},
   "outputs": [
    {
     "name": "stdout",
     "output_type": "stream",
     "text": [
      "I\n",
      "N\n",
      "D\n",
      "I\n",
      "A\n"
     ]
    }
   ],
   "source": [
    "print(s[-5])\n",
    "print(s[-4])\n",
    "print(s[-3])\n",
    "print(s[-2])\n",
    "print(s[-1])"
   ]
  },
  {
   "cell_type": "code",
   "execution_count": 13,
   "id": "d5a91bcc",
   "metadata": {},
   "outputs": [
    {
     "name": "stdout",
     "output_type": "stream",
     "text": [
      "INDIA"
     ]
    }
   ],
   "source": [
    "for i in s:\n",
    "    print(i,end=\"\")"
   ]
  },
  {
   "cell_type": "code",
   "execution_count": 14,
   "id": "7e416bcd",
   "metadata": {},
   "outputs": [
    {
     "name": "stdout",
     "output_type": "stream",
     "text": [
      "False\n"
     ]
    },
    {
     "name": "stderr",
     "output_type": "stream",
     "text": [
      "<>:1: SyntaxWarning: \"is\" with a literal. Did you mean \"==\"?\n",
      "<>:1: SyntaxWarning: \"is\" with a literal. Did you mean \"==\"?\n",
      "/tmp/ipykernel_4492/1558415926.py:1: SyntaxWarning: \"is\" with a literal. Did you mean \"==\"?\n",
      "  a = \"India \"is\" my country\"\n"
     ]
    }
   ],
   "source": [
    "a = \"India \"is\" my country\"\n",
    "print(a)"
   ]
  },
  {
   "cell_type": "code",
   "execution_count": 15,
   "id": "307bf784",
   "metadata": {},
   "outputs": [
    {
     "name": "stdout",
     "output_type": "stream",
     "text": [
      "India 'is' my country\n"
     ]
    }
   ],
   "source": [
    "a = \"India 'is' my country\"\n",
    "print(a)"
   ]
  },
  {
   "cell_type": "code",
   "execution_count": 17,
   "id": "e5251e1b",
   "metadata": {},
   "outputs": [
    {
     "name": "stdout",
     "output_type": "stream",
     "text": [
      "India \"is\" my country\n"
     ]
    }
   ],
   "source": [
    "a = 'India \"is\" my country'\n",
    "print(a)"
   ]
  },
  {
   "cell_type": "code",
   "execution_count": 19,
   "id": "b7711c5d",
   "metadata": {},
   "outputs": [
    {
     "name": "stdout",
     "output_type": "stream",
     "text": [
      "Techno \"Comp\" Academy\n"
     ]
    }
   ],
   "source": [
    "print(\"Techno \\\"Comp\\\" Academy\")"
   ]
  },
  {
   "cell_type": "code",
   "execution_count": 21,
   "id": "6d17d19a",
   "metadata": {},
   "outputs": [
    {
     "name": "stdout",
     "output_type": "stream",
     "text": [
      "INDIA"
     ]
    }
   ],
   "source": [
    "for i in range(-5,0):\n",
    "    print(s[i],end=\"\")"
   ]
  },
  {
   "cell_type": "code",
   "execution_count": 27,
   "id": "0fe15d55",
   "metadata": {},
   "outputs": [
    {
     "name": "stdout",
     "output_type": "stream",
     "text": [
      " INDIA INDIA INDIA INDIA INDIA\n"
     ]
    }
   ],
   "source": [
    "b = str()\n",
    "for i in s:\n",
    "    b = b +\" \"+s\n",
    "print(b)"
   ]
  },
  {
   "cell_type": "code",
   "execution_count": 28,
   "id": "29d800ab",
   "metadata": {},
   "outputs": [
    {
     "name": "stdout",
     "output_type": "stream",
     "text": [
      "INDIA"
     ]
    }
   ],
   "source": [
    "for i in range(0,len(s)):\n",
    "    print(s[i],end=\"\")"
   ]
  },
  {
   "cell_type": "code",
   "execution_count": 29,
   "id": "ba906311",
   "metadata": {},
   "outputs": [
    {
     "name": "stdout",
     "output_type": "stream",
     "text": [
      "5\n"
     ]
    }
   ],
   "source": [
    "print(len(\"INDIA\"))"
   ]
  },
  {
   "cell_type": "code",
   "execution_count": 34,
   "id": "ba2d7a30",
   "metadata": {},
   "outputs": [
    {
     "name": "stdout",
     "output_type": "stream",
     "text": [
      "ACT"
     ]
    }
   ],
   "source": [
    "s = \"TCA\"\n",
    "for i in range(-1,-len(s)-1,-1):\n",
    "    print(s[i],end=\"\")"
   ]
  },
  {
   "cell_type": "code",
   "execution_count": 39,
   "id": "e500ce52",
   "metadata": {},
   "outputs": [
    {
     "name": "stdout",
     "output_type": "stream",
     "text": [
      "ACT"
     ]
    }
   ],
   "source": [
    "for i in range(0,len(s)):\n",
    "    print(s[-(i+1)],end=\"\")"
   ]
  },
  {
   "cell_type": "code",
   "execution_count": null,
   "id": "f6e43769",
   "metadata": {},
   "outputs": [],
   "source": [
    "#Slice Opereato"
   ]
  },
  {
   "cell_type": "code",
   "execution_count": 2,
   "id": "c4f2494a",
   "metadata": {},
   "outputs": [
    {
     "name": "stdout",
     "output_type": "stream",
     "text": [
      "19\n",
      "Com\n"
     ]
    }
   ],
   "source": [
    "s = \"Techno Comp Academy\"\n",
    "print(len(s))\n",
    "T = s[7:10:1]\n",
    "print(T)"
   ]
  },
  {
   "cell_type": "code",
   "execution_count": 3,
   "id": "e41bd449",
   "metadata": {},
   "outputs": [
    {
     "name": "stdout",
     "output_type": "stream",
     "text": [
      "19\n",
      "Com\n"
     ]
    }
   ],
   "source": [
    "s = \"Techno Comp Academy\"\n",
    "print(len(s))\n",
    "T = s[7:10]\n",
    "print(T)"
   ]
  },
  {
   "cell_type": "code",
   "execution_count": 4,
   "id": "edd4c943",
   "metadata": {},
   "outputs": [
    {
     "name": "stdout",
     "output_type": "stream",
     "text": [
      "19\n",
      "Techno Comp Academy\n"
     ]
    }
   ],
   "source": [
    "s = \"Techno Comp Academy\"\n",
    "print(len(s))\n",
    "T = s[0:19:]\n",
    "print(T)"
   ]
  },
  {
   "cell_type": "code",
   "execution_count": 5,
   "id": "613298cb",
   "metadata": {},
   "outputs": [
    {
     "name": "stdout",
     "output_type": "stream",
     "text": [
      "19\n",
      "Techno Comp Academy\n"
     ]
    }
   ],
   "source": [
    "s = \"Techno Comp Academy\"\n",
    "print(len(s))\n",
    "T = s[0:19]\n",
    "print(T)"
   ]
  },
  {
   "cell_type": "code",
   "execution_count": 6,
   "id": "065b3a9a",
   "metadata": {},
   "outputs": [
    {
     "name": "stdout",
     "output_type": "stream",
     "text": [
      "19\n"
     ]
    },
    {
     "ename": "IndexError",
     "evalue": "string index out of range",
     "output_type": "error",
     "traceback": [
      "\u001b[0;31m---------------------------------------------------------------------------\u001b[0m",
      "\u001b[0;31mIndexError\u001b[0m                                Traceback (most recent call last)",
      "Cell \u001b[0;32mIn[6], line 3\u001b[0m\n\u001b[1;32m      1\u001b[0m s \u001b[38;5;241m=\u001b[39m \u001b[38;5;124m\"\u001b[39m\u001b[38;5;124mTechno Comp Academy\u001b[39m\u001b[38;5;124m\"\u001b[39m\n\u001b[1;32m      2\u001b[0m \u001b[38;5;28mprint\u001b[39m(\u001b[38;5;28mlen\u001b[39m(s))\n\u001b[0;32m----> 3\u001b[0m T \u001b[38;5;241m=\u001b[39m \u001b[43ms\u001b[49m\u001b[43m[\u001b[49m\u001b[38;5;241;43m19\u001b[39;49m\u001b[43m]\u001b[49m\n\u001b[1;32m      4\u001b[0m \u001b[38;5;28mprint\u001b[39m(T)\n",
      "\u001b[0;31mIndexError\u001b[0m: string index out of range"
     ]
    }
   ],
   "source": [
    "s = \"Techno Comp Academy\"\n",
    "print(len(s))\n",
    "T = s[19]\n",
    "print(T)"
   ]
  },
  {
   "cell_type": "code",
   "execution_count": 7,
   "id": "b63657ed",
   "metadata": {},
   "outputs": [
    {
     "name": "stdout",
     "output_type": "stream",
     "text": [
      "19\n",
      "Techno Comp Academy\n"
     ]
    }
   ],
   "source": [
    "s = \"Techno Comp Academy\"\n",
    "print(len(s))\n",
    "T = s[::]\n",
    "print(T)"
   ]
  },
  {
   "cell_type": "code",
   "execution_count": 8,
   "id": "3fe346b8",
   "metadata": {},
   "outputs": [
    {
     "name": "stdout",
     "output_type": "stream",
     "text": [
      "19\n",
      "Techno Comp Academy\n"
     ]
    }
   ],
   "source": [
    "s = \"Techno Comp Academy\"\n",
    "print(len(s))\n",
    "T = s[:]\n",
    "print(T)"
   ]
  },
  {
   "cell_type": "code",
   "execution_count": 10,
   "id": "0d50e0e7",
   "metadata": {},
   "outputs": [
    {
     "name": "stdout",
     "output_type": "stream",
     "text": [
      "Techno Comp Academy\n",
      "Techno Comp Academy\n",
      "139653415684176\n",
      "139653415684176\n"
     ]
    }
   ],
   "source": [
    "print(T)\n",
    "print(s)\n",
    "print(id(s))\n",
    "print(id(T))"
   ]
  },
  {
   "cell_type": "code",
   "execution_count": 11,
   "id": "ed2375ac",
   "metadata": {},
   "outputs": [
    {
     "name": "stdout",
     "output_type": "stream",
     "text": [
      "Techno Comp Academy\n",
      "139653415684176\n",
      "139653458485104\n"
     ]
    }
   ],
   "source": [
    "print(s)\n",
    "T = s[0:10]\n",
    "print(id(s))\n",
    "print(id(T))"
   ]
  },
  {
   "cell_type": "code",
   "execution_count": 14,
   "id": "5426ac00",
   "metadata": {},
   "outputs": [
    {
     "name": "stdout",
     "output_type": "stream",
     "text": [
      "Techno Comp Academy\n",
      "Tcn opAaey\n"
     ]
    }
   ],
   "source": [
    "print(s)\n",
    "T = s[::2]  #or s[0:19:2]\n",
    "print(T)"
   ]
  },
  {
   "cell_type": "code",
   "execution_count": 23,
   "id": "c3da40b3",
   "metadata": {},
   "outputs": [
    {
     "name": "stdout",
     "output_type": "stream",
     "text": [
      "Techno Comp Academy\n",
      "\n"
     ]
    }
   ],
   "source": [
    "print(s)\n",
    "T = s[-19:0:1]\n",
    "print(T)"
   ]
  },
  {
   "cell_type": "code",
   "execution_count": 36,
   "id": "0a70b6fb",
   "metadata": {},
   "outputs": [
    {
     "name": "stdout",
     "output_type": "stream",
     "text": [
      "Techno Comp Academy\n",
      "T :  ymedacA pmoC onhce\n"
     ]
    }
   ],
   "source": [
    "print(s)\n",
    "T = s[-1:0:-1]\n",
    "print(\"T : \",T)"
   ]
  },
  {
   "cell_type": "code",
   "execution_count": 37,
   "id": "38ff7b9e",
   "metadata": {},
   "outputs": [
    {
     "name": "stdout",
     "output_type": "stream",
     "text": [
      "Techno Comp Academy\n",
      "T :  ymedacA pmoC onhceT\n"
     ]
    }
   ],
   "source": [
    "print(s)\n",
    "T = s[-1:-(len(s)+1):-1]\n",
    "print(\"T : \",T)\n"
   ]
  },
  {
   "cell_type": "code",
   "execution_count": 46,
   "id": "9bb07d44",
   "metadata": {},
   "outputs": [
    {
     "name": "stdout",
     "output_type": "stream",
     "text": [
      "T: Comp\n"
     ]
    }
   ],
   "source": [
    "R = \"ymedacA pmoC onhceT\"\n",
    "T = R[-8:-12:-1]\n",
    "print(\"T:\",T)"
   ]
  },
  {
   "cell_type": "code",
   "execution_count": 45,
   "id": "b72e4727",
   "metadata": {},
   "outputs": [
    {
     "name": "stdout",
     "output_type": "stream",
     "text": [
      "T:  Comp\n"
     ]
    }
   ],
   "source": [
    "R = \"ymedacA pmoC onhceT\"\n",
    "T = R[12:-12:-1]\n",
    "print(\"T:\",T)"
   ]
  },
  {
   "cell_type": "code",
   "execution_count": 51,
   "id": "6f3a9983",
   "metadata": {},
   "outputs": [
    {
     "name": "stdout",
     "output_type": "stream",
     "text": [
      "T: Comp\n"
     ]
    }
   ],
   "source": [
    "R = \"ymedacA pmoC onhceT\"\n",
    "T = R[-8:7:-1]\n",
    "print(\"T:\",T)"
   ]
  },
  {
   "cell_type": "code",
   "execution_count": 56,
   "id": "ddb4c9b2",
   "metadata": {},
   "outputs": [
    {
     "name": "stdout",
     "output_type": "stream",
     "text": [
      "Enter string : SA\n",
      "Output :  SASA\n"
     ]
    }
   ],
   "source": [
    "#Accept the string and print the string which is made up of first and last two characters\n",
    "s = input(\"Enter string : \")\n",
    "fs = s[0:2]+s[-2:len(s)]\n",
    "print(\"Output : \",fs)"
   ]
  },
  {
   "cell_type": "code",
   "execution_count": null,
   "id": "e84ea174",
   "metadata": {},
   "outputs": [],
   "source": []
  },
  {
   "cell_type": "code",
   "execution_count": null,
   "id": "576d56d2",
   "metadata": {},
   "outputs": [],
   "source": []
  },
  {
   "cell_type": "code",
   "execution_count": null,
   "id": "6c6996ee",
   "metadata": {},
   "outputs": [],
   "source": []
  }
 ],
 "metadata": {
  "kernelspec": {
   "display_name": "Python 3 (ipykernel)",
   "language": "python",
   "name": "python3"
  },
  "language_info": {
   "codemirror_mode": {
    "name": "ipython",
    "version": 3
   },
   "file_extension": ".py",
   "mimetype": "text/x-python",
   "name": "python",
   "nbconvert_exporter": "python",
   "pygments_lexer": "ipython3",
   "version": "3.8.10"
  }
 },
 "nbformat": 4,
 "nbformat_minor": 5
}
