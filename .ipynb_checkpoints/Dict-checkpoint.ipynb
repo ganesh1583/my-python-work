{
 "cells": [
  {
   "cell_type": "code",
   "execution_count": null,
   "id": "e61c2003",
   "metadata": {},
   "outputs": [],
   "source": [
    "#Dict Type"
   ]
  },
  {
   "cell_type": "code",
   "execution_count": 1,
   "id": "c11e8e51",
   "metadata": {},
   "outputs": [
    {
     "name": "stdout",
     "output_type": "stream",
     "text": [
      "<class 'dict'>\n",
      "{'k1': 'v1', 'k2': 'v2', 'k3': 'v3'}\n"
     ]
    }
   ],
   "source": [
    "d = {\"k1\" : \"v1\", \"k2\" : \"v2\", \"k3\" : \"v3\"}\n",
    "print(type(d))\n",
    "print(d)"
   ]
  },
  {
   "cell_type": "code",
   "execution_count": null,
   "id": "92274e73",
   "metadata": {},
   "outputs": [],
   "source": []
  },
  {
   "cell_type": "code",
   "execution_count": null,
   "id": "4780ce1d",
   "metadata": {},
   "outputs": [],
   "source": []
  },
  {
   "cell_type": "code",
   "execution_count": null,
   "id": "abe31179",
   "metadata": {},
   "outputs": [],
   "source": []
  },
  {
   "cell_type": "code",
   "execution_count": null,
   "id": "8fc98e51",
   "metadata": {},
   "outputs": [],
   "source": []
  }
 ],
 "metadata": {
  "kernelspec": {
   "display_name": "Python 3 (ipykernel)",
   "language": "python",
   "name": "python3"
  },
  "language_info": {
   "codemirror_mode": {
    "name": "ipython",
    "version": 3
   },
   "file_extension": ".py",
   "mimetype": "text/x-python",
   "name": "python",
   "nbconvert_exporter": "python",
   "pygments_lexer": "ipython3",
   "version": "3.8.10"
  }
 },
 "nbformat": 4,
 "nbformat_minor": 5
}
