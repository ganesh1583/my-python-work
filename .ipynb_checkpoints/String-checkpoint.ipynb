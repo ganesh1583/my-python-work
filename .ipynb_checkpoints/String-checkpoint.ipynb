{
 "cells": [
  {
   "cell_type": "code",
   "execution_count": null,
   "id": "b54159e8",
   "metadata": {},
   "outputs": [],
   "source": [
    "#String type"
   ]
  },
  {
   "cell_type": "code",
   "execution_count": 3,
   "id": "767821e2",
   "metadata": {},
   "outputs": [
    {
     "name": "stdout",
     "output_type": "stream",
     "text": [
      "\n",
      "    This is comment\n",
      "    Hello World\n",
      "    \n"
     ]
    }
   ],
   "source": [
    "s = \"\"\"\n",
    "    This is comment\n",
    "    Hello World\n",
    "    \"\"\"\n",
    "print(s)"
   ]
  },
  {
   "cell_type": "code",
   "execution_count": null,
   "id": "18124c9a",
   "metadata": {},
   "outputs": [],
   "source": []
  },
  {
   "cell_type": "code",
   "execution_count": 4,
   "id": "62a05aa0",
   "metadata": {},
   "outputs": [
    {
     "name": "stdout",
     "output_type": "stream",
     "text": [
      "ganesh\n"
     ]
    }
   ],
   "source": [
    "a = \"ganesh\"\n",
    "print(a)"
   ]
  },
  {
   "cell_type": "code",
   "execution_count": 7,
   "id": "5f6744dc",
   "metadata": {},
   "outputs": [
    {
     "name": "stdout",
     "output_type": "stream",
     "text": [
      "INDIA\n",
      "I\n",
      "N\n",
      "D\n",
      "I\n",
      "A\n"
     ]
    }
   ],
   "source": [
    "s = \"INDIA\"\n",
    "print(s)\n",
    "print(s[0])\n",
    "print(s[1])\n",
    "print(s[2])\n",
    "print(s[3])\n",
    "print(s[4])"
   ]
  },
  {
   "cell_type": "code",
   "execution_count": 11,
   "id": "c419d952",
   "metadata": {},
   "outputs": [
    {
     "name": "stdout",
     "output_type": "stream",
     "text": [
      "I\n",
      "N\n",
      "D\n",
      "I\n",
      "A\n"
     ]
    }
   ],
   "source": [
    "print(s[-5])\n",
    "print(s[-4])\n",
    "print(s[-3])\n",
    "print(s[-2])\n",
    "print(s[-1])"
   ]
  },
  {
   "cell_type": "code",
   "execution_count": 13,
   "id": "d5a91bcc",
   "metadata": {},
   "outputs": [
    {
     "name": "stdout",
     "output_type": "stream",
     "text": [
      "INDIA"
     ]
    }
   ],
   "source": [
    "for i in s:\n",
    "    print(i,end=\"\")"
   ]
  },
  {
   "cell_type": "code",
   "execution_count": 14,
   "id": "7e416bcd",
   "metadata": {},
   "outputs": [
    {
     "name": "stdout",
     "output_type": "stream",
     "text": [
      "False\n"
     ]
    },
    {
     "name": "stderr",
     "output_type": "stream",
     "text": [
      "<>:1: SyntaxWarning: \"is\" with a literal. Did you mean \"==\"?\n",
      "<>:1: SyntaxWarning: \"is\" with a literal. Did you mean \"==\"?\n",
      "/tmp/ipykernel_4492/1558415926.py:1: SyntaxWarning: \"is\" with a literal. Did you mean \"==\"?\n",
      "  a = \"India \"is\" my country\"\n"
     ]
    }
   ],
   "source": [
    "a = \"India \"is\" my country\"\n",
    "print(a)"
   ]
  },
  {
   "cell_type": "code",
   "execution_count": 15,
   "id": "307bf784",
   "metadata": {},
   "outputs": [
    {
     "name": "stdout",
     "output_type": "stream",
     "text": [
      "India 'is' my country\n"
     ]
    }
   ],
   "source": [
    "a = \"India 'is' my country\"\n",
    "print(a)"
   ]
  },
  {
   "cell_type": "code",
   "execution_count": 17,
   "id": "e5251e1b",
   "metadata": {},
   "outputs": [
    {
     "name": "stdout",
     "output_type": "stream",
     "text": [
      "India \"is\" my country\n"
     ]
    }
   ],
   "source": [
    "a = 'India \"is\" my country'\n",
    "print(a)"
   ]
  },
  {
   "cell_type": "code",
   "execution_count": 19,
   "id": "b7711c5d",
   "metadata": {},
   "outputs": [
    {
     "name": "stdout",
     "output_type": "stream",
     "text": [
      "Techno \"Comp\" Academy\n"
     ]
    }
   ],
   "source": [
    "print(\"Techno \\\"Comp\\\" Academy\")"
   ]
  },
  {
   "cell_type": "code",
   "execution_count": 21,
   "id": "6d17d19a",
   "metadata": {},
   "outputs": [
    {
     "name": "stdout",
     "output_type": "stream",
     "text": [
      "INDIA"
     ]
    }
   ],
   "source": [
    "for i in range(-5,0):\n",
    "    print(s[i],end=\"\")"
   ]
  },
  {
   "cell_type": "code",
   "execution_count": 27,
   "id": "0fe15d55",
   "metadata": {},
   "outputs": [
    {
     "name": "stdout",
     "output_type": "stream",
     "text": [
      " INDIA INDIA INDIA INDIA INDIA\n"
     ]
    }
   ],
   "source": [
    "b = str()\n",
    "for i in s:\n",
    "    b = b +\" \"+s\n",
    "print(b)"
   ]
  },
  {
   "cell_type": "code",
   "execution_count": 28,
   "id": "29d800ab",
   "metadata": {},
   "outputs": [
    {
     "name": "stdout",
     "output_type": "stream",
     "text": [
      "INDIA"
     ]
    }
   ],
   "source": [
    "for i in range(0,len(s)):\n",
    "    print(s[i],end=\"\")"
   ]
  },
  {
   "cell_type": "code",
   "execution_count": 29,
   "id": "ba906311",
   "metadata": {},
   "outputs": [
    {
     "name": "stdout",
     "output_type": "stream",
     "text": [
      "5\n"
     ]
    }
   ],
   "source": [
    "print(len(\"INDIA\"))"
   ]
  },
  {
   "cell_type": "code",
   "execution_count": 34,
   "id": "ba2d7a30",
   "metadata": {},
   "outputs": [
    {
     "name": "stdout",
     "output_type": "stream",
     "text": [
      "ACT"
     ]
    }
   ],
   "source": [
    "s = \"TCA\"\n",
    "for i in range(-1,-len(s)-1,-1):\n",
    "    print(s[i],end=\"\")"
   ]
  },
  {
   "cell_type": "code",
   "execution_count": 39,
   "id": "e500ce52",
   "metadata": {},
   "outputs": [
    {
     "name": "stdout",
     "output_type": "stream",
     "text": [
      "ACT"
     ]
    }
   ],
   "source": [
    "for i in range(0,len(s)):\n",
    "    print(s[-(i+1)],end=\"\")"
   ]
  },
  {
   "cell_type": "code",
   "execution_count": null,
   "id": "f6e43769",
   "metadata": {},
   "outputs": [],
   "source": [
    "#Slice Opereato"
   ]
  },
  {
   "cell_type": "code",
   "execution_count": 2,
   "id": "c4f2494a",
   "metadata": {},
   "outputs": [
    {
     "name": "stdout",
     "output_type": "stream",
     "text": [
      "19\n",
      "Com\n"
     ]
    }
   ],
   "source": [
    "s = \"Techno Comp Academy\"\n",
    "print(len(s))\n",
    "T = s[7:10:1]\n",
    "print(T)"
   ]
  },
  {
   "cell_type": "code",
   "execution_count": 3,
   "id": "e41bd449",
   "metadata": {},
   "outputs": [
    {
     "name": "stdout",
     "output_type": "stream",
     "text": [
      "19\n",
      "Com\n"
     ]
    }
   ],
   "source": [
    "s = \"Techno Comp Academy\"\n",
    "print(len(s))\n",
    "T = s[7:10]\n",
    "print(T)"
   ]
  },
  {
   "cell_type": "code",
   "execution_count": 4,
   "id": "edd4c943",
   "metadata": {},
   "outputs": [
    {
     "name": "stdout",
     "output_type": "stream",
     "text": [
      "19\n",
      "Techno Comp Academy\n"
     ]
    }
   ],
   "source": [
    "s = \"Techno Comp Academy\"\n",
    "print(len(s))\n",
    "T = s[0:19:]\n",
    "print(T)"
   ]
  },
  {
   "cell_type": "code",
   "execution_count": 5,
   "id": "613298cb",
   "metadata": {},
   "outputs": [
    {
     "name": "stdout",
     "output_type": "stream",
     "text": [
      "19\n",
      "Techno Comp Academy\n"
     ]
    }
   ],
   "source": [
    "s = \"Techno Comp Academy\"\n",
    "print(len(s))\n",
    "T = s[0:19]\n",
    "print(T)"
   ]
  },
  {
   "cell_type": "code",
   "execution_count": 6,
   "id": "065b3a9a",
   "metadata": {},
   "outputs": [
    {
     "name": "stdout",
     "output_type": "stream",
     "text": [
      "19\n"
     ]
    },
    {
     "ename": "IndexError",
     "evalue": "string index out of range",
     "output_type": "error",
     "traceback": [
      "\u001b[0;31m---------------------------------------------------------------------------\u001b[0m",
      "\u001b[0;31mIndexError\u001b[0m                                Traceback (most recent call last)",
      "Cell \u001b[0;32mIn[6], line 3\u001b[0m\n\u001b[1;32m      1\u001b[0m s \u001b[38;5;241m=\u001b[39m \u001b[38;5;124m\"\u001b[39m\u001b[38;5;124mTechno Comp Academy\u001b[39m\u001b[38;5;124m\"\u001b[39m\n\u001b[1;32m      2\u001b[0m \u001b[38;5;28mprint\u001b[39m(\u001b[38;5;28mlen\u001b[39m(s))\n\u001b[0;32m----> 3\u001b[0m T \u001b[38;5;241m=\u001b[39m \u001b[43ms\u001b[49m\u001b[43m[\u001b[49m\u001b[38;5;241;43m19\u001b[39;49m\u001b[43m]\u001b[49m\n\u001b[1;32m      4\u001b[0m \u001b[38;5;28mprint\u001b[39m(T)\n",
      "\u001b[0;31mIndexError\u001b[0m: string index out of range"
     ]
    }
   ],
   "source": [
    "s = \"Techno Comp Academy\"\n",
    "print(len(s))\n",
    "T = s[19]\n",
    "print(T)"
   ]
  },
  {
   "cell_type": "code",
   "execution_count": 7,
   "id": "b63657ed",
   "metadata": {},
   "outputs": [
    {
     "name": "stdout",
     "output_type": "stream",
     "text": [
      "19\n",
      "Techno Comp Academy\n"
     ]
    }
   ],
   "source": [
    "s = \"Techno Comp Academy\"\n",
    "print(len(s))\n",
    "T = s[::]\n",
    "print(T)"
   ]
  },
  {
   "cell_type": "code",
   "execution_count": 8,
   "id": "3fe346b8",
   "metadata": {},
   "outputs": [
    {
     "name": "stdout",
     "output_type": "stream",
     "text": [
      "19\n",
      "Techno Comp Academy\n"
     ]
    }
   ],
   "source": [
    "s = \"Techno Comp Academy\"\n",
    "print(len(s))\n",
    "T = s[:]\n",
    "print(T)"
   ]
  },
  {
   "cell_type": "code",
   "execution_count": 10,
   "id": "0d50e0e7",
   "metadata": {},
   "outputs": [
    {
     "name": "stdout",
     "output_type": "stream",
     "text": [
      "Techno Comp Academy\n",
      "Techno Comp Academy\n",
      "139653415684176\n",
      "139653415684176\n"
     ]
    }
   ],
   "source": [
    "print(T)\n",
    "print(s)\n",
    "print(id(s))\n",
    "print(id(T))"
   ]
  },
  {
   "cell_type": "code",
   "execution_count": 11,
   "id": "ed2375ac",
   "metadata": {},
   "outputs": [
    {
     "name": "stdout",
     "output_type": "stream",
     "text": [
      "Techno Comp Academy\n",
      "139653415684176\n",
      "139653458485104\n"
     ]
    }
   ],
   "source": [
    "print(s)\n",
    "T = s[0:10]\n",
    "print(id(s))\n",
    "print(id(T))"
   ]
  },
  {
   "cell_type": "code",
   "execution_count": 14,
   "id": "5426ac00",
   "metadata": {},
   "outputs": [
    {
     "name": "stdout",
     "output_type": "stream",
     "text": [
      "Techno Comp Academy\n",
      "Tcn opAaey\n"
     ]
    }
   ],
   "source": [
    "print(s)\n",
    "T = s[::2]  #or s[0:19:2]\n",
    "print(T)"
   ]
  },
  {
   "cell_type": "code",
   "execution_count": 23,
   "id": "c3da40b3",
   "metadata": {},
   "outputs": [
    {
     "name": "stdout",
     "output_type": "stream",
     "text": [
      "Techno Comp Academy\n",
      "\n"
     ]
    }
   ],
   "source": [
    "print(s)\n",
    "T = s[-19:0:1]\n",
    "print(T)"
   ]
  },
  {
   "cell_type": "code",
   "execution_count": 36,
   "id": "0a70b6fb",
   "metadata": {},
   "outputs": [
    {
     "name": "stdout",
     "output_type": "stream",
     "text": [
      "Techno Comp Academy\n",
      "T :  ymedacA pmoC onhce\n"
     ]
    }
   ],
   "source": [
    "print(s)\n",
    "T = s[-1:0:-1]\n",
    "print(\"T : \",T)"
   ]
  },
  {
   "cell_type": "code",
   "execution_count": 37,
   "id": "38ff7b9e",
   "metadata": {},
   "outputs": [
    {
     "name": "stdout",
     "output_type": "stream",
     "text": [
      "Techno Comp Academy\n",
      "T :  ymedacA pmoC onhceT\n"
     ]
    }
   ],
   "source": [
    "print(s)\n",
    "T = s[-1:-(len(s)+1):-1]\n",
    "print(\"T : \",T)\n"
   ]
  },
  {
   "cell_type": "code",
   "execution_count": 46,
   "id": "9bb07d44",
   "metadata": {},
   "outputs": [
    {
     "name": "stdout",
     "output_type": "stream",
     "text": [
      "T: Comp\n"
     ]
    }
   ],
   "source": [
    "R = \"ymedacA pmoC onhceT\"\n",
    "T = R[-8:-12:-1]\n",
    "print(\"T:\",T)"
   ]
  },
  {
   "cell_type": "code",
   "execution_count": 45,
   "id": "b72e4727",
   "metadata": {},
   "outputs": [
    {
     "name": "stdout",
     "output_type": "stream",
     "text": [
      "T:  Comp\n"
     ]
    }
   ],
   "source": [
    "R = \"ymedacA pmoC onhceT\"\n",
    "T = R[12:-12:-1]\n",
    "print(\"T:\",T)"
   ]
  },
  {
   "cell_type": "code",
   "execution_count": 51,
   "id": "6f3a9983",
   "metadata": {},
   "outputs": [
    {
     "name": "stdout",
     "output_type": "stream",
     "text": [
      "T: Comp\n"
     ]
    }
   ],
   "source": [
    "R = \"ymedacA pmoC onhceT\"\n",
    "T = R[-8:7:-1]\n",
    "print(\"T:\",T)"
   ]
  },
  {
   "cell_type": "code",
   "execution_count": 56,
   "id": "ddb4c9b2",
   "metadata": {},
   "outputs": [
    {
     "name": "stdout",
     "output_type": "stream",
     "text": [
      "Enter string : SA\n",
      "Output :  SASA\n"
     ]
    }
   ],
   "source": [
    "#Accept the string and print the string which is made up of first and last two characters\n",
    "s = input(\"Enter string : \")\n",
    "fs = s[0:2]+s[-2:len(s)]\n",
    "print(\"Output : \",fs)"
   ]
  },
  {
   "cell_type": "code",
   "execution_count": null,
   "id": "e84ea174",
   "metadata": {},
   "outputs": [],
   "source": [
    "#String Concatination"
   ]
  },
  {
   "cell_type": "code",
   "execution_count": 1,
   "id": "5b664f37",
   "metadata": {},
   "outputs": [
    {
     "name": "stdout",
     "output_type": "stream",
     "text": [
      "INDAUSBAN\n"
     ]
    }
   ],
   "source": [
    "s = \"IND\"+\"AUS\"+\"BAN\"\n",
    "print(s)"
   ]
  },
  {
   "cell_type": "code",
   "execution_count": 7,
   "id": "7092ae12",
   "metadata": {},
   "outputs": [
    {
     "name": "stdout",
     "output_type": "stream",
     "text": [
      "True\n",
      "False\n",
      "True\n"
     ]
    }
   ],
   "source": [
    "#string comparison\n",
    "print(\"A\"<\"B\")\n",
    "print(\"a\">\"b\")\n",
    "print(\"a\"==\"a\")"
   ]
  },
  {
   "cell_type": "code",
   "execution_count": 9,
   "id": "fea89619",
   "metadata": {},
   "outputs": [
    {
     "name": "stdout",
     "output_type": "stream",
     "text": [
      "a is there\n"
     ]
    }
   ],
   "source": [
    "s = \"India\"\n",
    "if \"a\" in s:\n",
    "    print(\"a is there\")"
   ]
  },
  {
   "cell_type": "code",
   "execution_count": 17,
   "id": "ca4daf7c",
   "metadata": {},
   "outputs": [
    {
     "name": "stdout",
     "output_type": "stream",
     "text": [
      "Enter string :abc,pqr,abc,lmn\n",
      "['abc', 'pqr', 'abc', 'lmn']\n",
      "pqr\n",
      "lmn\n"
     ]
    }
   ],
   "source": [
    "s = input(\"Enter string :\")\n",
    "L = s.split(\",\")\n",
    "print(L)\n",
    "\n",
    "for i in L:\n",
    "    if s.count(i) < 2:\n",
    "        print(i)\n",
    "    \n"
   ]
  },
  {
   "cell_type": "code",
   "execution_count": 18,
   "id": "f22732f6",
   "metadata": {},
   "outputs": [
    {
     "name": "stdout",
     "output_type": "stream",
     "text": [
      "INDIA\n"
     ]
    }
   ],
   "source": [
    "s = \"india\"\n",
    "print(s.upper())"
   ]
  },
  {
   "cell_type": "code",
   "execution_count": 19,
   "id": "3c354968",
   "metadata": {},
   "outputs": [
    {
     "name": "stdout",
     "output_type": "stream",
     "text": [
      "POStERbOY123\n"
     ]
    }
   ],
   "source": [
    "s = \"posTerBoy123\"\n",
    "a = s.swapcase()\n",
    "print(a)"
   ]
  },
  {
   "cell_type": "code",
   "execution_count": 20,
   "id": "613e78ca",
   "metadata": {},
   "outputs": [
    {
     "name": "stdout",
     "output_type": "stream",
     "text": [
      "True\n"
     ]
    }
   ],
   "source": [
    "s = \"bcs\"\n",
    "print(s.islower())"
   ]
  },
  {
   "cell_type": "code",
   "execution_count": 21,
   "id": "9c261e99",
   "metadata": {},
   "outputs": [
    {
     "name": "stdout",
     "output_type": "stream",
     "text": [
      "True\n"
     ]
    }
   ],
   "source": [
    "s = \"bcs\"\n",
    "print(s.isalpha())"
   ]
  },
  {
   "cell_type": "code",
   "execution_count": 3,
   "id": "4da89baa",
   "metadata": {},
   "outputs": [
    {
     "name": "stdout",
     "output_type": "stream",
     "text": [
      "Enter string :        Techno Comp            Academy\n",
      "       Techno Comp            Academy\n",
      "Techno Comp            Academy\n"
     ]
    }
   ],
   "source": [
    "s = input(\"Enter string : \")\n",
    "print(s)\n",
    "print(s.strip())"
   ]
  },
  {
   "cell_type": "code",
   "execution_count": 18,
   "id": "2366aab6",
   "metadata": {},
   "outputs": [
    {
     "name": "stdout",
     "output_type": "stream",
     "text": [
      "Enter string :       Techno Comp      Academy\n",
      "      Techno Comp      Academy\n",
      "['Techno', 'Comp', 'Academy']\n",
      "String :  Techno Comp Academy\n"
     ]
    }
   ],
   "source": [
    "s = input(\"Enter string : \")\n",
    "print(s)\n",
    "L = s.split()\n",
    "print(L)\n",
    "j = str()\n",
    "for i in L:\n",
    "    j = j + i + \" \"\n",
    "#j = j.rstrip()\n",
    "j = j[:-1]\n",
    "print(\"String : \",j)\n"
   ]
  },
  {
   "cell_type": "code",
   "execution_count": 15,
   "id": "29379bc0",
   "metadata": {},
   "outputs": [
    {
     "name": "stdout",
     "output_type": "stream",
     "text": [
      "Hello\n"
     ]
    }
   ],
   "source": [
    "print(\"Hello\")"
   ]
  },
  {
   "cell_type": "code",
   "execution_count": 24,
   "id": "e7310e8c",
   "metadata": {},
   "outputs": [
    {
     "name": "stdout",
     "output_type": "stream",
     "text": [
      "Enter string : abc\n",
      "abc\n",
      "bcbcbcbc\n"
     ]
    }
   ],
   "source": [
    "s = input(\"Enter string : \")\n",
    "print(s)\n",
    "r = s[-2:]\n",
    "print(r*4)"
   ]
  },
  {
   "cell_type": "code",
   "execution_count": 2,
   "id": "61e3918d",
   "metadata": {},
   "outputs": [
    {
     "name": "stdout",
     "output_type": "stream",
     "text": [
      "Enter string : ABCD\n",
      "ABCD\n",
      "DBCA\n"
     ]
    }
   ],
   "source": [
    "s = input(\"Enter string : \")\n",
    "print(s)\n",
    "r = s[-1] + s[1:-1] + s[0]\n",
    "print(r)"
   ]
  },
  {
   "cell_type": "code",
   "execution_count": 2,
   "id": "9c05c709",
   "metadata": {},
   "outputs": [
    {
     "name": "stdout",
     "output_type": "stream",
     "text": [
      "Enter string : india\n",
      "aidni\n"
     ]
    }
   ],
   "source": [
    "#Reverse a String: Write a function to reverse a given string.\n",
    "#For example, if the input is \"hello,\" the output should be \"olleh.\"\n",
    "def reverse(s):\n",
    "    s = s[-1::-1]\n",
    "    return s\n",
    "\n",
    "s = input(\"Enter string : \")\n",
    "s = reverse(s)\n",
    "print(s)"
   ]
  },
  {
   "cell_type": "code",
   "execution_count": 4,
   "id": "2985b434",
   "metadata": {},
   "outputs": [
    {
     "name": "stdout",
     "output_type": "stream",
     "text": [
      "Enter string : madam\n",
      "string is pallindrome\n"
     ]
    }
   ],
   "source": [
    "#pallindrome\n",
    "def reverse(s):\n",
    "    s = s[-1::-1]\n",
    "    return s\n",
    "\n",
    "s = input(\"Enter string : \")\n",
    "r = reverse(s)\n",
    "if r == s:\n",
    "    print(\"string is pallindrome\")\n",
    "else:\n",
    "    print(\"string is not pallindrome\")"
   ]
  },
  {
   "cell_type": "code",
   "execution_count": 8,
   "id": "17ce6fc1",
   "metadata": {},
   "outputs": [
    {
     "name": "stdout",
     "output_type": "stream",
     "text": [
      "Enter string : abracadabra\n",
      "['a', 'b', 'r', 'c', 'd']\n",
      "abrcd"
     ]
    }
   ],
   "source": [
    "#remove duplicate characters\n",
    "s = input(\"Enter string : \")\n",
    "l = list()\n",
    "\n",
    "for i in s:\n",
    "    if i not in l:\n",
    "        l.append(i)\n",
    "print(l)\n",
    "        \n",
    "for i in l:\n",
    "    print(i,end=\"\")"
   ]
  },
  {
   "cell_type": "code",
   "execution_count": 21,
   "id": "8aacb33b",
   "metadata": {},
   "outputs": [
    {
     "name": "stdout",
     "output_type": "stream",
     "text": [
      "Enter string : ganesh patil\n",
      "GaneshPatil"
     ]
    }
   ],
   "source": [
    "#Capitalize the first letter of each word\n",
    "s = input(\"Enter string : \")\n",
    "L = s.split()\n",
    "\n",
    "for i in L:\n",
    "    if i[0].islower():\n",
    "        ns = i[0].upper() + i[1:]\n",
    "    print(ns,end=\" \")"
   ]
  },
  {
   "cell_type": "code",
   "execution_count": 22,
   "id": "510a9d7d",
   "metadata": {},
   "outputs": [
    {
     "name": "stdout",
     "output_type": "stream",
     "text": [
      "Help on class list in module builtins:\n",
      "\n",
      "class list(object)\n",
      " |  list(iterable=(), /)\n",
      " |  \n",
      " |  Built-in mutable sequence.\n",
      " |  \n",
      " |  If no argument is given, the constructor creates a new empty list.\n",
      " |  The argument must be an iterable if specified.\n",
      " |  \n",
      " |  Methods defined here:\n",
      " |  \n",
      " |  __add__(self, value, /)\n",
      " |      Return self+value.\n",
      " |  \n",
      " |  __contains__(self, key, /)\n",
      " |      Return key in self.\n",
      " |  \n",
      " |  __delitem__(self, key, /)\n",
      " |      Delete self[key].\n",
      " |  \n",
      " |  __eq__(self, value, /)\n",
      " |      Return self==value.\n",
      " |  \n",
      " |  __ge__(self, value, /)\n",
      " |      Return self>=value.\n",
      " |  \n",
      " |  __getattribute__(self, name, /)\n",
      " |      Return getattr(self, name).\n",
      " |  \n",
      " |  __getitem__(...)\n",
      " |      x.__getitem__(y) <==> x[y]\n",
      " |  \n",
      " |  __gt__(self, value, /)\n",
      " |      Return self>value.\n",
      " |  \n",
      " |  __iadd__(self, value, /)\n",
      " |      Implement self+=value.\n",
      " |  \n",
      " |  __imul__(self, value, /)\n",
      " |      Implement self*=value.\n",
      " |  \n",
      " |  __init__(self, /, *args, **kwargs)\n",
      " |      Initialize self.  See help(type(self)) for accurate signature.\n",
      " |  \n",
      " |  __iter__(self, /)\n",
      " |      Implement iter(self).\n",
      " |  \n",
      " |  __le__(self, value, /)\n",
      " |      Return self<=value.\n",
      " |  \n",
      " |  __len__(self, /)\n",
      " |      Return len(self).\n",
      " |  \n",
      " |  __lt__(self, value, /)\n",
      " |      Return self<value.\n",
      " |  \n",
      " |  __mul__(self, value, /)\n",
      " |      Return self*value.\n",
      " |  \n",
      " |  __ne__(self, value, /)\n",
      " |      Return self!=value.\n",
      " |  \n",
      " |  __repr__(self, /)\n",
      " |      Return repr(self).\n",
      " |  \n",
      " |  __reversed__(self, /)\n",
      " |      Return a reverse iterator over the list.\n",
      " |  \n",
      " |  __rmul__(self, value, /)\n",
      " |      Return value*self.\n",
      " |  \n",
      " |  __setitem__(self, key, value, /)\n",
      " |      Set self[key] to value.\n",
      " |  \n",
      " |  __sizeof__(self, /)\n",
      " |      Return the size of the list in memory, in bytes.\n",
      " |  \n",
      " |  append(self, object, /)\n",
      " |      Append object to the end of the list.\n",
      " |  \n",
      " |  clear(self, /)\n",
      " |      Remove all items from list.\n",
      " |  \n",
      " |  copy(self, /)\n",
      " |      Return a shallow copy of the list.\n",
      " |  \n",
      " |  count(self, value, /)\n",
      " |      Return number of occurrences of value.\n",
      " |  \n",
      " |  extend(self, iterable, /)\n",
      " |      Extend list by appending elements from the iterable.\n",
      " |  \n",
      " |  index(self, value, start=0, stop=9223372036854775807, /)\n",
      " |      Return first index of value.\n",
      " |      \n",
      " |      Raises ValueError if the value is not present.\n",
      " |  \n",
      " |  insert(self, index, object, /)\n",
      " |      Insert object before index.\n",
      " |  \n",
      " |  pop(self, index=-1, /)\n",
      " |      Remove and return item at index (default last).\n",
      " |      \n",
      " |      Raises IndexError if list is empty or index is out of range.\n",
      " |  \n",
      " |  remove(self, value, /)\n",
      " |      Remove first occurrence of value.\n",
      " |      \n",
      " |      Raises ValueError if the value is not present.\n",
      " |  \n",
      " |  reverse(self, /)\n",
      " |      Reverse *IN PLACE*.\n",
      " |  \n",
      " |  sort(self, /, *, key=None, reverse=False)\n",
      " |      Sort the list in ascending order and return None.\n",
      " |      \n",
      " |      The sort is in-place (i.e. the list itself is modified) and stable (i.e. the\n",
      " |      order of two equal elements is maintained).\n",
      " |      \n",
      " |      If a key function is given, apply it once to each list item and sort them,\n",
      " |      ascending or descending, according to their function values.\n",
      " |      \n",
      " |      The reverse flag can be set to sort in descending order.\n",
      " |  \n",
      " |  ----------------------------------------------------------------------\n",
      " |  Static methods defined here:\n",
      " |  \n",
      " |  __new__(*args, **kwargs) from builtins.type\n",
      " |      Create and return a new object.  See help(type) for accurate signature.\n",
      " |  \n",
      " |  ----------------------------------------------------------------------\n",
      " |  Data and other attributes defined here:\n",
      " |  \n",
      " |  __hash__ = None\n",
      "\n"
     ]
    }
   ],
   "source": [
    "help(list)"
   ]
  },
  {
   "cell_type": "code",
   "execution_count": null,
   "id": "3ee81da7",
   "metadata": {},
   "outputs": [],
   "source": []
  },
  {
   "cell_type": "code",
   "execution_count": null,
   "id": "21f5e246",
   "metadata": {},
   "outputs": [],
   "source": []
  },
  {
   "cell_type": "code",
   "execution_count": null,
   "id": "54422507",
   "metadata": {},
   "outputs": [],
   "source": []
  }
 ],
 "metadata": {
  "kernelspec": {
   "display_name": "Python 3 (ipykernel)",
   "language": "python",
   "name": "python3"
  },
  "language_info": {
   "codemirror_mode": {
    "name": "ipython",
    "version": 3
   },
   "file_extension": ".py",
   "mimetype": "text/x-python",
   "name": "python",
   "nbconvert_exporter": "python",
   "pygments_lexer": "ipython3",
   "version": "3.8.10"
  }
 },
 "nbformat": 4,
 "nbformat_minor": 5
}
