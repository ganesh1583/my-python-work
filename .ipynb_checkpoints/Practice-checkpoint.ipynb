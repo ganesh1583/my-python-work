{
 "cells": [
  {
   "cell_type": "code",
   "execution_count": 1,
   "id": "54e4da09",
   "metadata": {},
   "outputs": [
    {
     "name": "stdout",
     "output_type": "stream",
     "text": [
      "Enter string : india\n",
      "Reversed string :  aidni\n"
     ]
    }
   ],
   "source": [
    "#Reverse a String: Write a function that takes a string as input and returns the reverse of that string.\n",
    "def reverse(s):\n",
    "    return s[-1::-1]\n",
    "s = input(\"Enter string : \")\n",
    "rs = reverse(s)\n",
    "print(\"Reversed string : \",rs)"
   ]
  },
  {
   "cell_type": "code",
   "execution_count": 8,
   "id": "b429555e",
   "metadata": {},
   "outputs": [
    {
     "name": "stdout",
     "output_type": "stream",
     "text": [
      "Enter string : i am ganesh patil\n",
      "Vowels in string :  {'e', 'a', 'i'}\n"
     ]
    }
   ],
   "source": [
    "#Count Vowels: Write a function that takes a string as input and returns the \n",
    "#number of vowels (a, e, i, o, u) in the string.\n",
    "v = [\"a\",\"e\",\"i\",\"o\",\"u\",\"A\",\"E\",\"I\",\"O\",\"U\"]\n",
    "def function(s):\n",
    "    ts = set()\n",
    "    for i in s:\n",
    "        if i in v:\n",
    "            ts.update(i)\n",
    "    return ts\n",
    "s = input(\"Enter string : \")\n",
    "rs = function(s)\n",
    "print(\"Vowels in string : \",rs)"
   ]
  },
  {
   "cell_type": "code",
   "execution_count": 10,
   "id": "8eefc0dd",
   "metadata": {},
   "outputs": [
    {
     "name": "stdout",
     "output_type": "stream",
     "text": [
      "Enter string : madam\n",
      "Reversed string :  madam\n",
      "Pallindrome\n"
     ]
    }
   ],
   "source": [
    "#Palindrome Check: Write a function that checks if a given string is a palindrome \n",
    "#(reads the same forwards and backwards).\n",
    "#Reverse a String: Write a function that takes a string as input and returns the reverse of that string.\n",
    "def reverse(s):\n",
    "    return s[-1::-1]\n",
    "s = input(\"Enter string : \")\n",
    "rs = reverse(s)\n",
    "print(\"Reversed string : \",rs)\n",
    "\n",
    "if s == rs:\n",
    "    print(\"Pallindrome\")\n",
    "else:\n",
    "    print(\"Not pallindrome\")"
   ]
  },
  {
   "cell_type": "code",
   "execution_count": 8,
   "id": "f426da76",
   "metadata": {},
   "outputs": [
    {
     "name": "stdout",
     "output_type": "stream",
     "text": [
      "Enter string : silent\n",
      "Enter string : listen\n",
      "['t']\n",
      "['t']\n",
      "Anagram\n"
     ]
    }
   ],
   "source": [
    "#Anagrams Check: Write a function that checks if two strings are anagrams \n",
    "#(contain the same characters in any order).\n",
    "L1 = list()\n",
    "L2 = list()\n",
    "def anagram(s1,s2):\n",
    "    for a in s1:\n",
    "        L1.append(a)\n",
    "    for b in s2:\n",
    "        L2.append(b)\n",
    "    for i in L1:\n",
    "        if i in L2:\n",
    "            L1.remove(i)\n",
    "            L2.remove(i)\n",
    "    for i in L2:\n",
    "        if i in L1:\n",
    "            L1.remove(i)\n",
    "            L2.remove(i)\n",
    "    print(L1)\n",
    "    print(L2)\n",
    "    if L1==L2:\n",
    "        print(\"Anagram\")\n",
    "    else:\n",
    "        print(\"Not anagram\")\n",
    "s1 = input(\"Enter string : \")\n",
    "s2 = input(\"Enter string : \")\n",
    "\n",
    "anagram(s1,s2)"
   ]
  },
  {
   "cell_type": "code",
   "execution_count": 2,
   "id": "e7947e7d",
   "metadata": {},
   "outputs": [
    {
     "name": "stdout",
     "output_type": "stream",
     "text": [
      "True\n"
     ]
    }
   ],
   "source": [
    "a = list()\n",
    "b = list()\n",
    "print(a==b)"
   ]
  },
  {
   "cell_type": "code",
   "execution_count": 18,
   "id": "bebf560d",
   "metadata": {},
   "outputs": [
    {
     "name": "stdout",
     "output_type": "stream",
     "text": [
      "Enter string : abcd\n",
      "No repeat\n"
     ]
    }
   ],
   "source": [
    "#Unique Characters: Write a function that takes a string as input and checks if all characters\n",
    "#in the string are unique (no repeated characters).\n",
    "def check(s):\n",
    "    ts = set()\n",
    "    for i in s:\n",
    "        if i in ts:\n",
    "            return False\n",
    "        ts.add(i)\n",
    "    return True\n",
    "s = input(\"Enter string : \")\n",
    "t = check(s)\n",
    "if t == True:\n",
    "    print(\"No repeat\")\n",
    "else:\n",
    "    print(\"Repeat\")"
   ]
  },
  {
   "cell_type": "code",
   "execution_count": 22,
   "id": "81b71346",
   "metadata": {},
   "outputs": [
    {
     "name": "stdout",
     "output_type": "stream",
     "text": [
      "<class 'str'>\n"
     ]
    }
   ],
   "source": [
    "L = [\"11\",\"22\",\"33\"]\n",
    "s = \"-\".join(L)\n",
    "print(type(s))"
   ]
  },
  {
   "cell_type": "code",
   "execution_count": 23,
   "id": "db936bd1",
   "metadata": {},
   "outputs": [
    {
     "name": "stdout",
     "output_type": "stream",
     "text": [
      "Enter list : [1,2,3]\n",
      "Sum :  6\n"
     ]
    }
   ],
   "source": [
    "#Sum of Elements: Write a function that takes a list of numbers \n",
    "#as input and returns the sum of all elements in the list.\n",
    "def add(L):\n",
    "    ans = 0\n",
    "    for i in L:\n",
    "        ans+=i\n",
    "    return ans\n",
    "    \n",
    "L = eval(input(\"Enter list : \"))\n",
    "ans = add(L)\n",
    "print(\"Sum : \",ans)"
   ]
  },
  {
   "cell_type": "code",
   "execution_count": 24,
   "id": "d6113f41",
   "metadata": {},
   "outputs": [
    {
     "name": "stdout",
     "output_type": "stream",
     "text": [
      "Enter list : [1,3,4]\n",
      "[4, 3, 1]\n"
     ]
    }
   ],
   "source": [
    "#List Reversal: Write a function that takes a list as \n",
    "#input and returns a new list with the elements reversed.\n",
    "def reverse(L):\n",
    "    return L[-1::-1]\n",
    "L = eval(input(\"Enter list : \"))\n",
    "ans = reverse(L)\n",
    "print(ans)"
   ]
  },
  {
   "cell_type": "code",
   "execution_count": 27,
   "id": "c0bfa5fa",
   "metadata": {},
   "outputs": [
    {
     "name": "stdout",
     "output_type": "stream",
     "text": [
      "[1, 2, 3, 4, 5, 6, 7, 8, 9, 10, 11, 12, 13, 14, 15, 16, 17, 18, 19, 20, 21, 22, 23, 24, 25, 26, 27, 28, 29]\n",
      "[2, 4, 6, 8, 10, 12, 14, 16, 18, 20, 22, 24, 26, 28]\n"
     ]
    }
   ],
   "source": [
    "#Even Numbers: Write a function that takes a list of numbers as input and returns a\n",
    "#new list containing only the even numbers from the original list.\n",
    "L = list(range(1,30))\n",
    "print(L)\n",
    "SL = [i for i in L if i%2==0]\n",
    "print(SL)"
   ]
  },
  {
   "cell_type": "code",
   "execution_count": 28,
   "id": "a5e2d5f4",
   "metadata": {},
   "outputs": [
    {
     "name": "stdout",
     "output_type": "stream",
     "text": [
      "[1, 2, 3, 4, 5, 7, 8, 9, 10, 11, 12]\n"
     ]
    }
   ],
   "source": [
    "#List Concatenation: Write a function that takes two lists as input and returns a\n",
    "#new list that is the concatenation of the two input lists.\n",
    "\n",
    "L1 = list(range(1,6))\n",
    "L2 = list(range(7,13))\n",
    "L = L1+L2\n",
    "print(L)"
   ]
  },
  {
   "cell_type": "code",
   "execution_count": 39,
   "id": "d1f6c540",
   "metadata": {},
   "outputs": [
    {
     "name": "stdout",
     "output_type": "stream",
     "text": [
      "{1: True, 2: True, 3: True, 4: True, 5: True, 6: True, 7: True, 8: True}\n",
      "[1, 2, 3, 4, 5, 6, 7, 8]\n"
     ]
    }
   ],
   "source": [
    "#Remove Duplicates: Write a function that takes a list as input and returns a new list\n",
    "#with duplicates removed, preserving the original order.\n",
    "def remove_duplicates(input_list):\n",
    "    seen = {}\n",
    "    result = []\n",
    "\n",
    "    for item in input_list:\n",
    "        if item not in seen:\n",
    "            seen[item] = True\n",
    "            result.append(item)\n",
    "    return result\n",
    "\n",
    "# Test the function\n",
    "input_list = [1, 2, 3, 2, 4, 5, 3, 6, 7, 7, 8]\n",
    "unique_list = remove_duplicates(input_list)\n",
    "print(unique_list)\n"
   ]
  },
  {
   "cell_type": "code",
   "execution_count": 40,
   "id": "90c15a84",
   "metadata": {},
   "outputs": [
    {
     "name": "stdout",
     "output_type": "stream",
     "text": [
      "8\n"
     ]
    }
   ],
   "source": [
    "#Write a function called calculate_power that takes two positional arguments, base and exponent, and returns the \n",
    "#result of base raised to the power of exponent.\n",
    "\n",
    "def fun(a,b):\n",
    "    return a**b\n",
    "print(fun(2,3))"
   ]
  },
  {
   "cell_type": "code",
   "execution_count": 12,
   "id": "114efe82",
   "metadata": {},
   "outputs": [
    {
     "name": "stdout",
     "output_type": "stream",
     "text": [
      "2\n"
     ]
    }
   ],
   "source": [
    "#Write a function called find_max that takes a variable number of arguments and \n",
    "#returns the largest value among them.\n",
    "def fun(*a):\n",
    "    ans = a[0]\n",
    "    for i in a:\n",
    "        if i > ans:\n",
    "            ans = i\n",
    "    return ans\n",
    "a = 1\n",
    "b= 2\n",
    "print(fun(a,b))"
   ]
  },
  {
   "cell_type": "code",
   "execution_count": 16,
   "id": "4caf622f",
   "metadata": {},
   "outputs": [
    {
     "name": "stdout",
     "output_type": "stream",
     "text": [
      "{'a': 2, 'b': 5}\n"
     ]
    }
   ],
   "source": [
    "#Write a function called print_contacts that takes a variable number of keyword arguments representing contact \n",
    "#information (name, phone, email) and prints each contact's details.\n",
    "def fun(**a):\n",
    "    print(a)\n",
    "    \n",
    "fun(a=2,b=5)"
   ]
  },
  {
   "cell_type": "code",
   "execution_count": 17,
   "id": "22fff419",
   "metadata": {},
   "outputs": [
    {
     "name": "stdout",
     "output_type": "stream",
     "text": [
      "Name: John\n",
      "Phone: 123-456-7890\n",
      "Email: john@example.com\n",
      "\n",
      "Name: Jane\n",
      "Phone: 987-654-3210\n",
      "\n",
      "Name: Sam\n",
      "Email: sam@example.com\n",
      "\n"
     ]
    }
   ],
   "source": [
    "def print_contacts(**kwargs):\n",
    "    for name, contact_info in kwargs.items():\n",
    "        print(f\"Name: {name}\")\n",
    "        if 'phone' in contact_info:\n",
    "            print(f\"Phone: {contact_info['phone']}\")\n",
    "        if 'email' in contact_info:\n",
    "            print(f\"Email: {contact_info['email']}\")\n",
    "        print()\n",
    "\n",
    "# Test the function\n",
    "print_contacts(\n",
    "    John={'phone': '123-456-7890', 'email': 'john@example.com'},\n",
    "    Jane={'phone': '987-654-3210'},\n",
    "    Sam={'email': 'sam@example.com'},\n",
    ")\n"
   ]
  },
  {
   "cell_type": "code",
   "execution_count": 28,
   "id": "22a8fc35",
   "metadata": {},
   "outputs": [
    {
     "name": "stdout",
     "output_type": "stream",
     "text": [
      "4\n"
     ]
    }
   ],
   "source": [
    "#Write a function called average that takes any number of arguments and returns the \n",
    "#average of those numbers. Use packing and unpacking techniques.\n",
    "def average(*a):\n",
    "    return sum(a)//len(a)\n",
    "\n",
    "ans = average(1,2,3,4,5,6,7)\n",
    "print(ans)"
   ]
  },
  {
   "cell_type": "code",
   "execution_count": 1,
   "id": "9ccea271",
   "metadata": {},
   "outputs": [
    {
     "name": "stdout",
     "output_type": "stream",
     "text": [
      "Enter no : 4\n",
      "16\n"
     ]
    }
   ],
   "source": [
    "a = int(input(\"Enter no : \"))\n",
    "s = lambda a:a*a\n",
    "print(s(a))"
   ]
  },
  {
   "cell_type": "code",
   "execution_count": 5,
   "id": "52901d0a",
   "metadata": {},
   "outputs": [
    {
     "name": "stdout",
     "output_type": "stream",
     "text": [
      "[1, 3, 5, 7, 9, 11, 13, 15, 17, 19, 21, 23, 25, 27, 29]\n",
      "[2, 4, 6, 8, 10, 12, 14, 16, 18, 20, 22, 24, 26, 28, 30]\n"
     ]
    }
   ],
   "source": [
    "#Find Even Numbers: Write a lambda function that takes a list of numbers as \n",
    "#input and returns a new list containing only the even numbers.\n",
    "even = lambda i:i%2==0\n",
    "odd = lambda i:i%2\n",
    "L = [i for i in range(1,31) if odd(i)]\n",
    "print(L)\n",
    "L = [i for i in range(1,31) if even(i)]\n",
    "print(L)"
   ]
  },
  {
   "cell_type": "code",
   "execution_count": 11,
   "id": "ad358108",
   "metadata": {},
   "outputs": [
    {
     "name": "stdout",
     "output_type": "stream",
     "text": [
      "[2, 4, 6, 8, 10, 12, 14, 16, 18, 20, 22, 24, 26, 28, 30, 32, 34, 36, 38]\n"
     ]
    }
   ],
   "source": [
    "#even nos\n",
    "\n",
    "L = list(filter(lambda i:i%2==0, range(1,40)))\n",
    "print(L)"
   ]
  },
  {
   "cell_type": "code",
   "execution_count": 12,
   "id": "4a6f5026",
   "metadata": {},
   "outputs": [
    {
     "name": "stdout",
     "output_type": "stream",
     "text": [
      "[1, 3, 5, 7, 9, 11, 13, 15, 17, 19, 21, 23, 25, 27, 29, 31, 33, 35, 37, 39]\n"
     ]
    }
   ],
   "source": [
    "#odd nos\n",
    "\n",
    "L = list(filter(lambda i:i%2, range(1,40)))\n",
    "print(L)"
   ]
  },
  {
   "cell_type": "code",
   "execution_count": 13,
   "id": "249941c1",
   "metadata": {},
   "outputs": [
    {
     "name": "stdout",
     "output_type": "stream",
     "text": [
      "[2, 8, 10, 7, 4]\n"
     ]
    }
   ],
   "source": [
    "#Write a Python program that takes a list of integers as input and uses the filter function with a lambda \n",
    "#function to filter and print only the positive numbers from the list.\n",
    "SL = [-3, 2, 0, 8, -5, 10, -1, 7, 4, -9]\n",
    "L = list(filter(lambda i:i>0,SL))\n",
    "print(L)"
   ]
  },
  {
   "cell_type": "code",
   "execution_count": 32,
   "id": "400545c7",
   "metadata": {},
   "outputs": [
    {
     "name": "stdout",
     "output_type": "stream",
     "text": [
      "['level', 'radar', 'deified', 'madam']\n"
     ]
    }
   ],
   "source": [
    "#Write a Python program that takes a list of words as input and uses the filter function with a lambda function\n",
    "#to filter and print only the palindromic words from the list.\n",
    "def pallindrome(a):\n",
    "    if a[::]==a[-1::-1]:\n",
    "        return a\n",
    "LW = [\"level\", \"Python\", \"radar\", \"program\", \"deified\", \"hello\", \"madam\", \"world\"]\n",
    "j = 0\n",
    "L = list(filter(lambda i:pallindrome(i),LW))\n",
    "print(L)"
   ]
  },
  {
   "cell_type": "code",
   "execution_count": 25,
   "id": "736d1304",
   "metadata": {},
   "outputs": [
    {
     "name": "stdout",
     "output_type": "stream",
     "text": [
      "True\n"
     ]
    }
   ],
   "source": [
    "ans = lambda i:i==\"abc\"\n",
    "print(ans(\"abc\"))"
   ]
  },
  {
   "cell_type": "code",
   "execution_count": 36,
   "id": "3e46d079",
   "metadata": {},
   "outputs": [
    {
     "name": "stdout",
     "output_type": "stream",
     "text": [
      "['hello', 'world', 'is', 'fun', 'prime', 'numbers']\n"
     ]
    }
   ],
   "source": [
    "#Write a Python program that takes a list of words as input and uses the filter function with a lambda function to filter and print \n",
    "#only the words with a prime number of characters from the list.\n",
    "def prime(a):\n",
    "    n = len(a)\n",
    "    for i in range(2,n):\n",
    "        if n%i==0:\n",
    "            return False\n",
    "    else:\n",
    "        return True\n",
    "p = [\"hello\", \"python\", \"world\", \"coding\", \"is\", \"fun\", \"prime\", \"numbers\"]\n",
    "L = list(filter(lambda i:prime(i),p))\n",
    "print(L)"
   ]
  },
  {
   "cell_type": "code",
   "execution_count": 44,
   "id": "06b3bf96",
   "metadata": {},
   "outputs": [
    {
     "name": "stdout",
     "output_type": "stream",
     "text": [
      "['python', 'world', 'code', 'is', 'fun', 'with']\n"
     ]
    }
   ],
   "source": [
    "#Write a Python program that takes a list of words as input and uses the filter function with a lambda function to \n",
    "#filter and print only the words with unique characters from the list.\n",
    "\n",
    "def unique(s):\n",
    "    return len(s)==len(set(s))\n",
    "        #return True\n",
    "\n",
    "SL = [\"hello\", \"python\", \"world\", \"unique\", \"characters\", \"code\", \"is\", \"fun\", \"with\", \"distinct\"]\n",
    "L = list(filter(lambda i:unique(i),SL))\n",
    "print(L)"
   ]
  },
  {
   "cell_type": "code",
   "execution_count": 46,
   "id": "4447a463",
   "metadata": {},
   "outputs": [
    {
     "name": "stdout",
     "output_type": "stream",
     "text": [
      "[101, 102, 103, 104]\n"
     ]
    }
   ],
   "source": [
    "L = list(range(1,5))\n",
    "SL = list(map(lambda i:i+100,L))\n",
    "print(SL)"
   ]
  },
  {
   "cell_type": "code",
   "execution_count": 48,
   "id": "03ab8cd3",
   "metadata": {},
   "outputs": [
    {
     "name": "stdout",
     "output_type": "stream",
     "text": [
      "[1, 4, 9, 16, 25, 36, 49, 64, 81, 100]\n"
     ]
    }
   ],
   "source": [
    "#Write a Python program that takes a list of numbers as input and uses the map function with a \n",
    "#lambda function to calculate and print the square of each number in the list.\n",
    "SL = list(range(1,11))\n",
    "L = list(map(lambda i:i*i,SL))\n",
    "print(L)"
   ]
  },
  {
   "cell_type": "code",
   "execution_count": 49,
   "id": "86f43c5f",
   "metadata": {},
   "outputs": [
    {
     "name": "stdout",
     "output_type": "stream",
     "text": [
      "[1, 4, 9, 16, 25, 36, 49, 64, 81, 100]\n"
     ]
    }
   ],
   "source": [
    "print(L)"
   ]
  },
  {
   "cell_type": "code",
   "execution_count": 52,
   "id": "cbbcfac2",
   "metadata": {},
   "outputs": [
    {
     "name": "stdout",
     "output_type": "stream",
     "text": [
      "[3, 4, 0, 5, 100, 1, 49, 16, 9]\n"
     ]
    }
   ],
   "source": [
    "def fun(n):\n",
    "    if n>0:\n",
    "        return n**2\n",
    "    elif n<0:\n",
    "        return -n\n",
    "    else:\n",
    "        return n\n",
    "SL = [-3, 2, 0, -5, 10, -1, 7, 4, -9]\n",
    "L = list(map(lambda i:fun(i),SL))\n",
    "print(L)"
   ]
  },
  {
   "cell_type": "code",
   "execution_count": 64,
   "id": "bf95e5a5",
   "metadata": {},
   "outputs": [
    {
     "name": "stdout",
     "output_type": "stream",
     "text": [
      "['Hello', 'Python', 'World', 'Capitalize', 'Words', 'Using', 'Map']\n"
     ]
    }
   ],
   "source": [
    "#Write a Python program that takes a list of strings as input and uses the map function with a lambda \n",
    "#function to capitalize the first letter of each word in the list.\n",
    "SL = [\"hello\", \"python\", \"world\", \"capitalize\", \"words\",\"using\", \"map\"]\n",
    "L = list(map(lambda i:i.capitalize(),SL)) \n",
    "print(L)"
   ]
  },
  {
   "cell_type": "code",
   "execution_count": 69,
   "id": "7b04c700",
   "metadata": {},
   "outputs": [
    {
     "name": "stdout",
     "output_type": "stream",
     "text": [
      "362880\n"
     ]
    }
   ],
   "source": [
    "import functools\n",
    "L = list(range(1,10))\n",
    "SL = functools.reduce(lambda x,y:x*y,L)\n",
    "print(SL)"
   ]
  },
  {
   "cell_type": "code",
   "execution_count": 1,
   "id": "dc6712f5",
   "metadata": {},
   "outputs": [
    {
     "name": "stdout",
     "output_type": "stream",
     "text": [
      "[1, 3, 5, 7, 9, 11, 13, 15, 17, 19]\n"
     ]
    }
   ],
   "source": [
    "L = list(filter(lambda i:i%2,range(1,21)))\n",
    "print(L)"
   ]
  },
  {
   "cell_type": "code",
   "execution_count": 6,
   "id": "6ceee967",
   "metadata": {},
   "outputs": [
    {
     "name": "stdout",
     "output_type": "stream",
     "text": [
      "[0, 1, 2, 3, 4, 5, 6, 7, 8, 9]\n",
      "[500, 1001, 502, 1003, 504, 1005, 506, 1007, 508, 1009]\n"
     ]
    }
   ],
   "source": [
    "SL = list(range(10))\n",
    "print(SL)\n",
    "L = list(map(lambda i:i+1000 if i%2 else i+500,SL))\n",
    "print(L)"
   ]
  },
  {
   "cell_type": "code",
   "execution_count": 10,
   "id": "9ee6a7a2",
   "metadata": {},
   "outputs": [
    {
     "data": {
      "text/plain": [
       "['HELLO', 'PYTHON', 'WORLD', 'CAPITALIZE', 'WORDS', 'USING', 'MAP']"
      ]
     },
     "execution_count": 10,
     "metadata": {},
     "output_type": "execute_result"
    }
   ],
   "source": [
    "lambda lst: [x for x in lst if x % 2 == 0]\n",
    "s = [\"hello\", \"python\", \"world\", \"capitalize\", \"words\",\"using\", \"map\"]\n",
    "a=lambda strings: [s.upper() for s in strings]\n",
    "a(s)"
   ]
  },
  {
   "cell_type": "code",
   "execution_count": null,
   "id": "1d857ce7",
   "metadata": {},
   "outputs": [],
   "source": [
    "#Comprehension"
   ]
  },
  {
   "cell_type": "code",
   "execution_count": 11,
   "id": "78c1de74",
   "metadata": {},
   "outputs": [
    {
     "name": "stdout",
     "output_type": "stream",
     "text": [
      "[0, 1, 4, 9, 16, 25, 36, 49, 64, 81, 100]\n"
     ]
    }
   ],
   "source": [
    "#Write a list comprehension to create a list of squares of the first 10 natural numbers.\n",
    "L = [i*i for i in range(11)]\n",
    "print(L)"
   ]
  },
  {
   "cell_type": "code",
   "execution_count": 16,
   "id": "1e54fc8e",
   "metadata": {},
   "outputs": [
    {
     "name": "stdout",
     "output_type": "stream",
     "text": [
      "['Hello', 'I', 'am', 'Ganesh']\n",
      "[5, 1, 2, 6]\n"
     ]
    }
   ],
   "source": [
    "#Write a tuple comprehension to create a tuple containing the lengths of words in a given sentence.\n",
    "S = \"Hello I am Ganesh\"\n",
    "SL = S.split()\n",
    "print(SL)\n",
    "L = [len(i) for i in SL]\n",
    "print(L)"
   ]
  },
  {
   "cell_type": "code",
   "execution_count": 18,
   "id": "4d17f1aa",
   "metadata": {},
   "outputs": [
    {
     "name": "stdout",
     "output_type": "stream",
     "text": [
      "{'o', 'a', 'u', 'i'}\n"
     ]
    }
   ],
   "source": [
    "#Write a set comprehension to create a set of all the vowels present in a given string.\n",
    "s = \"india is my country\"\n",
    "v = [\"a\",\"e\",\"i\",\"o\",\"u\"]\n",
    "S = {i for i in s if i in v}\n",
    "print(S)"
   ]
  },
  {
   "cell_type": "code",
   "execution_count": 20,
   "id": "b0da9cf9",
   "metadata": {},
   "outputs": [
    {
     "name": "stdout",
     "output_type": "stream",
     "text": [
      "{'hello': 5, 'python': 6, 'world': 5, 'capitalize': 10, 'words': 5, 'using': 5, 'map': 3}\n"
     ]
    }
   ],
   "source": [
    "#Given a list of names, create a dictionary comprehension to create a dictionary where \n",
    "#the keys are names and the values are the lengths of the names.\n",
    "s = [\"hello\", \"python\", \"world\", \"capitalize\", \"words\",\"using\", \"map\"]\n",
    "d = {i:len(i) for i in s}\n",
    "print(d)"
   ]
  },
  {
   "cell_type": "code",
   "execution_count": 25,
   "id": "e31a7dca",
   "metadata": {},
   "outputs": [
    {
     "name": "stdout",
     "output_type": "stream",
     "text": [
      "{1: 100, 2: 200, 3: 300}\n",
      "1 100\n",
      "2 200\n",
      "3 300\n"
     ]
    }
   ],
   "source": [
    "d = {1:100,2:200,3:300}\n",
    "print(d)\n",
    "\n",
    "for i,j in d.items():\n",
    "    print(i,j)"
   ]
  },
  {
   "cell_type": "code",
   "execution_count": 31,
   "id": "362c3a8a",
   "metadata": {},
   "outputs": [
    {
     "name": "stdout",
     "output_type": "stream",
     "text": [
      "000\n",
      "000\n",
      "000\n"
     ]
    }
   ],
   "source": [
    "#Write a nested list comprehension to create a 3x3 matrix filled with zeros.\n",
    "L = [[0 for i in range(3)] for j in range(3)]\n",
    "for i in L:\n",
    "    for j in i:\n",
    "        print(j,end=\"\")\n",
    "    print()"
   ]
  },
  {
   "cell_type": "code",
   "execution_count": 34,
   "id": "dd9e6586",
   "metadata": {},
   "outputs": [
    {
     "name": "stdout",
     "output_type": "stream",
     "text": [
      "{'hello': {'h': 1, 'e': 1, 'l': 2, 'o': 1}, 'python': {'p': 1, 'y': 1, 't': 1, 'h': 1, 'o': 1, 'n': 1}, 'world': {'w': 1, 'o': 1, 'r': 1, 'l': 1, 'd': 1}, 'capitalize': {'c': 1, 'a': 2, 'p': 1, 'i': 2, 't': 1, 'l': 1, 'z': 1, 'e': 1}, 'words': {'w': 1, 'o': 1, 'r': 1, 'd': 1, 's': 1}, 'using': {'u': 1, 's': 1, 'i': 1, 'n': 1, 'g': 1}, 'map': {'m': 1, 'a': 1, 'p': 1}}\n"
     ]
    }
   ],
   "source": [
    "#Given a list of words, create a nested dictionary comprehension to create a dictionary where the keys are the words,\n",
    "#and the values are dictionaries with keys as characters in the word and values as the count of those characters.\n",
    "s = [\"hello\", \"python\", \"world\", \"capitalize\", \"words\",\"using\", \"map\"]\n",
    "def count(s,c):\n",
    "    cnt = 0\n",
    "    for i in s:\n",
    "        if c==i:\n",
    "            cnt+=1\n",
    "    return cnt\n",
    "d = {i:{j:count(i,j) for j in i} for i in s}\n",
    "print(d)"
   ]
  },
  {
   "cell_type": "code",
   "execution_count": 35,
   "id": "9e469fa5",
   "metadata": {},
   "outputs": [
    {
     "name": "stdout",
     "output_type": "stream",
     "text": [
      "[0, 2, 4, 6, 8, 10, 12, 14, 16, 18, 20, 22, 24, 26, 28, 30, 32, 34, 36, 38]\n"
     ]
    }
   ],
   "source": [
    "#Given a list of numbers, create a list comprehension to create a list of even numbers only.\n",
    "sl = list(range(40))\n",
    "L = [i for i in sl if i%2==0]\n",
    "print(L)"
   ]
  },
  {
   "cell_type": "code",
   "execution_count": 37,
   "id": "1a44cbb8",
   "metadata": {},
   "outputs": [
    {
     "name": "stdout",
     "output_type": "stream",
     "text": [
      "{'python': True, 'capitalize': True}\n"
     ]
    }
   ],
   "source": [
    "#Given a list of names, create a dictionary comprehension to create a dictionary where the \n",
    "#keys are names and the values are True if the name contains more than five characters, otherwise False.\n",
    "s = [\"hello\", \"python\", \"world\", \"capitalize\", \"words\",\"using\", \"map\"]\n",
    "d = {i:True for i in s if len(i)>5}\n",
    "print(d)"
   ]
  },
  {
   "cell_type": "code",
   "execution_count": 42,
   "id": "d64e5518",
   "metadata": {},
   "outputs": [
    {
     "name": "stdout",
     "output_type": "stream",
     "text": [
      "[11, 12, 13, 14, 15, 16, 17, 18, 19, 20]\n"
     ]
    }
   ],
   "source": [
    "#Given two lists of numbers, create a list comprehension to create a list of \n",
    "#tuples containing the sum of corresponding elements from both lists.\n",
    "L1 = list(range(1,11))\n",
    "L2 = list(range(10,21))\n",
    "L = [L1[i]+L2[j] for i in range(len(L1))]\n",
    "print(L)"
   ]
  },
  {
   "cell_type": "code",
   "execution_count": 59,
   "id": "0190cc53",
   "metadata": {},
   "outputs": [
    {
     "name": "stdout",
     "output_type": "stream",
     "text": [
      "[1, 6, 3, 8, 3, 2]\n",
      "8\n"
     ]
    }
   ],
   "source": [
    "# Write a Python program to find the second largest element in a list.\n",
    "L = [1,6,3,8,3,2,9]\n",
    "sl = list()\n",
    "ans = 0\n",
    "for i in L:\n",
    "    if i > ans:\n",
    "        ans = i\n",
    "L.remove(ans)\n",
    "print(L)\n",
    "ans = 0\n",
    "for i in L:\n",
    "    if i > ans:\n",
    "        ans = i    \n",
    "print(ans)"
   ]
  },
  {
   "cell_type": "code",
   "execution_count": 65,
   "id": "d3e4a9e7",
   "metadata": {},
   "outputs": [
    {
     "name": "stdout",
     "output_type": "stream",
     "text": [
      "[0, 1, 2, 3, 5, 7, 11, 13, 17, 19, 23, 29, 31, 37, 41, 43, 47, 53, 59, 61, 67, 71, 73, 79, 83, 89, 97]\n"
     ]
    }
   ],
   "source": [
    "#Given a list of integers, write a function to return a new list containing only the prime numbers.\n",
    "L = [i for i in range(100) if all(i%j!=0 for j in range(2,i))]\n",
    "print(L)"
   ]
  },
  {
   "cell_type": "code",
   "execution_count": 73,
   "id": "123abc25",
   "metadata": {},
   "outputs": [
    {
     "name": "stdout",
     "output_type": "stream",
     "text": [
      "('c', 'b', 'a')\n"
     ]
    }
   ],
   "source": [
    "#Create a tuple containing the names of your favorite fruits. \n",
    "#Write a program to print the fruits in reverse order.\n",
    "t = ('a','b','c')\n",
    "print(t[::-1])"
   ]
  },
  {
   "cell_type": "code",
   "execution_count": 83,
   "id": "db8f5026",
   "metadata": {},
   "outputs": [
    {
     "data": {
      "text/plain": [
       "[4]"
      ]
     },
     "execution_count": 83,
     "metadata": {},
     "output_type": "execute_result"
    }
   ],
   "source": [
    "# Write a function to check if two sets have any common elements.\n",
    "def check(s1,s2):\n",
    "    for i in s1:\n",
    "        if i in s2:\n",
    "            c.append(i)\n",
    "    return c\n",
    "c = list()\n",
    "s1 = {1,2,3,4}\n",
    "s2 = {5,6,7,8,4}\n",
    "check(s1,s2)"
   ]
  },
  {
   "cell_type": "code",
   "execution_count": 84,
   "id": "f78bfc22",
   "metadata": {},
   "outputs": [
    {
     "name": "stdout",
     "output_type": "stream",
     "text": [
      "HEllo\n"
     ]
    }
   ],
   "source": [
    "print(\"HEllo\")"
   ]
  },
  {
   "cell_type": "code",
   "execution_count": 85,
   "id": "021899d4",
   "metadata": {},
   "outputs": [
    {
     "name": "stdout",
     "output_type": "stream",
     "text": [
      "Name :  c Age :  99\n"
     ]
    }
   ],
   "source": [
    "# Create a dictionary with names as keys and ages as values. Write a program to find the oldest person's name.\n",
    "d = {\"a\":45,\"b\":28,\"c\":99}\n",
    "key = None\n",
    "ans = 0\n",
    "for i,j in d.items():\n",
    "    if j > ans:\n",
    "         ans = j\n",
    "         key = i\n",
    "print(\"Name : \",i,\"Age : \",ans)"
   ]
  },
  {
   "cell_type": "code",
   "execution_count": 86,
   "id": "ccdcca6c",
   "metadata": {
    "collapsed": true
   },
   "outputs": [
    {
     "name": "stdout",
     "output_type": "stream",
     "text": [
      "Help on class dict in module builtins:\n",
      "\n",
      "class dict(object)\n",
      " |  dict() -> new empty dictionary\n",
      " |  dict(mapping) -> new dictionary initialized from a mapping object's\n",
      " |      (key, value) pairs\n",
      " |  dict(iterable) -> new dictionary initialized as if via:\n",
      " |      d = {}\n",
      " |      for k, v in iterable:\n",
      " |          d[k] = v\n",
      " |  dict(**kwargs) -> new dictionary initialized with the name=value pairs\n",
      " |      in the keyword argument list.  For example:  dict(one=1, two=2)\n",
      " |  \n",
      " |  Built-in subclasses:\n",
      " |      StgDict\n",
      " |  \n",
      " |  Methods defined here:\n",
      " |  \n",
      " |  __contains__(self, key, /)\n",
      " |      True if the dictionary has the specified key, else False.\n",
      " |  \n",
      " |  __delitem__(self, key, /)\n",
      " |      Delete self[key].\n",
      " |  \n",
      " |  __eq__(self, value, /)\n",
      " |      Return self==value.\n",
      " |  \n",
      " |  __ge__(self, value, /)\n",
      " |      Return self>=value.\n",
      " |  \n",
      " |  __getattribute__(self, name, /)\n",
      " |      Return getattr(self, name).\n",
      " |  \n",
      " |  __getitem__(...)\n",
      " |      x.__getitem__(y) <==> x[y]\n",
      " |  \n",
      " |  __gt__(self, value, /)\n",
      " |      Return self>value.\n",
      " |  \n",
      " |  __init__(self, /, *args, **kwargs)\n",
      " |      Initialize self.  See help(type(self)) for accurate signature.\n",
      " |  \n",
      " |  __iter__(self, /)\n",
      " |      Implement iter(self).\n",
      " |  \n",
      " |  __le__(self, value, /)\n",
      " |      Return self<=value.\n",
      " |  \n",
      " |  __len__(self, /)\n",
      " |      Return len(self).\n",
      " |  \n",
      " |  __lt__(self, value, /)\n",
      " |      Return self<value.\n",
      " |  \n",
      " |  __ne__(self, value, /)\n",
      " |      Return self!=value.\n",
      " |  \n",
      " |  __repr__(self, /)\n",
      " |      Return repr(self).\n",
      " |  \n",
      " |  __reversed__(self, /)\n",
      " |      Return a reverse iterator over the dict keys.\n",
      " |  \n",
      " |  __setitem__(self, key, value, /)\n",
      " |      Set self[key] to value.\n",
      " |  \n",
      " |  __sizeof__(...)\n",
      " |      D.__sizeof__() -> size of D in memory, in bytes\n",
      " |  \n",
      " |  clear(...)\n",
      " |      D.clear() -> None.  Remove all items from D.\n",
      " |  \n",
      " |  copy(...)\n",
      " |      D.copy() -> a shallow copy of D\n",
      " |  \n",
      " |  get(self, key, default=None, /)\n",
      " |      Return the value for key if key is in the dictionary, else default.\n",
      " |  \n",
      " |  items(...)\n",
      " |      D.items() -> a set-like object providing a view on D's items\n",
      " |  \n",
      " |  keys(...)\n",
      " |      D.keys() -> a set-like object providing a view on D's keys\n",
      " |  \n",
      " |  pop(...)\n",
      " |      D.pop(k[,d]) -> v, remove specified key and return the corresponding value.\n",
      " |      If key is not found, d is returned if given, otherwise KeyError is raised\n",
      " |  \n",
      " |  popitem(self, /)\n",
      " |      Remove and return a (key, value) pair as a 2-tuple.\n",
      " |      \n",
      " |      Pairs are returned in LIFO (last-in, first-out) order.\n",
      " |      Raises KeyError if the dict is empty.\n",
      " |  \n",
      " |  setdefault(self, key, default=None, /)\n",
      " |      Insert key with a value of default if key is not in the dictionary.\n",
      " |      \n",
      " |      Return the value for key if key is in the dictionary, else default.\n",
      " |  \n",
      " |  update(...)\n",
      " |      D.update([E, ]**F) -> None.  Update D from dict/iterable E and F.\n",
      " |      If E is present and has a .keys() method, then does:  for k in E: D[k] = E[k]\n",
      " |      If E is present and lacks a .keys() method, then does:  for k, v in E: D[k] = v\n",
      " |      In either case, this is followed by: for k in F:  D[k] = F[k]\n",
      " |  \n",
      " |  values(...)\n",
      " |      D.values() -> an object providing a view on D's values\n",
      " |  \n",
      " |  ----------------------------------------------------------------------\n",
      " |  Class methods defined here:\n",
      " |  \n",
      " |  fromkeys(iterable, value=None, /) from builtins.type\n",
      " |      Create a new dictionary with keys from iterable and values set to value.\n",
      " |  \n",
      " |  ----------------------------------------------------------------------\n",
      " |  Static methods defined here:\n",
      " |  \n",
      " |  __new__(*args, **kwargs) from builtins.type\n",
      " |      Create and return a new object.  See help(type) for accurate signature.\n",
      " |  \n",
      " |  ----------------------------------------------------------------------\n",
      " |  Data and other attributes defined here:\n",
      " |  \n",
      " |  __hash__ = None\n",
      "\n"
     ]
    }
   ],
   "source": [
    "help(dict)"
   ]
  },
  {
   "cell_type": "code",
   "execution_count": 94,
   "id": "056aadd8",
   "metadata": {},
   "outputs": [
    {
     "name": "stdout",
     "output_type": "stream",
     "text": [
      "['is', 'mine', 'India', 'country']\n"
     ]
    }
   ],
   "source": [
    "# Use a lambda function to sort a list of strings based on the length of each string.\n",
    "s = \"India is mine country\"\n",
    "LS = s.split()\n",
    "\n",
    "L = sorted(LS,key=lambda i:len(i))\n",
    "print(L)"
   ]
  },
  {
   "cell_type": "code",
   "execution_count": 96,
   "id": "9869ddff",
   "metadata": {},
   "outputs": [
    {
     "name": "stdout",
     "output_type": "stream",
     "text": [
      "[5, 6, 5, 10, 5, 5, 3]\n"
     ]
    }
   ],
   "source": [
    "# Given a list of words, create a new list that contains the lengths of each word.\n",
    "SL = [\"hello\", \"python\", \"world\", \"capitalize\", \"words\",\"using\", \"map\"]\n",
    "L = [len(i) for i in SL]\n",
    "print(L)"
   ]
  },
  {
   "cell_type": "code",
   "execution_count": 105,
   "id": "7f6936f5",
   "metadata": {},
   "outputs": [
    {
     "name": "stdout",
     "output_type": "stream",
     "text": [
      "[1, 2, 3, 5, 8, 13, 21, 34, 55, 89, 144, 233, 377, 610, 987]\n"
     ]
    }
   ],
   "source": [
    "# Create a generator function that yields the Fibonacci sequence up to a given limit.\n",
    "def fun(n):\n",
    "    if n<0:\n",
    "        print(\"Negative No not allowed!\")\n",
    "    else:\n",
    "        f1 = 0\n",
    "        f2 = 1\n",
    "        for i in range(n):\n",
    "            f3 = f1+f2\n",
    "            #print(f3,end=\" \")\n",
    "            yield f3\n",
    "            f1 = f2\n",
    "            f2 = f3\n",
    "L = list(fun(15))\n",
    "print(L)"
   ]
  },
  {
   "cell_type": "code",
   "execution_count": 256,
   "id": "5baf98f5",
   "metadata": {},
   "outputs": [
    {
     "name": "stdout",
     "output_type": "stream",
     "text": [
      "[62, 62, 82, 46, 62, 3, 92, 33, 54, 96, 40, 15, 3, 55, 87, 41, 54, 64, 81, 89]\n"
     ]
    }
   ],
   "source": [
    "# Write a generator function that generates random numbers between 1 and 100 until a multiple of 7 is generated.\n",
    "import random\n",
    "def fun():\n",
    "    while(True):\n",
    "        r = random.randint(1,100)\n",
    "        if r%7==0:\n",
    "            return\n",
    "        yield r\n",
    "        \n",
    "\n",
    "g = list(fun())\n",
    "print(g)"
   ]
  },
  {
   "cell_type": "code",
   "execution_count": 258,
   "id": "50bd5a68",
   "metadata": {},
   "outputs": [
    {
     "name": "stdout",
     "output_type": "stream",
     "text": [
      "3\n"
     ]
    }
   ],
   "source": [
    "a = lambda i,j:i+j\n",
    "print(a(1,2))"
   ]
  },
  {
   "cell_type": "code",
   "execution_count": 67,
   "id": "4f271a99",
   "metadata": {},
   "outputs": [
    {
     "name": "stdout",
     "output_type": "stream",
     "text": [
      "[[1, 4, 7], [2, 5, 8], [3, 6, 9]]\n"
     ]
    }
   ],
   "source": [
    "#Given a matrix (2D list) represented as matrix = [[1, 2, 3], [4, 5, 6], [7, 8, 9]], write a \n",
    "#list comprehension to transpose the matrix (rows become columns and columns become rows).\n",
    "m = [[1, 2, 3], [4, 5, 6], [7, 8, 9]]\n",
    "\"\"\"\n",
    "[1,2,3] 00     [1,4,7] 00\n",
    "[4,5,6] 10     [2,5,8] 01\n",
    "[7,8,9]        [3,6,9]\n",
    "\"\"\"\n",
    "#L = [[m[j][i] for j in range(len(m))] for i in range(len(m[0]))]\n",
    "L = [[m[j][i] for j in range(3)] for i in range(3)]\n",
    "\n",
    "print(L)"
   ]
  },
  {
   "cell_type": "code",
   "execution_count": 10,
   "id": "84faedc5",
   "metadata": {},
   "outputs": [
    {
     "name": "stdout",
     "output_type": "stream",
     "text": [
      "[4, 5, 6, 5, 4, 5, 15]\n",
      "{'With': 4, 'great': 5, 'powers': 6, 'comes': 5, 'with': 4, 'responsibilties': 15}\n"
     ]
    }
   ],
   "source": [
    "#Write a list comprehension that takes a sentence as input and generates a list of the lengths of \n",
    "#each word in the sentence.Ignore punctuation and handle multiple spaces between words.\n",
    "\n",
    "s = \"With great powers comes with great responsibilties\"\n",
    "L = [len(i) for i in s.split()]\n",
    "print(L)\n",
    "d = {i:len(i) for i in s.split()}\n",
    "print(d)"
   ]
  },
  {
   "cell_type": "code",
   "execution_count": 36,
   "id": "a39be57f",
   "metadata": {},
   "outputs": [
    {
     "name": "stdout",
     "output_type": "stream",
     "text": [
      "['W', 'i', 't', 'h', ' ', 'g', 'r', 'e', 'a', 't', ' ', 'p', 'o', 'w', 'e', 'r', 's', ' ', 'c', 'o', 'm', 'e', 's', ' ', 'w', 'i', 't', 'h', ' ', 'g', 'r', 'e', 'a', 't', ' ', 'r', 'e', 's', 'p', 'o', 'n', 's', 'i', 'b', 'i', 'l', 't', 'i', 'e', 's']\n",
      "['W', 'i', 't', 'h', ' ', 'g', 'r', 'e', 'a', 't', ' ', 'p', 'o', 'w', 'e', 'r', 's', ' ', 'c', 'o', 'm', 'e', 's', ' ', 'w', 'i', 't', 'h', ' ', 'g', 'r', 'e', 'a', 't', ' ', 'r', 'e', 's', 'p', 'o', 'n', 's', 'i', 'b', 'i', 'l', 't', 'i', 'e', 's']\n"
     ]
    }
   ],
   "source": [
    "#Write a list comprehension that takes a string as input and generates a \n",
    "#list of all the unique characters in the string, in the order they appear.\n",
    "s = \"With great powers comes with great responsibilties\"\n",
    "L = [i for i in s if i not in L]\n",
    "print(L)\n",
    "rs = []\n",
    "rs = [char for char in s if char not in rs]\n",
    "print(rs)"
   ]
  },
  {
   "cell_type": "code",
   "execution_count": 76,
   "id": "0e092e57",
   "metadata": {},
   "outputs": [
    {
     "name": "stdout",
     "output_type": "stream",
     "text": [
      "[1, 2, 3, 5, 8, 13, 21, 34, 55, 89, 144, 233, 377, 610, 987, 1597, 2584, 4181, 6765, 10946]\n"
     ]
    }
   ],
   "source": [
    "f1 = 0\n",
    "f2 = 1\n",
    "f3 = None\n",
    "def f():\n",
    "    global f1,f2,f3\n",
    "    f3 = f1+f2\n",
    "    f1 = f2\n",
    "    f2 = f3\n",
    "    return f3\n",
    "L = [f() for i in range(20) ]\n",
    "print(L)"
   ]
  },
  {
   "cell_type": "code",
   "execution_count": 9,
   "id": "22f3cf5b",
   "metadata": {},
   "outputs": [
    {
     "ename": "IndexError",
     "evalue": "list index out of range",
     "output_type": "error",
     "traceback": [
      "\u001b[0;31m---------------------------------------------------------------------------\u001b[0m",
      "\u001b[0;31mIndexError\u001b[0m                                Traceback (most recent call last)",
      "Cell \u001b[0;32mIn[9], line 2\u001b[0m\n\u001b[1;32m      1\u001b[0m L \u001b[38;5;241m=\u001b[39m []\n\u001b[0;32m----> 2\u001b[0m L \u001b[38;5;241m=\u001b[39m [\u001b[38;5;241m0\u001b[39m, \u001b[38;5;241m1\u001b[39m] \u001b[38;5;241m+\u001b[39m [L[i \u001b[38;5;241m-\u001b[39m \u001b[38;5;241m2\u001b[39m] \u001b[38;5;241m+\u001b[39m L[i \u001b[38;5;241m-\u001b[39m \u001b[38;5;241m3\u001b[39m] \u001b[38;5;28;01mfor\u001b[39;00m i \u001b[38;5;129;01min\u001b[39;00m \u001b[38;5;28mrange\u001b[39m(\u001b[38;5;241m2\u001b[39m, \u001b[38;5;241m20\u001b[39m)]\n\u001b[1;32m      3\u001b[0m \u001b[38;5;28mprint\u001b[39m(fibonacci_sequence)\n",
      "Cell \u001b[0;32mIn[9], line 2\u001b[0m, in \u001b[0;36m<listcomp>\u001b[0;34m(.0)\u001b[0m\n\u001b[1;32m      1\u001b[0m L \u001b[38;5;241m=\u001b[39m []\n\u001b[0;32m----> 2\u001b[0m L \u001b[38;5;241m=\u001b[39m [\u001b[38;5;241m0\u001b[39m, \u001b[38;5;241m1\u001b[39m] \u001b[38;5;241m+\u001b[39m [\u001b[43mL\u001b[49m\u001b[43m[\u001b[49m\u001b[43mi\u001b[49m\u001b[43m \u001b[49m\u001b[38;5;241;43m-\u001b[39;49m\u001b[43m \u001b[49m\u001b[38;5;241;43m2\u001b[39;49m\u001b[43m]\u001b[49m \u001b[38;5;241m+\u001b[39m L[i \u001b[38;5;241m-\u001b[39m \u001b[38;5;241m3\u001b[39m] \u001b[38;5;28;01mfor\u001b[39;00m i \u001b[38;5;129;01min\u001b[39;00m \u001b[38;5;28mrange\u001b[39m(\u001b[38;5;241m2\u001b[39m, \u001b[38;5;241m20\u001b[39m)]\n\u001b[1;32m      3\u001b[0m \u001b[38;5;28mprint\u001b[39m(fibonacci_sequence)\n",
      "\u001b[0;31mIndexError\u001b[0m: list index out of range"
     ]
    }
   ],
   "source": [
    "L = []\n",
    "L = [0, 1] + [L[i - 2] + L[i - 3] for i in range(2, 20)]\n",
    "print(fibonacci_sequence)"
   ]
  },
  {
   "cell_type": "code",
   "execution_count": 11,
   "id": "d991ff1a",
   "metadata": {},
   "outputs": [
    {
     "name": "stdout",
     "output_type": "stream",
     "text": [
      "[0, 1, 1, 2, 3, 5, 8, 13, 21, 34, 55, 89, 144, 233, 377, 610, 987, 1597, 2584, 4181]\n"
     ]
    }
   ],
   "source": [
    "fibonacci_sequence = [0, 1]\n",
    "while len(fibonacci_sequence) < 20:\n",
    "    next_fibonacci = fibonacci_sequence[-1] + fibonacci_sequence[-2]\n",
    "    fibonacci_sequence.append(next_fibonacci)\n",
    "print(fibonacci_sequence)"
   ]
  },
  {
   "cell_type": "code",
   "execution_count": 2,
   "id": "f280c82d",
   "metadata": {},
   "outputs": [
    {
     "ename": "NameError",
     "evalue": "name 'fibonacci_sequence' is not defined",
     "output_type": "error",
     "traceback": [
      "\u001b[0;31m---------------------------------------------------------------------------\u001b[0m",
      "\u001b[0;31mNameError\u001b[0m                                 Traceback (most recent call last)",
      "Cell \u001b[0;32mIn[2], line 1\u001b[0m\n\u001b[0;32m----> 1\u001b[0m fibonacci_sequence \u001b[38;5;241m=\u001b[39m [\u001b[38;5;241m0\u001b[39m, \u001b[38;5;241m1\u001b[39m] \u001b[38;5;241m+\u001b[39m [fibonacci_sequence[i \u001b[38;5;241m-\u001b[39m \u001b[38;5;241m1\u001b[39m] \u001b[38;5;241m+\u001b[39m fibonacci_sequence[i \u001b[38;5;241m-\u001b[39m \u001b[38;5;241m2\u001b[39m] \u001b[38;5;28;01mfor\u001b[39;00m i \u001b[38;5;129;01min\u001b[39;00m \u001b[38;5;28mrange\u001b[39m(\u001b[38;5;241m2\u001b[39m, \u001b[38;5;241m20\u001b[39m)]\n\u001b[1;32m      2\u001b[0m \u001b[38;5;28mprint\u001b[39m(fibonacci_sequence)\n",
      "Cell \u001b[0;32mIn[2], line 1\u001b[0m, in \u001b[0;36m<listcomp>\u001b[0;34m(.0)\u001b[0m\n\u001b[0;32m----> 1\u001b[0m fibonacci_sequence \u001b[38;5;241m=\u001b[39m [\u001b[38;5;241m0\u001b[39m, \u001b[38;5;241m1\u001b[39m] \u001b[38;5;241m+\u001b[39m [\u001b[43mfibonacci_sequence\u001b[49m[i \u001b[38;5;241m-\u001b[39m \u001b[38;5;241m1\u001b[39m] \u001b[38;5;241m+\u001b[39m fibonacci_sequence[i \u001b[38;5;241m-\u001b[39m \u001b[38;5;241m2\u001b[39m] \u001b[38;5;28;01mfor\u001b[39;00m i \u001b[38;5;129;01min\u001b[39;00m \u001b[38;5;28mrange\u001b[39m(\u001b[38;5;241m2\u001b[39m, \u001b[38;5;241m20\u001b[39m)]\n\u001b[1;32m      2\u001b[0m \u001b[38;5;28mprint\u001b[39m(fibonacci_sequence)\n",
      "\u001b[0;31mNameError\u001b[0m: name 'fibonacci_sequence' is not defined"
     ]
    }
   ],
   "source": [
    "fibonacci_sequence = [0, 1] + [fibonacci_sequence[i - 1] + fibonacci_sequence[i - 2] for i in range(2, 20)]\n",
    "print(fibonacci_sequence)"
   ]
  },
  {
   "cell_type": "code",
   "execution_count": 4,
   "id": "691ac369",
   "metadata": {},
   "outputs": [
    {
     "ename": "SyntaxError",
     "evalue": "invalid syntax (2638533725.py, line 6)",
     "output_type": "error",
     "traceback": [
      "\u001b[0;36m  Cell \u001b[0;32mIn[4], line 6\u001b[0;36m\u001b[0m\n\u001b[0;31m    L = [(i if i==\"g\") for i in s]\u001b[0m\n\u001b[0m                     ^\u001b[0m\n\u001b[0;31mSyntaxError\u001b[0m\u001b[0;31m:\u001b[0m invalid syntax\n"
     ]
    }
   ],
   "source": [
    "#Write a list comprehension that takes a string as input and \n",
    "#generates a list of tuples containing the count of vowels and consonants in the string.\n",
    "s = \"With great powers comes with great responsibilties\"\n",
    "v = [\"a\",\"e\",\"i\",\"o\",\"u\"]\n",
    "\n",
    "L = [(i if i==\"g\") for i in s]\n",
    "print(L)"
   ]
  },
  {
   "cell_type": "code",
   "execution_count": 38,
   "id": "b7855fea",
   "metadata": {},
   "outputs": [
    {
     "name": "stdout",
     "output_type": "stream",
     "text": [
      "{'S': 1, 't': 1, 'r': 1, 'i': 1, 'n': 1, 'g': 1, ' ': 1, 'e': 2, 'x': 1, 'a': 1, 'm': 1, 'p': 1, 'l': 1}\n"
     ]
    }
   ],
   "source": [
    "def count(s):\n",
    "    d = {}\n",
    "    for i in s:\n",
    "        if i in d:\n",
    "            d[i]+=1\n",
    "        else:\n",
    "            d[i] = 1\n",
    "    return d\n",
    "s = \"String example\"\n",
    "d = count(s)\n",
    "print(d)"
   ]
  },
  {
   "cell_type": "code",
   "execution_count": 22,
   "id": "147fc49f",
   "metadata": {},
   "outputs": [
    {
     "name": "stdout",
     "output_type": "stream",
     "text": [
      "lo\n"
     ]
    }
   ],
   "source": [
    "i = 3\n",
    "s = \"hello\"\n",
    "print(s[i::])"
   ]
  },
  {
   "cell_type": "code",
   "execution_count": 39,
   "id": "abcd92e9",
   "metadata": {},
   "outputs": [
    {
     "ename": "SyntaxError",
     "evalue": "invalid syntax (4180065803.py, line 2)",
     "output_type": "error",
     "traceback": [
      "\u001b[0;36m  Cell \u001b[0;32mIn[39], line 2\u001b[0;36m\u001b[0m\n\u001b[0;31m    d = {i:d[i]+=1 for i in s if i in d }\u001b[0m\n\u001b[0m               ^\u001b[0m\n\u001b[0;31mSyntaxError\u001b[0m\u001b[0;31m:\u001b[0m invalid syntax\n"
     ]
    }
   ],
   "source": [
    "s = \"String example\"\n",
    "d = {i:d[i]+=1 for i in s if i in d }"
   ]
  },
  {
   "cell_type": "code",
   "execution_count": null,
   "id": "a42c350c",
   "metadata": {},
   "outputs": [],
   "source": [
    "===========================================================================\n",
    "STARTING AGAIN"
   ]
  },
  {
   "cell_type": "code",
   "execution_count": 2,
   "id": "320356a5",
   "metadata": {},
   "outputs": [
    {
     "name": "stdout",
     "output_type": "stream",
     "text": [
      "Hello\n"
     ]
    }
   ],
   "source": [
    "print(\"Hello\")"
   ]
  },
  {
   "cell_type": "code",
   "execution_count": 6,
   "id": "611c24fd",
   "metadata": {},
   "outputs": [
    {
     "name": "stdout",
     "output_type": "stream",
     "text": [
      "9488912\n",
      "9488912\n"
     ]
    }
   ],
   "source": [
    "i = None\n",
    "print(id(i))\n",
    "j = None\n",
    "print(id(i))"
   ]
  },
  {
   "cell_type": "code",
   "execution_count": 2,
   "id": "bc79e150",
   "metadata": {
    "collapsed": true
   },
   "outputs": [
    {
     "name": "stdout",
     "output_type": "stream",
     "text": [
      "{'__name__': '__main__', '__doc__': 'Automatically created module for IPython interactive environment', '__package__': None, '__loader__': None, '__spec__': None, '__builtin__': <module 'builtins' (built-in)>, '__builtins__': <module 'builtins' (built-in)>, '_ih': ['', 'i = 3\\nj = id(3)\\nprint(globals())', 'i = 3\\nj = id(3)\\nprint(globals())\\ndel i \\ndel j'], '_oh': {}, '_dh': [PosixPath('/home/lenovo/Desktop/Python')], 'In': ['', 'i = 3\\nj = id(3)\\nprint(globals())', 'i = 3\\nj = id(3)\\nprint(globals())\\ndel i \\ndel j'], 'Out': {}, 'get_ipython': <bound method InteractiveShell.get_ipython of <ipykernel.zmqshell.ZMQInteractiveShell object at 0x7f719c6dd0a0>>, 'exit': <IPython.core.autocall.ZMQExitAutocall object at 0x7f719c6ddee0>, 'quit': <IPython.core.autocall.ZMQExitAutocall object at 0x7f719c6ddee0>, 'open': <function open at 0x7f719e91bf70>, '_': '', '__': '', '___': '', '_i': 'i = 3\\nj = id(3)\\nprint(globals())', '_ii': '', '_iii': '', '_i1': 'i = 3\\nj = id(3)\\nprint(globals())', 'i': 3, 'j': 9793152, '_i2': 'i = 3\\nj = id(3)\\nprint(globals())\\ndel i \\ndel j'}\n"
     ]
    }
   ],
   "source": [
    "i = 3\n",
    "j = id(3)\n",
    "print(globals())\n",
    "del i \n",
    "del j"
   ]
  },
  {
   "cell_type": "code",
   "execution_count": 4,
   "id": "48b602af",
   "metadata": {
    "collapsed": true
   },
   "outputs": [
    {
     "name": "stdout",
     "output_type": "stream",
     "text": [
      "13\n",
      "{'__name__': '__main__', '__doc__': 'Automatically created module for IPython interactive environment', '__package__': None, '__loader__': None, '__spec__': None, '__builtin__': <module 'builtins' (built-in)>, '__builtins__': <module 'builtins' (built-in)>, '_ih': ['', 'i = 3\\nj = id(3)\\nprint(globals())', 'i = 3\\nj = id(3)\\nprint(globals())\\ndel i \\ndel j', '_i1 = 13\\nprint(_i1)', '_i1 = 13\\nprint(_i1)\\nprint(globals())'], '_oh': {}, '_dh': [PosixPath('/home/lenovo/Desktop/Python')], 'In': ['', 'i = 3\\nj = id(3)\\nprint(globals())', 'i = 3\\nj = id(3)\\nprint(globals())\\ndel i \\ndel j', '_i1 = 13\\nprint(_i1)', '_i1 = 13\\nprint(_i1)\\nprint(globals())'], 'Out': {}, 'get_ipython': <bound method InteractiveShell.get_ipython of <ipykernel.zmqshell.ZMQInteractiveShell object at 0x7f719c6dd0a0>>, 'exit': <IPython.core.autocall.ZMQExitAutocall object at 0x7f719c6ddee0>, 'quit': <IPython.core.autocall.ZMQExitAutocall object at 0x7f719c6ddee0>, 'open': <function open at 0x7f719e91bf70>, '_': '', '__': '', '___': '', '_i': '_i1 = 13\\nprint(_i1)', '_ii': 'i = 3\\nj = id(3)\\nprint(globals())\\ndel i \\ndel j', '_iii': 'i = 3\\nj = id(3)\\nprint(globals())', '_i1': 13, '_i2': 'i = 3\\nj = id(3)\\nprint(globals())\\ndel i \\ndel j', '_i3': '_i1 = 13\\nprint(_i1)', '_i4': '_i1 = 13\\nprint(_i1)\\nprint(globals())'}\n"
     ]
    }
   ],
   "source": [
    "_i1 = 13\n",
    "print(_i1)\n",
    "print(globals())"
   ]
  },
  {
   "cell_type": "code",
   "execution_count": 5,
   "id": "14d7094f",
   "metadata": {},
   "outputs": [
    {
     "name": "stdout",
     "output_type": "stream",
     "text": [
      "['False', 'None', 'True', 'and', 'as', 'assert', 'async', 'await', 'break', 'class', 'continue', 'def', 'del', 'elif', 'else', 'except', 'finally', 'for', 'from', 'global', 'if', 'import', 'in', 'is', 'lambda', 'nonlocal', 'not', 'or', 'pass', 'raise', 'return', 'try', 'while', 'with', 'yield']\n"
     ]
    }
   ],
   "source": [
    "import keyword\n",
    "print(keyword.kwlist)"
   ]
  },
  {
   "cell_type": "code",
   "execution_count": 6,
   "id": "ffcfd488",
   "metadata": {},
   "outputs": [
    {
     "name": "stdout",
     "output_type": "stream",
     "text": [
      "30\n",
      "30\n"
     ]
    }
   ],
   "source": [
    "a = 10\n",
    "b = 20\n",
    "print(a+b)\n",
    "print(a.__add__(b))"
   ]
  },
  {
   "cell_type": "code",
   "execution_count": 7,
   "id": "18f8531c",
   "metadata": {},
   "outputs": [
    {
     "name": "stdout",
     "output_type": "stream",
     "text": [
      "Enterfirst no : 1\n",
      "Enter second no : 2\n",
      "2\n",
      "1\n"
     ]
    }
   ],
   "source": [
    "a = int(input(\"Enterfirst no : \"))\n",
    "b = int(input(\"Enter second no : \"))\n",
    "a,b = b,a\n",
    "print(a)\n",
    "print(b)"
   ]
  },
  {
   "cell_type": "code",
   "execution_count": 2,
   "id": "de9e9bbf",
   "metadata": {},
   "outputs": [
    {
     "name": "stdout",
     "output_type": "stream",
     "text": [
      "[0, 1, 2, 3, 5, 7, 11, 13, 17, 19, 23, 29, 31, 37, 41, 43, 47, 53, 59, 61, 67, 71, 73, 79, 83, 89, 97]\n"
     ]
    }
   ],
   "source": [
    "L = [i for i in range(100) if all(i%j!=0  for j in range(2,(i//2)+1))]\n",
    "print(L)"
   ]
  },
  {
   "cell_type": "code",
   "execution_count": 4,
   "id": "9679be20",
   "metadata": {},
   "outputs": [
    {
     "name": "stdout",
     "output_type": "stream",
     "text": [
      "{0: 0, 1: 1, 2: 4, 3: 9, 4: 16, 5: 25, 6: 36, 7: 49, 8: 64, 9: 81}\n"
     ]
    }
   ],
   "source": [
    "d = {i : i*i for i in range(10)}\n",
    "print(d)"
   ]
  },
  {
   "cell_type": "code",
   "execution_count": 13,
   "id": "800ed9bb",
   "metadata": {},
   "outputs": [
    {
     "name": "stdout",
     "output_type": "stream",
     "text": [
      "Your name : Ganesh and Percentage : 67.76\n",
      "Your name : Ganesh and Percentage : 67.76\n",
      "Your name : Ganesh and Percentage : 67.76\n"
     ]
    }
   ],
   "source": [
    "name = \"Ganesh\"\n",
    "per = 67.76\n",
    "print(\"Your name :\",name,\"and Percentage :\",per)\n",
    "print(\"Your name : {0} and Percentage : {1}\".format(name,per))\n",
    "print(f\"Your name : {name} and Percentage : {per}\")"
   ]
  },
  {
   "cell_type": "code",
   "execution_count": 20,
   "id": "81719138",
   "metadata": {},
   "outputs": [
    {
     "name": "stdout",
     "output_type": "stream",
     "text": [
      "Enter first no : 1\n",
      "Enter second no : 2\n",
      "Addition : 3\n",
      "Addition : 3\n",
      "Addition : 3\n",
      "Addition : 3\n"
     ]
    }
   ],
   "source": [
    "a = int(input(\"Enter first no : \"))\n",
    "b = int(input(\"Enter second no : \"))\n",
    "print(\"Addition :\",a+b)\n",
    "print(f\"Addition : {a+b}\")\n",
    "print(\"Addition : {}\".format(a+b))\n",
    "print(\"Addition : %d\"%(a+b))"
   ]
  },
  {
   "cell_type": "code",
   "execution_count": 30,
   "id": "1b63d71c",
   "metadata": {},
   "outputs": [
    {
     "name": "stdout",
     "output_type": "stream",
     "text": [
      "69\n",
      "0b1000101\n"
     ]
    }
   ],
   "source": [
    "a = 0B1000101\n",
    "print(a)\n",
    "print(bin(a))"
   ]
  },
  {
   "cell_type": "code",
   "execution_count": 33,
   "id": "0bcd691b",
   "metadata": {},
   "outputs": [
    {
     "name": "stdout",
     "output_type": "stream",
     "text": [
      "83\n"
     ]
    }
   ],
   "source": [
    "a = 0o123\n",
    "print(a)"
   ]
  },
  {
   "cell_type": "code",
   "execution_count": 36,
   "id": "c3f582a1",
   "metadata": {},
   "outputs": [
    {
     "name": "stdout",
     "output_type": "stream",
     "text": [
      "2173615\n"
     ]
    }
   ],
   "source": [
    "a = 0x212aaf\n",
    "print(a)"
   ]
  },
  {
   "cell_type": "code",
   "execution_count": 32,
   "id": "3d39a5ad",
   "metadata": {},
   "outputs": [
    {
     "name": "stdout",
     "output_type": "stream",
     "text": [
      "0b1010\n",
      "0o12\n",
      "0xa\n"
     ]
    }
   ],
   "source": [
    "a = 10\n",
    "print(bin(a))\n",
    "print(oct(a))\n",
    "print(hex(a))"
   ]
  },
  {
   "cell_type": "code",
   "execution_count": 38,
   "id": "be9a06ff",
   "metadata": {},
   "outputs": [
    {
     "name": "stdout",
     "output_type": "stream",
     "text": [
      "0xb\n",
      "0o13\n"
     ]
    }
   ],
   "source": [
    "a = hex(0b1011)\n",
    "print(a)\n",
    "a = oct(0b1011)\n",
    "print(a)"
   ]
  },
  {
   "cell_type": "code",
   "execution_count": 46,
   "id": "8c5d12f9",
   "metadata": {},
   "outputs": [
    {
     "name": "stdout",
     "output_type": "stream",
     "text": [
      "<class 'str'>\n",
      "0b1111\n",
      "same\n"
     ]
    }
   ],
   "source": [
    "a = bin(15)\n",
    "print(type(a))*3\n",
    "    print(\"same\")"
   ]
  },
  {
   "cell_type": "code",
   "execution_count": 47,
   "id": "a1abd98e",
   "metadata": {},
   "outputs": [
    {
     "name": "stdout",
     "output_type": "stream",
     "text": [
      "512\n"
     ]
    }
   ],
   "source": [
    "print(2**3**2)"
   ]
  },
  {
   "cell_type": "code",
   "execution_count": 48,
   "id": "fd9e000f",
   "metadata": {},
   "outputs": [
    {
     "name": "stdout",
     "output_type": "stream",
     "text": [
      "101\n"
     ]
    }
   ],
   "source": [
    "print(True+100)"
   ]
  },
  {
   "cell_type": "code",
   "execution_count": 49,
   "id": "5558d528",
   "metadata": {},
   "outputs": [
    {
     "name": "stdout",
     "output_type": "stream",
     "text": [
      "-1\n"
     ]
    }
   ],
   "source": [
    "print(False-1)"
   ]
  },
  {
   "cell_type": "code",
   "execution_count": 50,
   "id": "1e306728",
   "metadata": {},
   "outputs": [
    {
     "name": "stdout",
     "output_type": "stream",
     "text": [
      "0\n"
     ]
    }
   ],
   "source": [
    "print(True-1)"
   ]
  },
  {
   "cell_type": "code",
   "execution_count": 51,
   "id": "377865ab",
   "metadata": {},
   "outputs": [
    {
     "name": "stdout",
     "output_type": "stream",
     "text": [
      "False\n"
     ]
    }
   ],
   "source": [
    "print(bool(None))"
   ]
  },
  {
   "cell_type": "code",
   "execution_count": 52,
   "id": "22be7311",
   "metadata": {},
   "outputs": [
    {
     "name": "stdout",
     "output_type": "stream",
     "text": [
      "False\n"
     ]
    }
   ],
   "source": [
    "print(bool(\"\"))"
   ]
  },
  {
   "cell_type": "code",
   "execution_count": 53,
   "id": "1c9e2cef",
   "metadata": {},
   "outputs": [
    {
     "name": "stdout",
     "output_type": "stream",
     "text": [
      "True\n"
     ]
    }
   ],
   "source": [
    "print(bool(\" \"))"
   ]
  },
  {
   "cell_type": "code",
   "execution_count": 66,
   "id": "f6f69a13",
   "metadata": {},
   "outputs": [
    {
     "name": "stdout",
     "output_type": "stream",
     "text": [
      "2\n"
     ]
    }
   ],
   "source": [
    "a = 10\n",
    "b = 2\n",
    "print(a & b)"
   ]
  },
  {
   "cell_type": "code",
   "execution_count": 67,
   "id": "080e0fbd",
   "metadata": {},
   "outputs": [
    {
     "name": "stdout",
     "output_type": "stream",
     "text": [
      "10\n"
     ]
    }
   ],
   "source": [
    "a = 10\n",
    "b = 2\n",
    "print(a | b)"
   ]
  },
  {
   "cell_type": "code",
   "execution_count": 69,
   "id": "d85bc99a",
   "metadata": {},
   "outputs": [
    {
     "name": "stdout",
     "output_type": "stream",
     "text": [
      "Enter first no : 5\n",
      "Enter second no : 3\n",
      "Minimum no :  7\n"
     ]
    }
   ],
   "source": [
    "a = int(input(\"Enter first no : \"))\n",
    "b = int(input(\"Enter second no : \"))\n",
    "print(\"Minimum no : \",a|b)"
   ]
  },
  {
   "cell_type": "code",
   "execution_count": 71,
   "id": "e364b6da",
   "metadata": {},
   "outputs": [
    {
     "name": "stdout",
     "output_type": "stream",
     "text": [
      "Hello\n",
      "True\n"
     ]
    }
   ],
   "source": [
    "print(print(\"Hello\") == None)"
   ]
  },
  {
   "cell_type": "code",
   "execution_count": 73,
   "id": "4cea055e",
   "metadata": {},
   "outputs": [
    {
     "name": "stdout",
     "output_type": "stream",
     "text": [
      "hello\n"
     ]
    }
   ],
   "source": [
    "a = print\n",
    "a(\"hello\")"
   ]
  },
  {
   "cell_type": "code",
   "execution_count": 77,
   "id": "4bda15e4",
   "metadata": {},
   "outputs": [
    {
     "data": {
      "text/plain": [
       "5"
      ]
     },
     "execution_count": 77,
     "metadata": {},
     "output_type": "execute_result"
    }
   ],
   "source": [
    "a = int\n",
    "a(5.0)"
   ]
  },
  {
   "cell_type": "code",
   "execution_count": 91,
   "id": "d9c2c7ca",
   "metadata": {},
   "outputs": [
    {
     "name": "stdout",
     "output_type": "stream",
     "text": [
      "139726942606336\n",
      "139726942492864\n",
      "False\n"
     ]
    }
   ],
   "source": [
    "a = [11,22,33]\n",
    "b = [11,22,33]\n",
    "print(id(a))\n",
    "print(id(b))\n",
    "print(a is b)"
   ]
  },
  {
   "cell_type": "code",
   "execution_count": 92,
   "id": "dd75ade4",
   "metadata": {},
   "outputs": [
    {
     "name": "stdout",
     "output_type": "stream",
     "text": [
      "139726942386736\n",
      "139726942386736\n",
      "True\n"
     ]
    }
   ],
   "source": [
    "a = \"tca\"\n",
    "b = \"tca\"\n",
    "print(id(a))\n",
    "print(id(b))\n",
    "print(a is b)"
   ]
  },
  {
   "cell_type": "code",
   "execution_count": 97,
   "id": "4ed750cd",
   "metadata": {},
   "outputs": [
    {
     "name": "stdout",
     "output_type": "stream",
     "text": [
      "Hello\n",
      "none returned\n"
     ]
    }
   ],
   "source": [
    "if  2==2 and print(\"Hello\") == None:\n",
    "    print(\"none returned\")"
   ]
  },
  {
   "cell_type": "code",
   "execution_count": null,
   "id": "fbb446c2",
   "metadata": {},
   "outputs": [
    {
     "name": "stdout",
     "output_type": "stream",
     "text": [
      "Enter no : \n"
     ]
    }
   ],
   "source": [
    "print(\"Enter no : \")    \n",
    "a = input()"
   ]
  },
  {
   "cell_type": "code",
   "execution_count": 6,
   "id": "9e9cc429",
   "metadata": {},
   "outputs": [
    {
     "name": "stdout",
     "output_type": "stream",
     "text": [
      "elif\n",
      "a smaller\n"
     ]
    }
   ],
   "source": [
    "a = 3\n",
    "b = 5\n",
    "if a == b:\n",
    "    print(\"Equal\")\n",
    "elif print(\"elif\") and a > b:\n",
    "    print(\"a greater\")\n",
    "else:\n",
    "    print(\"a smaller\")"
   ]
  },
  {
   "cell_type": "code",
   "execution_count": 8,
   "id": "0d896e58",
   "metadata": {},
   "outputs": [
    {
     "name": "stdout",
     "output_type": "stream",
     "text": [
      "Hello\n",
      "Hello\n",
      "Hello\n",
      "Hello\n",
      "Hello\n"
     ]
    }
   ],
   "source": [
    "for i in range(5):\n",
    "    print(\"Hello\")"
   ]
  },
  {
   "cell_type": "code",
   "execution_count": 10,
   "id": "613948ab",
   "metadata": {},
   "outputs": [
    {
     "name": "stdout",
     "output_type": "stream",
     "text": [
      "0 : Hello\n",
      "1 : Hello\n",
      "2 : Hello\n",
      "3 : Hello\n",
      "4 : Hello\n"
     ]
    }
   ],
   "source": [
    "for i in range(5):\n",
    "    print(i,\": Hello\")"
   ]
  },
  {
   "cell_type": "code",
   "execution_count": 12,
   "id": "665473d0",
   "metadata": {},
   "outputs": [
    {
     "name": "stdout",
     "output_type": "stream",
     "text": [
      "0 2 4 6 8 10 12 14 16 18 20 "
     ]
    }
   ],
   "source": [
    "for i in range(0,21,2):\n",
    "    print(i,end=\" \")"
   ]
  },
  {
   "cell_type": "code",
   "execution_count": 23,
   "id": "7854108c",
   "metadata": {},
   "outputs": [
    {
     "name": "stdout",
     "output_type": "stream",
     "text": [
      "0 2 4 6 8 10 12 14 16 18 "
     ]
    }
   ],
   "source": [
    "i = 0\n",
    "while i < 20:\n",
    "    print(i,end=\" \")\n",
    "    i = i + 2"
   ]
  },
  {
   "cell_type": "code",
   "execution_count": 25,
   "id": "441e155e",
   "metadata": {},
   "outputs": [
    {
     "name": "stdout",
     "output_type": "stream",
     "text": [
      "Enter lower limit : 5\n",
      "Enter upper limit : 55\n",
      "5 6 7 8 9 10 11 12 13 14 15 16 17 18 19 20 21 22 23 24 25 26 27 28 29 30 31 32 33 34 35 36 37 38 39 40 41 42 43 44 45 46 47 48 49 50 51 52 53 54 55 "
     ]
    }
   ],
   "source": [
    "a = int(input(\"Enter lower limit : \"))\n",
    "b = int(input(\"Enter upper limit : \"))\n",
    "for i in range(a,b+1):\n",
    "    print(i,end=\" \")"
   ]
  },
  {
   "cell_type": "code",
   "execution_count": 28,
   "id": "4415c197",
   "metadata": {},
   "outputs": [
    {
     "name": "stdout",
     "output_type": "stream",
     "text": [
      "Enter no to check if prime : 123\n",
      "123 is not a Prime Number !!!\n"
     ]
    }
   ],
   "source": [
    "n = int(input(\"Enter no to check if prime : \"))\n",
    "\n",
    "for i in range(2,(n//2)+1):\n",
    "    if n%i == 0:\n",
    "        print(n,\"is not a Prime Number !!!\")\n",
    "        break\n",
    "else:\n",
    "    print(n,\"is Prime Number !!!\")"
   ]
  },
  {
   "cell_type": "code",
   "execution_count": 33,
   "id": "6c3e0335",
   "metadata": {},
   "outputs": [
    {
     "name": "stdout",
     "output_type": "stream",
     "text": [
      "List is negative number free\n"
     ]
    }
   ],
   "source": [
    "L = [1,2,3,4,5,1,4,3,34,32]\n",
    "\n",
    "for i in L:\n",
    "    if i < 0:\n",
    "        print(\"List has negative number : \",i,\"at index : \",L.index(i))\n",
    "        break\n",
    "else:\n",
    "    print(\"List is negative number free\")"
   ]
  },
  {
   "cell_type": "code",
   "execution_count": 5,
   "id": "6b6c88e8",
   "metadata": {},
   "outputs": [
    {
     "name": "stdout",
     "output_type": "stream",
     "text": [
      "****\n",
      "****\n",
      "****\n",
      "****\n"
     ]
    }
   ],
   "source": [
    "for i in range(4):\n",
    "    for j in range(4):\n",
    "        print(\"*\",end=\"\")\n",
    "    print()"
   ]
  },
  {
   "cell_type": "code",
   "execution_count": 6,
   "id": "4a9f87b2",
   "metadata": {},
   "outputs": [
    {
     "name": "stdout",
     "output_type": "stream",
     "text": [
      "****\n",
      "****\n",
      "****\n",
      "****\n"
     ]
    }
   ],
   "source": [
    "for i in range(4):\n",
    "    print(\"*\"*4)"
   ]
  },
  {
   "cell_type": "code",
   "execution_count": 11,
   "id": "4145f7ca",
   "metadata": {},
   "outputs": [
    {
     "name": "stdout",
     "output_type": "stream",
     "text": [
      "1111\n",
      "2222\n",
      "3333\n",
      "4444\n"
     ]
    }
   ],
   "source": [
    "for j in range(1,5):\n",
    "    for i in range(1,5):\n",
    "        print(j,end=\"\")\n",
    "    print()"
   ]
  },
  {
   "cell_type": "code",
   "execution_count": 15,
   "id": "647ed3ea",
   "metadata": {},
   "outputs": [
    {
     "name": "stdout",
     "output_type": "stream",
     "text": [
      "1111\n",
      "2222\n",
      "3333\n",
      "4444\n"
     ]
    }
   ],
   "source": [
    "for i in range(1,5):\n",
    "    print(str(i)*4)"
   ]
  },
  {
   "cell_type": "code",
   "execution_count": 23,
   "id": "eef9a493",
   "metadata": {},
   "outputs": [
    {
     "name": "stdout",
     "output_type": "stream",
     "text": [
      "   1   2   3   4   5   6   7   8   9  10\n",
      "   2   4   6   8  10  12  14  16  18  20\n",
      "   3   6   9  12  15  18  21  24  27  30\n",
      "   4   8  12  16  20  24  28  32  36  40\n",
      "   5  10  15  20  25  30  35  40  45  50\n",
      "   6  12  18  24  30  36  42  48  54  60\n",
      "   7  14  21  28  35  42  49  56  63  70\n",
      "   8  16  24  32  40  48  56  64  72  80\n",
      "   9  18  27  36  45  54  63  72  81  90\n",
      "  10  20  30  40  50  60  70  80  90 100\n"
     ]
    }
   ],
   "source": [
    "for i in range(1,11):\n",
    "    for j in range(1,11):\n",
    "        print(\"%4d\"%(i*j),end=\"\")\n",
    "    print()   "
   ]
  },
  {
   "cell_type": "code",
   "execution_count": 26,
   "id": "93a23a25",
   "metadata": {},
   "outputs": [
    {
     "name": "stdout",
     "output_type": "stream",
     "text": [
      "a\n"
     ]
    }
   ],
   "source": [
    "print(chr(97))"
   ]
  },
  {
   "cell_type": "code",
   "execution_count": 34,
   "id": "afa173cb",
   "metadata": {},
   "outputs": [
    {
     "name": "stdout",
     "output_type": "stream",
     "text": [
      "AAAA\n",
      "BBBB\n",
      "CCCC\n",
      "DDDD\n"
     ]
    }
   ],
   "source": [
    "for i in range(4):\n",
    "    for j in range(4):\n",
    "        print(chr(i+65),end=\"\")    \n",
    "    print()"
   ]
  },
  {
   "cell_type": "code",
   "execution_count": 35,
   "id": "36f6c526",
   "metadata": {},
   "outputs": [
    {
     "name": "stdout",
     "output_type": "stream",
     "text": [
      "AAAA\n",
      "BBBB\n",
      "CCCC\n",
      "DDDD\n"
     ]
    }
   ],
   "source": [
    "for i in range(4):\n",
    "    print(chr(i+65)*4)"
   ]
  },
  {
   "cell_type": "code",
   "execution_count": 39,
   "id": "084b4d11",
   "metadata": {},
   "outputs": [
    {
     "name": "stdout",
     "output_type": "stream",
     "text": [
      "1234\n",
      "1234\n",
      "1234\n",
      "1234\n"
     ]
    }
   ],
   "source": [
    "for i in range(1,5):\n",
    "    for j in range(1,5):\n",
    "        print(j,end=\"\")\n",
    "    print()"
   ]
  },
  {
   "cell_type": "code",
   "execution_count": 11,
   "id": "a5f39e4f",
   "metadata": {},
   "outputs": [
    {
     "name": "stdout",
     "output_type": "stream",
     "text": [
      "ABCD\n",
      "ABCD\n",
      "ABCD\n",
      "ABCD\n"
     ]
    }
   ],
   "source": [
    "for i in range(4):\n",
    "    for j in range(4):\n",
    "        print(chr(j+65),end=\"\")\n",
    "    print()"
   ]
  },
  {
   "cell_type": "code",
   "execution_count": 10,
   "id": "dda96358",
   "metadata": {},
   "outputs": [
    {
     "name": "stdout",
     "output_type": "stream",
     "text": [
      "Hello\n"
     ]
    }
   ],
   "source": [
    "print(\"Hello\")"
   ]
  },
  {
   "cell_type": "code",
   "execution_count": 14,
   "id": "7122edb8",
   "metadata": {},
   "outputs": [
    {
     "name": "stdout",
     "output_type": "stream",
     "text": [
      "A B C D E F G H I J K L M N O P Q R S T U V W X Y Z \n",
      "A B C D E F G H I J K L M N O P Q R S T U V W X Y Z \n",
      "A B C D E F G H I J K L M N O P Q R S T U V W X Y Z \n",
      "A B C D E F G H I J K L M N O P Q R S T U V W X Y Z \n"
     ]
    }
   ],
   "source": [
    "for i in range(4):\n",
    "    for j in range(65,91):\n",
    "        print(chr(j),end=\" \")\n",
    "    print()"
   ]
  },
  {
   "cell_type": "code",
   "execution_count": 18,
   "id": "8c48d14d",
   "metadata": {},
   "outputs": [
    {
     "name": "stdout",
     "output_type": "stream",
     "text": [
      "*\n",
      "**\n",
      "***\n",
      "****\n"
     ]
    }
   ],
   "source": [
    "for i in range(1,5):\n",
    "    for j in range(i):\n",
    "        print(\"*\",end=\"\")\n",
    "    print()"
   ]
  },
  {
   "cell_type": "code",
   "execution_count": 15,
   "id": "c8798021",
   "metadata": {},
   "outputs": [
    {
     "name": "stdout",
     "output_type": "stream",
     "text": [
      "*\n",
      "**\n",
      "***\n",
      "****\n"
     ]
    }
   ],
   "source": [
    "for i in range(1,5):\n",
    "    print(\"*\"*i)"
   ]
  },
  {
   "cell_type": "code",
   "execution_count": 29,
   "id": "6923c373",
   "metadata": {},
   "outputs": [
    {
     "name": "stdout",
     "output_type": "stream",
     "text": [
      "1\n",
      "22\n",
      "333\n",
      "4444\n"
     ]
    }
   ],
   "source": [
    "for j in range(1,5):\n",
    "    for i in range(j):\n",
    "        print(j,end=\"\")\n",
    "    print()\n"
   ]
  },
  {
   "cell_type": "code",
   "execution_count": 30,
   "id": "894cbb87",
   "metadata": {},
   "outputs": [
    {
     "name": "stdout",
     "output_type": "stream",
     "text": [
      "1\n",
      "22\n",
      "333\n",
      "4444\n"
     ]
    }
   ],
   "source": [
    "for i in range(1,5):\n",
    "    print(str(i)*i)"
   ]
  },
  {
   "cell_type": "code",
   "execution_count": 36,
   "id": "a0487c35",
   "metadata": {},
   "outputs": [
    {
     "name": "stdout",
     "output_type": "stream",
     "text": [
      "1\n",
      "12\n",
      "123\n",
      "1234\n"
     ]
    }
   ],
   "source": [
    "for i in range(1,5):\n",
    "    for j in range(1,i+1):\n",
    "        print(j,end=\"\")\n",
    "    print()"
   ]
  },
  {
   "cell_type": "code",
   "execution_count": 38,
   "id": "41b1f8f4",
   "metadata": {},
   "outputs": [
    {
     "name": "stdout",
     "output_type": "stream",
     "text": [
      "A\n",
      "AB\n",
      "ABC\n",
      "ABCD\n"
     ]
    }
   ],
   "source": [
    "for i in range(1,5):\n",
    "    for j in range(i):\n",
    "        print(chr(j+65),end=\"\")\n",
    "    print()"
   ]
  },
  {
   "cell_type": "code",
   "execution_count": 45,
   "id": "bdcf5fa3",
   "metadata": {},
   "outputs": [
    {
     "name": "stdout",
     "output_type": "stream",
     "text": [
      "A\n",
      "BB\n",
      "CCC\n",
      "DDDD\n"
     ]
    }
   ],
   "source": [
    "for i in range(1,5):\n",
    "    for j in range(i):\n",
    "        print(chr(i+64),end=\"\")\n",
    "    print()"
   ]
  },
  {
   "cell_type": "code",
   "execution_count": 49,
   "id": "47918af2",
   "metadata": {},
   "outputs": [
    {
     "name": "stdout",
     "output_type": "stream",
     "text": [
      "****\n",
      "***\n",
      "**\n",
      "*\n"
     ]
    }
   ],
   "source": [
    "k = 4\n",
    "for i in range(1,5):\n",
    "    for j in range(k):\n",
    "        print(\"*\",end=\"\")\n",
    "    k = k - 1\n",
    "    print()"
   ]
  },
  {
   "cell_type": "code",
   "execution_count": 51,
   "id": "15028988",
   "metadata": {},
   "outputs": [
    {
     "name": "stdout",
     "output_type": "stream",
     "text": [
      "****\n",
      "***\n",
      "**\n",
      "*\n"
     ]
    }
   ],
   "source": [
    "for i in range(4,0,-1):\n",
    "    for j in range(i):\n",
    "        print(\"*\",end=\"\")\n",
    "    print()"
   ]
  },
  {
   "cell_type": "code",
   "execution_count": 62,
   "id": "0e809fa2",
   "metadata": {},
   "outputs": [
    {
     "name": "stdout",
     "output_type": "stream",
     "text": [
      "*\n",
      "**\n",
      "***\n",
      "****\n",
      "****\n",
      "***\n",
      "**\n",
      "*\n"
     ]
    }
   ],
   "source": [
    "for i in range(1,5):\n",
    "    print(\"*\"*i)\n",
    "for j in range(4,0,-1):\n",
    "    print(\"*\"*j)    "
   ]
  },
  {
   "cell_type": "code",
   "execution_count": 63,
   "id": "32f38949",
   "metadata": {},
   "outputs": [
    {
     "name": "stdout",
     "output_type": "stream",
     "text": [
      "4444\n",
      "333\n",
      "22\n",
      "1\n"
     ]
    }
   ],
   "source": [
    "for i in range(4,0,-1):\n",
    "    print(str(i)*i)"
   ]
  },
  {
   "cell_type": "code",
   "execution_count": 67,
   "id": "b525aad5",
   "metadata": {},
   "outputs": [
    {
     "name": "stdout",
     "output_type": "stream",
     "text": [
      "1234\n",
      "123\n",
      "12\n",
      "1\n",
      "\n"
     ]
    }
   ],
   "source": [
    "for i in range(5,0,-1):\n",
    "    for j in range(1,i):\n",
    "        print(j,end=\"\")\n",
    "    print()"
   ]
  },
  {
   "cell_type": "code",
   "execution_count": 73,
   "id": "5033417f",
   "metadata": {},
   "outputs": [
    {
     "name": "stdout",
     "output_type": "stream",
     "text": [
      "DDDD\n",
      "CCC\n",
      "BB\n",
      "A\n"
     ]
    }
   ],
   "source": [
    "for i in range(4,0,-1):\n",
    "    for j in range(1,i+1):\n",
    "        print(chr(i+64),end=\"\")\n",
    "    print()"
   ]
  },
  {
   "cell_type": "code",
   "execution_count": 3,
   "id": "476dc151",
   "metadata": {},
   "outputs": [],
   "source": [
    "==========================\n",
    "STRING TYPE"
   ]
  },
  {
   "cell_type": "code",
   "execution_count": 14,
   "id": "10da3e14",
   "metadata": {},
   "outputs": [
    {
     "name": "stdout",
     "output_type": "stream",
     "text": [
      "This is example of string in Python\n",
      "<class 'str'>\n",
      "140051777172080\n",
      "hsi xm\n"
     ]
    }
   ],
   "source": [
    "s = 'This is example of string in Python'\n",
    "print(s)\n",
    "print(type(s))\n",
    "print(id(s))\n",
    "print(s[1:12:2])"
   ]
  },
  {
   "cell_type": "code",
   "execution_count": 15,
   "id": "1ec1d078",
   "metadata": {},
   "outputs": [
    {
     "name": "stdout",
     "output_type": "stream",
     "text": [
      "This is example of string in Python\n",
      "<class 'str'>\n",
      "140051777174000\n",
      "hsi xm\n"
     ]
    }
   ],
   "source": [
    "s = \"This is example of string in Python\"\n",
    "print(s)\n",
    "print(type(s))\n",
    "print(id(s))\n",
    "print(s[1:12:2])"
   ]
  },
  {
   "cell_type": "code",
   "execution_count": 17,
   "id": "ca8994ec",
   "metadata": {},
   "outputs": [
    {
     "name": "stdout",
     "output_type": "stream",
     "text": [
      "This is example of string in Python\n",
      "It is a multiline string\n",
      "<class 'str'>\n",
      "140051777206288\n",
      "hsi xml fsrn nPto\n",
      "ti  utln tig\n"
     ]
    }
   ],
   "source": [
    "s = '''This is example of string in Python\n",
    "It is a multiline string'''\n",
    "print(s)\n",
    "print(type(s))\n",
    "print(id(s))\n",
    "print(s[1::2])"
   ]
  },
  {
   "cell_type": "code",
   "execution_count": 19,
   "id": "69758e51",
   "metadata": {},
   "outputs": [
    {
     "name": "stdout",
     "output_type": "stream",
     "text": [
      "This is example of string in Python\n",
      "It is a multiline string\n",
      "<class 'str'>\n",
      "140051777206512\n",
      "hsi xml fsrn nPto\n",
      "ti  utln tig\n"
     ]
    }
   ],
   "source": [
    "s = \"\"\"This is example of string in Python\n",
    "It is a multiline string\"\"\"\n",
    "print(s)\n",
    "print(type(s))\n",
    "print(id(s))\n",
    "print(s[1::2])"
   ]
  },
  {
   "cell_type": "code",
   "execution_count": 34,
   "id": "36fe0dc6",
   "metadata": {},
   "outputs": [
    {
     "name": "stdout",
     "output_type": "stream",
     "text": [
      " 'Sachin Tendulkar' / 'MS Dhoni' are best in Cricket. \n"
     ]
    }
   ],
   "source": [
    "s = \" \\'Sachin Tendulkar\\' / \\'MS Dhoni\\' are best in Cricket. \"\n",
    "print(s)"
   ]
  },
  {
   "cell_type": "code",
   "execution_count": 37,
   "id": "66346863",
   "metadata": {},
   "outputs": [
    {
     "name": "stdout",
     "output_type": "stream",
     "text": [
      "I want to print \\n\n"
     ]
    }
   ],
   "source": [
    "s = \"I want to print \\\\n\"\n",
    "print(s)"
   ]
  },
  {
   "cell_type": "code",
   "execution_count": 39,
   "id": "7585cb56",
   "metadata": {},
   "outputs": [
    {
     "name": "stdout",
     "output_type": "stream",
     "text": [
      "I want to print \\t\n"
     ]
    }
   ],
   "source": [
    "s = \"I want to print \\\\t\"\n",
    "print(s)"
   ]
  },
  {
   "cell_type": "code",
   "execution_count": 42,
   "id": "acc4be00",
   "metadata": {},
   "outputs": [
    {
     "name": "stdout",
     "output_type": "stream",
     "text": [
      "I want to print\\b\n"
     ]
    }
   ],
   "source": [
    "s = \"I want to print\\\\b\"\n",
    "print(s)"
   ]
  },
  {
   "cell_type": "code",
   "execution_count": 49,
   "id": "ee7a900f",
   "metadata": {},
   "outputs": [
    {
     "name": "stdout",
     "output_type": "stream",
     "text": [
      "This is 'String'\n"
     ]
    }
   ],
   "source": [
    "s = \"This is 'String'\"\n",
    "print(s)"
   ]
  },
  {
   "cell_type": "code",
   "execution_count": 51,
   "id": "b4302491",
   "metadata": {},
   "outputs": [
    {
     "name": "stdout",
     "output_type": "stream",
     "text": [
      "This is \"String\"\n"
     ]
    }
   ],
   "source": [
    "s = 'This is \"String\"'\n",
    "print(s)"
   ]
  },
  {
   "cell_type": "code",
   "execution_count": 52,
   "id": "63a61b1f",
   "metadata": {},
   "outputs": [
    {
     "name": "stdout",
     "output_type": "stream",
     "text": [
      "This is \"\"\"String\"\"\"\n"
     ]
    }
   ],
   "source": [
    "s = 'This is \"\"\"String\"\"\"'\n",
    "print(s)"
   ]
  },
  {
   "cell_type": "code",
   "execution_count": 54,
   "id": "c9524d69",
   "metadata": {},
   "outputs": [
    {
     "name": "stdout",
     "output_type": "stream",
     "text": [
      "This is '''String'''\n"
     ]
    }
   ],
   "source": [
    "s = \"This is '''String'''\"\n",
    "print(s)"
   ]
  },
  {
   "cell_type": "code",
   "execution_count": 77,
   "id": "15ea8866",
   "metadata": {},
   "outputs": [
    {
     "name": "stdout",
     "output_type": "stream",
     "text": [
      "This is \"String\" \b\n"
     ]
    }
   ],
   "source": [
    "s = \"\"\"This is \"String\" \\b\"\"\"\n",
    "print(s)"
   ]
  },
  {
   "cell_type": "code",
   "execution_count": 108,
   "id": "77570e76",
   "metadata": {},
   "outputs": [
    {
     "name": "stdout",
     "output_type": "stream",
     "text": [
      "This is example of String\n",
      "This is example of String\n",
      "This is example of String\n",
      "This is example of String\n",
      "It's me\n",
      "This is example of String\n",
      "This is example of StringThis is example of String\n",
      "gnirtS fo elpmaxe si sihT"
     ]
    }
   ],
   "source": [
    "s = \"This is example of String\"\n",
    "print(s)\n",
    "\n",
    "for i in range(0,len(s)):\n",
    "    print(s[i],end=\"\")\n",
    "\n",
    "print()    \n",
    "\n",
    "for i in s:\n",
    "    print(i,end=\"\")\n",
    "\n",
    "\n",
    "print()\n",
    "\n",
    "i = 0\n",
    "while i < len(s):\n",
    "    print(s[i],end=\"\")\n",
    "    i+=1\n",
    "    \n",
    "    \n",
    "print(\"\\nIt's me\")\n",
    "\n",
    "for i in range(-(len(s)),(-1+1)):\n",
    "    print(s[i],end=\"\")\n",
    "\n",
    "print()\n",
    "\n",
    "for i in range(-(len(s)),len(s)):\n",
    "    print(s[i],end=\"\")\n",
    "\n",
    "    \n",
    "print()\n",
    "\n",
    "for i in range(-1,-(len(s)+1),-1):\n",
    "    print(s[i],end=\"\")\n",
    "    "
   ]
  },
  {
   "cell_type": "code",
   "execution_count": 111,
   "id": "d6f93866",
   "metadata": {},
   "outputs": [],
   "source": []
  },
  {
   "cell_type": "code",
   "execution_count": 115,
   "id": "ec19866b",
   "metadata": {},
   "outputs": [
    {
     "name": "stdout",
     "output_type": "stream",
     "text": [
      "18\n"
     ]
    }
   ],
   "source": [
    "a = (hash(\"djfsk\"))\n",
    "b = a\n",
    "cnt = 0\n",
    "while a != 0:\n",
    "    a = a//10\n",
    "    cnt += 1\n",
    "print(cnt)"
   ]
  },
  {
   "cell_type": "code",
   "execution_count": null,
   "id": "e2358c18",
   "metadata": {},
   "outputs": [],
   "source": []
  },
  {
   "cell_type": "code",
   "execution_count": null,
   "id": "c7f3d8fd",
   "metadata": {},
   "outputs": [],
   "source": [
    "#Slice Operator"
   ]
  },
  {
   "cell_type": "code",
   "execution_count": 116,
   "id": "3862a9dc",
   "metadata": {},
   "outputs": [
    {
     "name": "stdout",
     "output_type": "stream",
     "text": [
      "This is example of String for Slicing\n"
     ]
    }
   ],
   "source": [
    "s = \"This is example of String for Slicing\"\n",
    "print(s[::])"
   ]
  },
  {
   "cell_type": "code",
   "execution_count": 117,
   "id": "2b8196a9",
   "metadata": {},
   "outputs": [
    {
     "name": "stdout",
     "output_type": "stream",
     "text": [
      "This is example of String for Slicing\n"
     ]
    }
   ],
   "source": [
    "s = \"This is example of String for Slicing\"\n",
    "print(s[0:len(s):1])"
   ]
  },
  {
   "cell_type": "code",
   "execution_count": 118,
   "id": "6ce87c8d",
   "metadata": {},
   "outputs": [
    {
     "name": "stdout",
     "output_type": "stream",
     "text": [
      "This is example of String for Slicing\n"
     ]
    }
   ],
   "source": [
    "s = \"This is example of String for Slicing\"\n",
    "print(s[0::])"
   ]
  },
  {
   "cell_type": "code",
   "execution_count": 119,
   "id": "1dcc95d3",
   "metadata": {},
   "outputs": [
    {
     "name": "stdout",
     "output_type": "stream",
     "text": [
      "This is example of String for Slicing\n"
     ]
    }
   ],
   "source": [
    "s = \"This is example of String for Slicing\"\n",
    "print(s[:len(s):])"
   ]
  },
  {
   "cell_type": "code",
   "execution_count": 120,
   "id": "f68ca92a",
   "metadata": {},
   "outputs": [
    {
     "name": "stdout",
     "output_type": "stream",
     "text": [
      "This is example of String for Slicing\n"
     ]
    }
   ],
   "source": [
    "s = \"This is example of String for Slicing\"\n",
    "print(s[::1])"
   ]
  },
  {
   "cell_type": "code",
   "execution_count": 121,
   "id": "60445393",
   "metadata": {},
   "outputs": [
    {
     "name": "stdout",
     "output_type": "stream",
     "text": [
      "Ti seapeo tigfrSiig\n"
     ]
    }
   ],
   "source": [
    "s = \"This is example of String for Slicing\"\n",
    "print(s[::2])"
   ]
  },
  {
   "cell_type": "code",
   "execution_count": 122,
   "id": "a7646393",
   "metadata": {},
   "outputs": [
    {
     "name": "stdout",
     "output_type": "stream",
     "text": [
      "Tssxp  rgoScg\n"
     ]
    }
   ],
   "source": [
    "s = \"This is example of String for Slicing\"\n",
    "print(s[::3])"
   ]
  },
  {
   "cell_type": "code",
   "execution_count": 129,
   "id": "e533fc45",
   "metadata": {},
   "outputs": [
    {
     "name": "stdout",
     "output_type": "stream",
     "text": [
      "T\n"
     ]
    }
   ],
   "source": [
    "s = \"This is example of String for Slicing\"\n",
    "print(s[::133])"
   ]
  },
  {
   "cell_type": "code",
   "execution_count": 130,
   "id": "8a10f946",
   "metadata": {},
   "outputs": [
    {
     "name": "stdout",
     "output_type": "stream",
     "text": [
      "gnicilS rof gnirtS fo elpmaxe si sihT\n"
     ]
    }
   ],
   "source": [
    "s = \"This is example of String for Slicing\"\n",
    "print(s[::-1])"
   ]
  },
  {
   "cell_type": "code",
   "execution_count": 131,
   "id": "f54891d5",
   "metadata": {},
   "outputs": [
    {
     "name": "stdout",
     "output_type": "stream",
     "text": [
      "This is example\n"
     ]
    }
   ],
   "source": [
    "s = \"This is example of String for Slicing\"\n",
    "print(s[:15:])"
   ]
  },
  {
   "cell_type": "code",
   "execution_count": 132,
   "id": "9a0eb079",
   "metadata": {},
   "outputs": [
    {
     "name": "stdout",
     "output_type": "stream",
     "text": [
      "girgtope T\n"
     ]
    }
   ],
   "source": [
    "s = \"This is example of String for Slicing\"\n",
    "print(s[::-4])"
   ]
  },
  {
   "cell_type": "code",
   "execution_count": 133,
   "id": "cb5b7716",
   "metadata": {},
   "outputs": [
    {
     "name": "stdout",
     "output_type": "stream",
     "text": [
      "gnicilS rof gnirtS fo elpmaxe si sihT\n"
     ]
    }
   ],
   "source": [
    "s = \"This is example of String for Slicing\"\n",
    "print(s[-1::-1])"
   ]
  },
  {
   "cell_type": "code",
   "execution_count": 134,
   "id": "6a136cf5",
   "metadata": {},
   "outputs": [
    {
     "name": "stdout",
     "output_type": "stream",
     "text": [
      "140051396531184\n",
      "140051396531184\n"
     ]
    }
   ],
   "source": [
    "s = \"This is example of String for Slicing\"\n",
    "print(id(s))\n",
    "ts = s[::]\n",
    "print(id(ts))"
   ]
  },
  {
   "cell_type": "code",
   "execution_count": 136,
   "id": "7dc32d9c",
   "metadata": {},
   "outputs": [
    {
     "name": "stdout",
     "output_type": "stream",
     "text": [
      "140051396532816\n",
      "140051396532816\n"
     ]
    }
   ],
   "source": [
    "s = \"This is example of String for Slicing\"\n",
    "print(id(s))\n",
    "ts = s[0::1]\n",
    "print(id(ts))"
   ]
  },
  {
   "cell_type": "code",
   "execution_count": 138,
   "id": "ad91b7b6",
   "metadata": {},
   "outputs": [
    {
     "name": "stdout",
     "output_type": "stream",
     "text": [
      "140051396533296\n",
      "140051396533296\n"
     ]
    }
   ],
   "source": [
    "s = \"This is example of String for Slicing\"\n",
    "print(id(s))\n",
    "ts = s[:len(s):]\n",
    "print(id(ts))"
   ]
  },
  {
   "cell_type": "code",
   "execution_count": 140,
   "id": "a24d89b7",
   "metadata": {},
   "outputs": [
    {
     "name": "stdout",
     "output_type": "stream",
     "text": [
      "140051396533584\n",
      "140051396533104\n"
     ]
    }
   ],
   "source": [
    "s = \"This is example of String for Slicing\"\n",
    "print(id(s))\n",
    "ts = s[:len(s)-1:]\n",
    "print(id(ts))"
   ]
  },
  {
   "cell_type": "code",
   "execution_count": 143,
   "id": "2b083b1d",
   "metadata": {},
   "outputs": [
    {
     "name": "stdout",
     "output_type": "stream",
     "text": [
      "gnicilS rof gnirtS fo elpmaxe si sihT\n"
     ]
    }
   ],
   "source": [
    "s = \"This is example of String for Slicing\"\n",
    "print(s[1000:-1000:-1])"
   ]
  },
  {
   "cell_type": "code",
   "execution_count": 145,
   "id": "058b7827",
   "metadata": {},
   "outputs": [
    {
     "ename": "ValueError",
     "evalue": "slice step cannot be zero",
     "output_type": "error",
     "traceback": [
      "\u001b[0;31m---------------------------------------------------------------------------\u001b[0m",
      "\u001b[0;31mValueError\u001b[0m                                Traceback (most recent call last)",
      "Cell \u001b[0;32mIn[145], line 2\u001b[0m\n\u001b[1;32m      1\u001b[0m s \u001b[38;5;241m=\u001b[39m \u001b[38;5;124m\"\u001b[39m\u001b[38;5;124mThis is example of String for Slicing\u001b[39m\u001b[38;5;124m\"\u001b[39m\n\u001b[0;32m----> 2\u001b[0m \u001b[38;5;28mprint\u001b[39m(\u001b[43ms\u001b[49m\u001b[43m[\u001b[49m\u001b[43m:\u001b[49m\u001b[43m:\u001b[49m\u001b[38;5;241;43m0\u001b[39;49m\u001b[43m]\u001b[49m)\n",
      "\u001b[0;31mValueError\u001b[0m: slice step cannot be zero"
     ]
    }
   ],
   "source": [
    "s = \"This is example of String for Slicing\"\n",
    "print(s[::0])"
   ]
  },
  {
   "cell_type": "code",
   "execution_count": 147,
   "id": "f0a11e87",
   "metadata": {},
   "outputs": [
    {
     "name": "stdout",
     "output_type": "stream",
     "text": [
      "GaneshPatil\n",
      "Ganesh Patil\n"
     ]
    }
   ],
   "source": [
    "s = \"Ganesh\"+\"Patil\"\n",
    "print(s)\n",
    "s = \"Ganesh \"+\"Patil\"\n",
    "print(s)"
   ]
  },
  {
   "cell_type": "code",
   "execution_count": 149,
   "id": "8bf2e324",
   "metadata": {},
   "outputs": [
    {
     "name": "stdout",
     "output_type": "stream",
     "text": [
      "IND IND IND IND IND \n"
     ]
    }
   ],
   "source": [
    "s = \"IND \"*5\n",
    "print(s)"
   ]
  },
  {
   "cell_type": "code",
   "execution_count": 153,
   "id": "a39377e7",
   "metadata": {},
   "outputs": [
    {
     "name": "stdout",
     "output_type": "stream",
     "text": [
      "('Ganesh ', 'Patil')\n",
      "Ganesh Patil\n",
      "Ganesh Patil\n"
     ]
    }
   ],
   "source": [
    "a = \"Ganesh \"\n",
    "b = \"Patil\"\n",
    "\n",
    "s = a,b\n",
    "print(s)\n",
    "\n",
    "s = a + b\n",
    "print(s)\n",
    "\n",
    "s = a*1 + b*1\n",
    "print(s)"
   ]
  },
  {
   "cell_type": "code",
   "execution_count": 157,
   "id": "b4c03445",
   "metadata": {},
   "outputs": [
    {
     "name": "stdout",
     "output_type": "stream",
     "text": [
      "False\n",
      "False\n",
      "True\n",
      "True\n"
     ]
    }
   ],
   "source": [
    "a = \"a\"\n",
    "b = \"b\"\n",
    "print(a==b)\n",
    "print(a > b)\n",
    "print(a < b)\n",
    "print(a != b)"
   ]
  },
  {
   "cell_type": "code",
   "execution_count": 8,
   "id": "52ff8772",
   "metadata": {},
   "outputs": [
    {
     "name": "stdout",
     "output_type": "stream",
     "text": [
      "1\n"
     ]
    }
   ],
   "source": [
    "s = \"This is example for string and example is to understand count function with examples\"\n",
    "print(s.count(\"ex\",1,10))"
   ]
  },
  {
   "cell_type": "code",
   "execution_count": 11,
   "id": "34bfc73d",
   "metadata": {},
   "outputs": [
    {
     "name": "stdout",
     "output_type": "stream",
     "text": [
      "3\n"
     ]
    }
   ],
   "source": [
    "s = \"This is example for string and example is to understand count function with examples\"\n",
    "print(s.count(\"ex\"))"
   ]
  },
  {
   "cell_type": "code",
   "execution_count": 12,
   "id": "80124aaa",
   "metadata": {},
   "outputs": [
    {
     "name": "stdout",
     "output_type": "stream",
     "text": [
      "3\n"
     ]
    }
   ],
   "source": [
    "s = \"This is example for string and example is to understand count function with examples\"\n",
    "print(s.count(\"ex\",))"
   ]
  },
  {
   "cell_type": "code",
   "execution_count": 13,
   "id": "bd0a9f06",
   "metadata": {},
   "outputs": [
    {
     "name": "stdout",
     "output_type": "stream",
     "text": [
      "True\n"
     ]
    }
   ],
   "source": [
    "s = \"This is example for string and example is to understand count function with examples\"\n",
    "print(\"example\" in s)"
   ]
  },
  {
   "cell_type": "code",
   "execution_count": 14,
   "id": "3c175bc9",
   "metadata": {},
   "outputs": [
    {
     "name": "stdout",
     "output_type": "stream",
     "text": [
      "False\n"
     ]
    }
   ],
   "source": [
    "s = \"This is example for string and example is to understand count function with examples\"\n",
    "print(\"example\" not in s)"
   ]
  },
  {
   "cell_type": "code",
   "execution_count": 18,
   "id": "aa839424",
   "metadata": {},
   "outputs": [
    {
     "name": "stdout",
     "output_type": "stream",
     "text": [
      "['Ganesh', 'Patil', 'ICCS', 'BCS', '85.56']\n"
     ]
    }
   ],
   "source": [
    "s = \"Ganesh,Patil,ICCS,BCS,85.56\"\n",
    "L = s.split(\",\")\n",
    "print(L)"
   ]
  },
  {
   "cell_type": "code",
   "execution_count": null,
   "id": "63b5c518",
   "metadata": {},
   "outputs": [],
   "source": [
    "find function"
   ]
  },
  {
   "cell_type": "code",
   "execution_count": 24,
   "id": "dd3a516d",
   "metadata": {},
   "outputs": [
    {
     "name": "stdout",
     "output_type": "stream",
     "text": [
      "6\n"
     ]
    }
   ],
   "source": [
    "s = \"bcsbcabsc\"\n",
    "print(s.find(\"bsc\"))"
   ]
  },
  {
   "cell_type": "code",
   "execution_count": 25,
   "id": "681a8f06",
   "metadata": {},
   "outputs": [
    {
     "name": "stdout",
     "output_type": "stream",
     "text": [
      "-1\n"
     ]
    }
   ],
   "source": [
    "s = \"bcsbcabsc\"\n",
    "print(s.find(\"abcd\"))"
   ]
  },
  {
   "cell_type": "code",
   "execution_count": 26,
   "id": "5b80b0bf",
   "metadata": {},
   "outputs": [
    {
     "name": "stdout",
     "output_type": "stream",
     "text": [
      "6\n"
     ]
    }
   ],
   "source": [
    "s = \"bcsbcabsc\"\n",
    "print(s.index(\"bsc\"))"
   ]
  },
  {
   "cell_type": "code",
   "execution_count": 27,
   "id": "2d0514f9",
   "metadata": {},
   "outputs": [
    {
     "ename": "ValueError",
     "evalue": "substring not found",
     "output_type": "error",
     "traceback": [
      "\u001b[0;31m---------------------------------------------------------------------------\u001b[0m",
      "\u001b[0;31mValueError\u001b[0m                                Traceback (most recent call last)",
      "Cell \u001b[0;32mIn[27], line 2\u001b[0m\n\u001b[1;32m      1\u001b[0m s \u001b[38;5;241m=\u001b[39m \u001b[38;5;124m\"\u001b[39m\u001b[38;5;124mbcsbcabsc\u001b[39m\u001b[38;5;124m\"\u001b[39m\n\u001b[0;32m----> 2\u001b[0m \u001b[38;5;28mprint\u001b[39m(\u001b[43ms\u001b[49m\u001b[38;5;241;43m.\u001b[39;49m\u001b[43mindex\u001b[49m\u001b[43m(\u001b[49m\u001b[38;5;124;43m\"\u001b[39;49m\u001b[38;5;124;43mabcd\u001b[39;49m\u001b[38;5;124;43m\"\u001b[39;49m\u001b[43m)\u001b[49m)\n",
      "\u001b[0;31mValueError\u001b[0m: substring not found"
     ]
    }
   ],
   "source": [
    "s = \"bcsbcabsc\"\n",
    "print(s.index(\"abcd\"))"
   ]
  },
  {
   "cell_type": "code",
   "execution_count": 28,
   "id": "aee462a2",
   "metadata": {},
   "outputs": [
    {
     "name": "stdout",
     "output_type": "stream",
     "text": [
      "    IND    \n",
      "IND\n"
     ]
    }
   ],
   "source": [
    "s = \"    IND    \"\n",
    "print(s)\n",
    "print(s.strip())"
   ]
  },
  {
   "cell_type": "code",
   "execution_count": 30,
   "id": "5ccbb7fd",
   "metadata": {},
   "outputs": [
    {
     "name": "stdout",
     "output_type": "stream",
     "text": [
      "    IND\n",
      "IND\n"
     ]
    }
   ],
   "source": [
    "s = \"    IND\"\n",
    "print(s)\n",
    "print(s.lstrip())"
   ]
  },
  {
   "cell_type": "code",
   "execution_count": 31,
   "id": "fd6eebf6",
   "metadata": {},
   "outputs": [
    {
     "name": "stdout",
     "output_type": "stream",
     "text": [
      "IND    \n",
      "IND    \n"
     ]
    }
   ],
   "source": [
    "s = \"IND    \"\n",
    "print(s)\n",
    "print(s.lstrip())"
   ]
  },
  {
   "cell_type": "code",
   "execution_count": 43,
   "id": "ec29d897",
   "metadata": {},
   "outputs": [
    {
     "name": "stdout",
     "output_type": "stream",
     "text": [
      "THIS IS SMALL STRING\n",
      "this is capital strng\n",
      "False\n",
      "True\n",
      "True\n",
      "False\n",
      "tHIS iS iN cAMEL cASE\n",
      "True\n",
      "This is string\n"
     ]
    }
   ],
   "source": [
    "s = \"this is small string\"\n",
    "st = \"THIS IS CAPITAL STRNG\"\n",
    "\n",
    "print(s.upper())\n",
    "print(st.lower())\n",
    "\n",
    "print(s.isupper())\n",
    "print(st.isupper())\n",
    "\n",
    "print(s.islower())\n",
    "print(st.islower())\n",
    "\n",
    "s = \"This Is In Camel Case\"\n",
    "print(s.swapcase())\n",
    "\n",
    "print(s.istitle())\n",
    "\n",
    "\n",
    "s = \"this is String\"\n",
    "print(s.capitalize())"
   ]
  },
  {
   "cell_type": "code",
   "execution_count": 46,
   "id": "142966e8",
   "metadata": {},
   "outputs": [
    {
     "name": "stdout",
     "output_type": "stream",
     "text": [
      "True\n",
      "True\n",
      "False\n"
     ]
    }
   ],
   "source": [
    "a = \"abc\"\n",
    "print(a.isalpha())\n",
    "print(a.isalnum())\n",
    "print(a.isdigit())"
   ]
  },
  {
   "cell_type": "code",
   "execution_count": 49,
   "id": "3a6ebfbf",
   "metadata": {},
   "outputs": [
    {
     "name": "stdout",
     "output_type": "stream",
     "text": [
      "False\n",
      "True\n",
      "True\n"
     ]
    }
   ],
   "source": [
    "a = \"123\"\n",
    "print(a.isalpha())\n",
    "print(a.isalnum())\n",
    "print(a.isdigit())"
   ]
  },
  {
   "cell_type": "code",
   "execution_count": 53,
   "id": "eaaed044",
   "metadata": {},
   "outputs": [
    {
     "name": "stdout",
     "output_type": "stream",
     "text": [
      "Ganesh Patil\n"
     ]
    }
   ],
   "source": [
    "L = [\"Ganesh\",\"Patil\"]\n",
    "s = \" \".join(L)\n",
    "print(s)"
   ]
  },
  {
   "cell_type": "code",
   "execution_count": 59,
   "id": "a786644f",
   "metadata": {},
   "outputs": [
    {
     "name": "stdout",
     "output_type": "stream",
     "text": [
      "02-09-2023\n",
      "02/09/2023\n"
     ]
    }
   ],
   "source": [
    "L = [\"02\",\"09\",\"2023\"]\n",
    "s = \"-\".join(L)\n",
    "print(s)\n",
    "s = \"/\".join(L)\n",
    "print(s)"
   ]
  },
  {
   "cell_type": "code",
   "execution_count": 65,
   "id": "d91446a3",
   "metadata": {},
   "outputs": [
    {
     "name": "stdout",
     "output_type": "stream",
     "text": [
      "I love c and java and java programming\n"
     ]
    }
   ],
   "source": [
    "s = \"I love c and python and python programming\"\n",
    "ts = s.replace(\"python\",\"java\")\n",
    "print(ts)"
   ]
  },
  {
   "cell_type": "code",
   "execution_count": 67,
   "id": "9e8ffe38",
   "metadata": {},
   "outputs": [
    {
     "name": "stdout",
     "output_type": "stream",
     "text": [
      "I love c and java and python programming, python is best\n"
     ]
    }
   ],
   "source": [
    "s = \"I love c and python and python programming, python is best\"\n",
    "ts = s.replace(\"python\",\"java\",1)\n",
    "print(ts)"
   ]
  },
  {
   "cell_type": "code",
   "execution_count": 68,
   "id": "b51a8777",
   "metadata": {},
   "outputs": [
    {
     "name": "stdout",
     "output_type": "stream",
     "text": [
      "I love c and java and java programming, python is best\n"
     ]
    }
   ],
   "source": [
    "s = \"I love c and python and python programming, python is best\"\n",
    "ts = s.replace(\"python\",\"java\",2)\n",
    "print(ts)"
   ]
  },
  {
   "cell_type": "code",
   "execution_count": 71,
   "id": "36de34f8",
   "metadata": {},
   "outputs": [
    {
     "name": "stdout",
     "output_type": "stream",
     "text": [
      "I love c and java and java programming, java is best\n"
     ]
    }
   ],
   "source": [
    "s = \"I love c and python and python programming, python is best\"\n",
    "ts = s.replace(\"python\",\"java\",-2)\n",
    "print(ts)"
   ]
  },
  {
   "cell_type": "code",
   "execution_count": null,
   "id": "edf8a6ba",
   "metadata": {},
   "outputs": [],
   "source": [
    "LIST Type"
   ]
  },
  {
   "cell_type": "code",
   "execution_count": 3,
   "id": "984c0e96",
   "metadata": {},
   "outputs": [
    {
     "name": "stdout",
     "output_type": "stream",
     "text": [
      "['A', 'B', 'C', 'D', 'E']\n",
      "5\n",
      "A\n"
     ]
    }
   ],
   "source": [
    "L= [\"A\",\"B\",\"C\",\"D\",\"E\"]\n",
    "print(L)\n",
    "print(len(L))\n",
    "print(L[0])"
   ]
  },
  {
   "cell_type": "code",
   "execution_count": 13,
   "id": "834fb2b5",
   "metadata": {},
   "outputs": [
    {
     "name": "stdout",
     "output_type": "stream",
     "text": [
      "A B C D E \n",
      "A B C D E \n",
      "A B C D E "
     ]
    }
   ],
   "source": [
    "L= [\"A\",\"B\",\"C\",\"D\",\"E\"]\n",
    "\n",
    "for i in range(0,len(L)):\n",
    "    print(L[i],end=\" \")\n",
    "\n",
    "print()    \n",
    "    \n",
    "for i in L:\n",
    "    print(i,end=\" \")\n",
    "    \n",
    "print()\n",
    "i=0\n",
    "while i < len(L):\n",
    "    print(L[i],end=\" \")\n",
    "    i+=1"
   ]
  },
  {
   "cell_type": "code",
   "execution_count": 15,
   "id": "cfad461f",
   "metadata": {},
   "outputs": [
    {
     "name": "stdout",
     "output_type": "stream",
     "text": [
      "['AAA', 'BBB', ['A', 'B', 'C', 'D', 'E'], 'CCC']\n"
     ]
    }
   ],
   "source": [
    "L= [\"A\",\"B\",\"C\",\"D\",\"E\"]\n",
    "\n",
    "SL = [\"AAA\",\"BBB\",L,\"CCC\"]\n",
    "print(SL)"
   ]
  },
  {
   "cell_type": "code",
   "execution_count": 18,
   "id": "777d0bc6",
   "metadata": {},
   "outputs": [
    {
     "name": "stdout",
     "output_type": "stream",
     "text": [
      "[11, 22, 33, 44]\n",
      "140049891896576\n",
      "[111, 22, 33, 44]\n",
      "140049891896576\n",
      "[111, 22, 33, 44]\n",
      "140049891896576\n"
     ]
    }
   ],
   "source": [
    "L1 = [11,22,33,44]\n",
    "print(L1)\n",
    "print(id(L1))\n",
    "\n",
    "L2 = L1\n",
    "L2[0] = 111\n",
    "print(L2)\n",
    "print(id(L2))\n",
    "\n",
    "print(L1)\n",
    "print(id(L1))\n"
   ]
  },
  {
   "cell_type": "code",
   "execution_count": 42,
   "id": "6e3a32b1",
   "metadata": {},
   "outputs": [
    {
     "name": "stdout",
     "output_type": "stream",
     "text": [
      "[367, 40, 241, 166, 492, 378, 86, 395, 392, 40, 59, 464, 172, 232, 299, 294, 388, 29, 201, 406]\n",
      "[29, 40, 40, 59, 86, 166, 172, 201, 232, 241, 294, 299, 367, 378, 388, 392, 395, 406, 464, 492]\n",
      "[382, 210, 463, 24, 427, 293, 206, 139, 50, 454, 10, 379, 22, 189, 105, 218, 305, 447, 308, 335]\n",
      "[10, 22, 24, 50, 105, 139, 189, 206, 210, 218, 293, 305, 308, 335, 379, 382, 427, 447, 454, 463]\n"
     ]
    }
   ],
   "source": [
    "import random\n",
    "L = [random.randint(1,500) for i in range(20)]\n",
    "print(L)\n",
    "L.sort()\n",
    "print(L)\n",
    "\n",
    "\n",
    "L = [random.randint(1,500) for i in range(20)]\n",
    "SL = sorted(L)\n",
    "print(L)\n",
    "print(SL)"
   ]
  },
  {
   "cell_type": "code",
   "execution_count": 48,
   "id": "d251f1ed",
   "metadata": {},
   "outputs": [
    {
     "name": "stdout",
     "output_type": "stream",
     "text": [
      "['Ch. Sambhajinagar', 'Delhi', 'Dhule', 'Jalgaon', 'Mumbai', 'Nashik', 'Pune']\n",
      "['Pune', 'Nashik', 'Mumbai', 'Jalgaon', 'Dhule', 'Delhi', 'Ch. Sambhajinagar']\n",
      "['Pune', 'Dhule', 'Delhi', 'Nashik', 'Mumbai', 'Jalgaon', 'Ch. Sambhajinagar']\n",
      "['Ch. Sambhajinagar', 'Jalgaon', 'Nashik', 'Mumbai', 'Dhule', 'Delhi', 'Pune']\n"
     ]
    }
   ],
   "source": [
    "L = [\"Pune\",\"Mumbai\",\"Jalgaon\",\"Delhi\",\"Dhule\",\"Nashik\",\"Ch. Sambhajinagar\"]\n",
    "\n",
    "L.sort()\n",
    "print(L)\n",
    "\n",
    "L.sort(reverse=True)\n",
    "print(L)\n",
    "\n",
    "L.sort(key=len)\n",
    "print(L)\n",
    "\n",
    "L.sort(key=len,reverse=True)\n",
    "print(L)"
   ]
  },
  {
   "cell_type": "code",
   "execution_count": 49,
   "id": "70e22c09",
   "metadata": {},
   "outputs": [
    {
     "name": "stdout",
     "output_type": "stream",
     "text": [
      "55\n"
     ]
    }
   ],
   "source": [
    "L = [1,2,3,4,5,6,7,8,9,10]\n",
    "s = 0\n",
    "for i in L:\n",
    "    s+=i\n",
    "print(s)"
   ]
  },
  {
   "cell_type": "code",
   "execution_count": 58,
   "id": "7077f6bd",
   "metadata": {},
   "outputs": [
    {
     "name": "stdout",
     "output_type": "stream",
     "text": [
      "[126, 213, 255, 195, 369, 123, 45, 365, 306, 476, 8, 459, 419, 68, 432, 33, 80, 154, 167, 85]\n",
      "Max element :  476\n",
      "Second max :  459 476\n"
     ]
    }
   ],
   "source": [
    "L = [random.randint(1,500) for i in range(20)]\n",
    "print(L)\n",
    "s = L[0]\n",
    "for i in L:\n",
    "    if s < i:\n",
    "        s = i\n",
    "print(\"Max element : \",s)\n",
    "\n",
    "SL = sorted(L)\n",
    "print(\"Second max : \",SL[len(SL)-2],SL[len(SL)-1])\n"
   ]
  },
  {
   "cell_type": "code",
   "execution_count": 59,
   "id": "8ff0e1c0",
   "metadata": {},
   "outputs": [
    {
     "name": "stdout",
     "output_type": "stream",
     "text": [
      "[126, 213, 255, 195, 369, 123, 45, 365, 306, 476, 8, 459, 419, 68, 432, 33, 80, 154, 167, 85]\n"
     ]
    }
   ],
   "source": [
    "L = [126, 213, 255, 195, 369, 123, 45, 365, 306, 476, 8, 459, 419, 68, 432, 33, 80, 154, 167, 85]\n",
    "\n",
    "print(L[::])"
   ]
  },
  {
   "cell_type": "code",
   "execution_count": 62,
   "id": "fd4d8433",
   "metadata": {},
   "outputs": [
    {
     "name": "stdout",
     "output_type": "stream",
     "text": [
      "140049891318848\n",
      "140049891318848\n"
     ]
    }
   ],
   "source": [
    "L = [126, 213, 255, 195, 369, 123, 45, 365, 306, 476, 8, 459, 419, 68, 432, 33, 80, 154, 167, 85]\n",
    "print(id(L))\n",
    "SL = L#[::]\n",
    "print(id(SL))"
   ]
  },
  {
   "cell_type": "code",
   "execution_count": 63,
   "id": "92c5515c",
   "metadata": {},
   "outputs": [
    {
     "name": "stdout",
     "output_type": "stream",
     "text": [
      "140049891316608\n",
      "140049630366848\n"
     ]
    }
   ],
   "source": [
    "L = [126, 213, 255, 195, 369, 123, 45, 365, 306, 476, 8, 459, 419, 68, 432, 33, 80, 154, 167, 85]\n",
    "print(id(L))\n",
    "SL = L[::]\n",
    "print(id(SL))"
   ]
  },
  {
   "cell_type": "code",
   "execution_count": 67,
   "id": "98c276f5",
   "metadata": {},
   "outputs": [
    {
     "name": "stdout",
     "output_type": "stream",
     "text": [
      "[126, 255, 369, 45, 306, 8, 419, 432, 80, 167]\n",
      "[85, 167, 154, 80, 33, 432, 68, 419, 459, 8, 476, 306, 365, 45, 123, 369, 195, 255, 213, 126]\n",
      "[85, 167, 154, 80, 33, 432, 68, 419, 459, 8, 476, 306, 365, 45, 123, 369, 195, 255, 213, 126]\n"
     ]
    }
   ],
   "source": [
    "L = [126, 213, 255, 195, 369, 123, 45, 365, 306, 476, 8, 459, 419, 68, 432, 33, 80, 154, 167, 85]\n",
    "print(L[::2])\n",
    "print(L[-1::-1])\n",
    "print(L[::-1])"
   ]
  },
  {
   "cell_type": "code",
   "execution_count": 68,
   "id": "595cbd48",
   "metadata": {},
   "outputs": [
    {
     "name": "stdout",
     "output_type": "stream",
     "text": [
      "[1, 2, 3, 1, 2, 3, 1, 2, 3]\n"
     ]
    }
   ],
   "source": [
    "L = [1,2,3]\n",
    "print(L*3)"
   ]
  },
  {
   "cell_type": "code",
   "execution_count": 72,
   "id": "fb3eaede",
   "metadata": {},
   "outputs": [
    {
     "name": "stdout",
     "output_type": "stream",
     "text": [
      "True\n",
      "False\n",
      "True\n",
      "False\n"
     ]
    }
   ],
   "source": [
    "L = [126, 213, 255, 195, 369, 123, 45, 365, 306, 476, 8, 459, 419, 68, 432, 33, 80, 154, 167, 85]\n",
    "print(365 in L)\n",
    "print(1000 in L)\n",
    "\n",
    "print(34 not in L)\n",
    "print(459 not in L)"
   ]
  },
  {
   "cell_type": "code",
   "execution_count": 77,
   "id": "1dabf13d",
   "metadata": {},
   "outputs": [
    {
     "name": "stdout",
     "output_type": "stream",
     "text": [
      "[1, 2, 222, 3, 4, 5]\n"
     ]
    }
   ],
   "source": [
    "L = [1,2,3,4,5]\n",
    "L.insert(2,222)\n",
    "print(L)"
   ]
  },
  {
   "cell_type": "code",
   "execution_count": 79,
   "id": "01bff499",
   "metadata": {},
   "outputs": [
    {
     "name": "stdout",
     "output_type": "stream",
     "text": [
      "[1, 2, 3, 'ABC', 4, 5]\n"
     ]
    }
   ],
   "source": [
    "L = [1,2,3,4,5]\n",
    "L.insert(3,\"ABC\")\n",
    "print(L)"
   ]
  },
  {
   "cell_type": "code",
   "execution_count": 81,
   "id": "9617799f",
   "metadata": {},
   "outputs": [
    {
     "name": "stdout",
     "output_type": "stream",
     "text": [
      "2\n"
     ]
    }
   ],
   "source": [
    "L = [1,2,3,4,5]\n",
    "n = L.index(3)\n",
    "print(n)"
   ]
  },
  {
   "cell_type": "code",
   "execution_count": 3,
   "id": "b6303540",
   "metadata": {},
   "outputs": [
    {
     "ename": "ValueError",
     "evalue": "23 is not in list",
     "output_type": "error",
     "traceback": [
      "\u001b[0;31m---------------------------------------------------------------------------\u001b[0m",
      "\u001b[0;31mValueError\u001b[0m                                Traceback (most recent call last)",
      "Cell \u001b[0;32mIn[3], line 2\u001b[0m\n\u001b[1;32m      1\u001b[0m L \u001b[38;5;241m=\u001b[39m [\u001b[38;5;241m1\u001b[39m,\u001b[38;5;241m2\u001b[39m,\u001b[38;5;241m3\u001b[39m,\u001b[38;5;241m4\u001b[39m,\u001b[38;5;241m5\u001b[39m]\n\u001b[0;32m----> 2\u001b[0m n \u001b[38;5;241m=\u001b[39m \u001b[43mL\u001b[49m\u001b[38;5;241;43m.\u001b[39;49m\u001b[43mindex\u001b[49m\u001b[43m(\u001b[49m\u001b[38;5;241;43m23\u001b[39;49m\u001b[43m)\u001b[49m\n\u001b[1;32m      3\u001b[0m \u001b[38;5;28mprint\u001b[39m(n)\n",
      "\u001b[0;31mValueError\u001b[0m: 23 is not in list"
     ]
    }
   ],
   "source": [
    "L = [1,2,3,4,5]\n",
    "n = L.index(23)\n",
    "print(n)"
   ]
  },
  {
   "cell_type": "code",
   "execution_count": 6,
   "id": "3d42d493",
   "metadata": {},
   "outputs": [
    {
     "name": "stdout",
     "output_type": "stream",
     "text": [
      "[0, 1, 2, 3, 4, 5, 6, 7, 8, 9]\n",
      "140266593261824\n",
      "[0, 1, 3, 4, 5, 6, 7, 8, 9]\n",
      "140266593261824\n"
     ]
    }
   ],
   "source": [
    "L = list(range(10))\n",
    "print(L)\n",
    "print(id(L))\n",
    "L.remove(2)\n",
    "print(L)\n",
    "print(id(L))"
   ]
  },
  {
   "cell_type": "code",
   "execution_count": 8,
   "id": "c7a513c5",
   "metadata": {},
   "outputs": [
    {
     "name": "stdout",
     "output_type": "stream",
     "text": [
      "Help on method_descriptor:\n",
      "\n",
      "remove(self, value, /)\n",
      "    Remove first occurrence of value.\n",
      "    \n",
      "    Raises ValueError if the value is not present.\n",
      "\n"
     ]
    }
   ],
   "source": [
    "help(list.remove)"
   ]
  },
  {
   "cell_type": "code",
   "execution_count": 10,
   "id": "ca0bbbc0",
   "metadata": {},
   "outputs": [
    {
     "name": "stdout",
     "output_type": "stream",
     "text": [
      "[0, 1, 2, 3, 4, 5, 6, 7, 8, 9]\n"
     ]
    },
    {
     "ename": "ValueError",
     "evalue": "list.remove(x): x not in list",
     "output_type": "error",
     "traceback": [
      "\u001b[0;31m---------------------------------------------------------------------------\u001b[0m",
      "\u001b[0;31mValueError\u001b[0m                                Traceback (most recent call last)",
      "Cell \u001b[0;32mIn[10], line 3\u001b[0m\n\u001b[1;32m      1\u001b[0m L \u001b[38;5;241m=\u001b[39m \u001b[38;5;28mlist\u001b[39m(\u001b[38;5;28mrange\u001b[39m(\u001b[38;5;241m10\u001b[39m))\n\u001b[1;32m      2\u001b[0m \u001b[38;5;28mprint\u001b[39m(L)\n\u001b[0;32m----> 3\u001b[0m \u001b[43mL\u001b[49m\u001b[38;5;241;43m.\u001b[39;49m\u001b[43mremove\u001b[49m\u001b[43m(\u001b[49m\u001b[38;5;241;43m10\u001b[39;49m\u001b[43m)\u001b[49m\n\u001b[1;32m      4\u001b[0m \u001b[38;5;28mprint\u001b[39m(L)\n",
      "\u001b[0;31mValueError\u001b[0m: list.remove(x): x not in list"
     ]
    }
   ],
   "source": [
    "L = list(range(10))\n",
    "print(L)\n",
    "L.remove(10)\n",
    "print(L)"
   ]
  },
  {
   "cell_type": "code",
   "execution_count": 12,
   "id": "f7046e28",
   "metadata": {},
   "outputs": [
    {
     "name": "stdout",
     "output_type": "stream",
     "text": [
      "[1, 3, 2, 3, 4, 2]\n"
     ]
    }
   ],
   "source": [
    "L = [1,2,3,2,3,4,2]\n",
    "L.remove(2)\n",
    "print(L)"
   ]
  },
  {
   "cell_type": "code",
   "execution_count": 17,
   "id": "be5a79e9",
   "metadata": {},
   "outputs": [
    {
     "name": "stdout",
     "output_type": "stream",
     "text": [
      "3\n",
      "[1, 3, 3, 4]\n"
     ]
    }
   ],
   "source": [
    "L = [1,2,3,2,3,4,2]\n",
    "n = L.count(2)\n",
    "print(n)\n",
    "\n",
    "for i in range(n):\n",
    "    L.remove(2)\n",
    "    \n",
    "print(L)"
   ]
  },
  {
   "cell_type": "code",
   "execution_count": 25,
   "id": "b2abcea8",
   "metadata": {},
   "outputs": [
    {
     "name": "stdout",
     "output_type": "stream",
     "text": [
      "[0, 1, 2, 3, 4, 5, 6, 7, 8, 9]\n",
      "[]\n"
     ]
    }
   ],
   "source": [
    "L = [i for i in range(10)]\n",
    "print(L)\n",
    "L.clear()\n",
    "print(L)"
   ]
  },
  {
   "cell_type": "code",
   "execution_count": 28,
   "id": "2710cf60",
   "metadata": {},
   "outputs": [
    {
     "name": "stdout",
     "output_type": "stream",
     "text": [
      "[1, 2, 3, 4, 5, 6, 7, 8, 9, 10]\n",
      "10\n",
      "9\n"
     ]
    }
   ],
   "source": [
    "L = list(range(1,11))\n",
    "print(L)\n",
    "print(L.pop())\n",
    "nn = L.pop()\n",
    "print(nn)"
   ]
  },
  {
   "cell_type": "code",
   "execution_count": 29,
   "id": "9573213a",
   "metadata": {},
   "outputs": [
    {
     "name": "stdout",
     "output_type": "stream",
     "text": [
      "Help on method_descriptor:\n",
      "\n",
      "pop(self, index=-1, /)\n",
      "    Remove and return item at index (default last).\n",
      "    \n",
      "    Raises IndexError if list is empty or index is out of range.\n",
      "\n"
     ]
    }
   ],
   "source": [
    "help(list.pop)"
   ]
  },
  {
   "cell_type": "code",
   "execution_count": 35,
   "id": "24d62f4b",
   "metadata": {},
   "outputs": [
    {
     "name": "stdout",
     "output_type": "stream",
     "text": [
      "[1, 2, 3, 4, 5, 6, 7, 8, 9, 10]\n",
      "2\n"
     ]
    }
   ],
   "source": [
    "L = list(range(1,11))\n",
    "print(L)\n",
    "print(L.pop())"
   ]
  },
  {
   "cell_type": "code",
   "execution_count": 37,
   "id": "81cb28e5",
   "metadata": {},
   "outputs": [
    {
     "name": "stdout",
     "output_type": "stream",
     "text": [
      "[1, 2, 3, 4, 5, 6, 7, 8, 9, 10]\n",
      "[10, 9, 8, 7, 6, 5, 4, 3, 2, 1]\n",
      "None\n"
     ]
    }
   ],
   "source": [
    "L = list(range(1,11))\n",
    "print(L)\n",
    "a = L.reverse()\n",
    "print(L)\n",
    "print(a)"
   ]
  },
  {
   "cell_type": "code",
   "execution_count": 46,
   "id": "b17931f3",
   "metadata": {},
   "outputs": [
    {
     "name": "stdout",
     "output_type": "stream",
     "text": [
      "False\n",
      "False\n",
      "True\n"
     ]
    }
   ],
   "source": [
    "L = [1,9,3]\n",
    "SL = [10,4,6]\n",
    "print(L>SL)\n",
    "print(L==SL)\n",
    "print(L!=SL)"
   ]
  },
  {
   "cell_type": "code",
   "execution_count": 57,
   "id": "c7b97672",
   "metadata": {},
   "outputs": [
    {
     "name": "stdout",
     "output_type": "stream",
     "text": [
      "[1, 2, 3, 4, 5]\n",
      "[6, 7, 8, 9, 10]\n",
      "[1, 2, 3, 4, 5, 6, 7, 8, 9, 10]\n",
      "[6, 7, 8, 9, 10]\n"
     ]
    }
   ],
   "source": [
    "L1 = list(range(1,6))\n",
    "L2 = list(range(6,11))\n",
    "print(L1)\n",
    "print(L2)\n",
    "L1.extend(L2)\n",
    "print(L1)\n",
    "print(L2)"
   ]
  },
  {
   "cell_type": "code",
   "execution_count": 59,
   "id": "5d7063a4",
   "metadata": {},
   "outputs": [
    {
     "name": "stdout",
     "output_type": "stream",
     "text": [
      "1\n",
      "19\n"
     ]
    }
   ],
   "source": [
    "L = list(range(1,20))\n",
    "print(min(L))\n",
    "print(max(L))"
   ]
  },
  {
   "cell_type": "code",
   "execution_count": 63,
   "id": "ec163f10",
   "metadata": {},
   "outputs": [
    {
     "name": "stdout",
     "output_type": "stream",
     "text": [
      "[10, 20, 30]\n",
      "10 20 30\n"
     ]
    }
   ],
   "source": [
    "a = 10\n",
    "b = 20\n",
    "c = 30\n",
    "\n",
    "L = [a,b,c]\n",
    "print(L)\n",
    "\n",
    "x,y,z = L\n",
    "print(x,y,z)"
   ]
  },
  {
   "cell_type": "code",
   "execution_count": 67,
   "id": "431287ad",
   "metadata": {},
   "outputs": [
    {
     "name": "stdout",
     "output_type": "stream",
     "text": [
      "[0, 1, 2, 3, 4, 5, 6, 7, 8, 9]\n",
      "[0, 1, 2, 3, 4, 5, 6, 7, 8, 9]\n"
     ]
    }
   ],
   "source": [
    "L = list(range(10))\n",
    "SL = L.copy()\n",
    "print(L)\n",
    "print(SL)"
   ]
  },
  {
   "cell_type": "code",
   "execution_count": 69,
   "id": "3d091dbc",
   "metadata": {},
   "outputs": [
    {
     "name": "stdout",
     "output_type": "stream",
     "text": [
      "id of L1 : 140266097758144\n",
      "id of L2 : 140266097798336\n",
      "id of 2nd element L1 :  140266097797760\n",
      "id of 2nd element L2 :  140266097797760\n"
     ]
    }
   ],
   "source": [
    "L1 = [11,22,[33,44],55]\n",
    "L2 = L1.copy()\n",
    "print(\"id of L1 :\",id(L1))                          #shallow copy\n",
    "print(\"id of L2 :\",id(L2))\n",
    "\n",
    "print(\"id of 2nd element L1 : \",id(L1[2]))\n",
    "print(\"id of 2nd element L2 : \",id(L2[2]))"
   ]
  },
  {
   "cell_type": "code",
   "execution_count": 70,
   "id": "16779055",
   "metadata": {},
   "outputs": [
    {
     "name": "stdout",
     "output_type": "stream",
     "text": [
      "id of L1 : 140266590389376\n",
      "id of L2 : 140266097674624\n",
      "id of 2nd element L1 :  140266097743232\n",
      "id of 2nd element L2 :  140266097757952\n"
     ]
    }
   ],
   "source": [
    "import copy\n",
    "L1 = [11,22,[33,44],55]\n",
    "L2 = copy.deepcopy(L1)                               #deep copy\n",
    "print(\"id of L1 :\",id(L1))\n",
    "print(\"id of L2 :\",id(L2))\n",
    "\n",
    "print(\"id of 2nd element L1 : \",id(L1[2]))\n",
    "print(\"id of 2nd element L2 : \",id(L2[2]))"
   ]
  },
  {
   "cell_type": "code",
   "execution_count": 79,
   "id": "66b06c64",
   "metadata": {},
   "outputs": [
    {
     "name": "stdout",
     "output_type": "stream",
     "text": [
      "[[[1, 5, 10], [1, 5, 11], [1, 5, 12], [1, 5, 13], [1, 5, 14], [1, 6, 10], [1, 6, 11], [1, 6, 12], [1, 6, 13], [1, 6, 14], [1, 7, 10], [1, 7, 11], [1, 7, 12], [1, 7, 13], [1, 7, 14], [1, 8, 10], [1, 8, 11], [1, 8, 12], [1, 8, 13], [1, 8, 14], [1, 9, 10], [1, 9, 11], [1, 9, 12], [1, 9, 13], [1, 9, 14], [2, 5, 10], [2, 5, 11], [2, 5, 12], [2, 5, 13], [2, 5, 14], [2, 6, 10], [2, 6, 11], [2, 6, 12], [2, 6, 13], [2, 6, 14], [2, 7, 10], [2, 7, 11], [2, 7, 12], [2, 7, 13], [2, 7, 14], [2, 8, 10], [2, 8, 11], [2, 8, 12], [2, 8, 13], [2, 8, 14], [2, 9, 10], [2, 9, 11], [2, 9, 12], [2, 9, 13], [2, 9, 14], [3, 5, 10], [3, 5, 11], [3, 5, 12], [3, 5, 13], [3, 5, 14], [3, 6, 10], [3, 6, 11], [3, 6, 12], [3, 6, 13], [3, 6, 14], [3, 7, 10], [3, 7, 11], [3, 7, 12], [3, 7, 13], [3, 7, 14], [3, 8, 10], [3, 8, 11], [3, 8, 12], [3, 8, 13], [3, 8, 14], [3, 9, 10], [3, 9, 11], [3, 9, 12], [3, 9, 13], [3, 9, 14], [4, 5, 10], [4, 5, 11], [4, 5, 12], [4, 5, 13], [4, 5, 14], [4, 6, 10], [4, 6, 11], [4, 6, 12], [4, 6, 13], [4, 6, 14], [4, 7, 10], [4, 7, 11], [4, 7, 12], [4, 7, 13], [4, 7, 14], [4, 8, 10], [4, 8, 11], [4, 8, 12], [4, 8, 13], [4, 8, 14], [4, 9, 10], [4, 9, 11], [4, 9, 12], [4, 9, 13], [4, 9, 14]]]\n"
     ]
    }
   ],
   "source": [
    "L = [[[i,j,k] for i in range(1,5) for j in range(5,10) for k in range(10,15)]]\n",
    "print(L)"
   ]
  },
  {
   "cell_type": "code",
   "execution_count": 81,
   "id": "91c484d5",
   "metadata": {},
   "outputs": [
    {
     "name": "stdout",
     "output_type": "stream",
     "text": [
      "[1, 2, 3, 4, 5, 6, 7, 8, 9]\n"
     ]
    }
   ],
   "source": [
    "L = [[1,2,3],[4,5,6],[7,8,9]]\n",
    "SL = [j for i in L for j in i]\n",
    "print(SL)"
   ]
  },
  {
   "cell_type": "code",
   "execution_count": 83,
   "id": "73b0fb43",
   "metadata": {},
   "outputs": [
    {
     "name": "stdout",
     "output_type": "stream",
     "text": [
      "[['a', 1], ['a', 2], ['a', 3], ['b', 1], ['b', 2], ['b', 3]]\n"
     ]
    }
   ],
   "source": [
    "L1 = ['a','b']\n",
    "L2 = [1,2,3]\n",
    "L = [[i,j] for i in L1 for j in L2]\n",
    "print(L)"
   ]
  },
  {
   "cell_type": "code",
   "execution_count": 85,
   "id": "325830f9",
   "metadata": {},
   "outputs": [
    {
     "name": "stdout",
     "output_type": "stream",
     "text": [
      "[1, 2, 3, 1, 2, 3, 1, 2, 3]\n"
     ]
    }
   ],
   "source": [
    "L = [1,2,3]\n",
    "SL = [j for i in L for j in L]\n",
    "print(SL)"
   ]
  },
  {
   "cell_type": "code",
   "execution_count": 86,
   "id": "18e58f19",
   "metadata": {},
   "outputs": [
    {
     "name": "stdout",
     "output_type": "stream",
     "text": [
      "['Hello', 'World', 'Good', 'Morning']\n"
     ]
    }
   ],
   "source": [
    "s = \"Hello World Good Morning\"\n",
    "L = s.split()\n"
   ]
  },
  {
   "cell_type": "code",
   "execution_count": 88,
   "id": "e5656463",
   "metadata": {},
   "outputs": [
    {
     "name": "stdout",
     "output_type": "stream",
     "text": [
      "(11, 22, 33, 'Ganesh', True, None)\n",
      "<class 'tuple'>\n",
      "140266091224320\n"
     ]
    }
   ],
   "source": [
    "T = (11,22,33,\"Ganesh\",True,None)\n",
    "print(T)\n",
    "print(type(T))\n",
    "print(id(T))"
   ]
  },
  {
   "cell_type": "code",
   "execution_count": 90,
   "id": "d91ccc0d",
   "metadata": {},
   "outputs": [
    {
     "name": "stdout",
     "output_type": "stream",
     "text": [
      "(11, 222, 33)\n"
     ]
    },
    {
     "data": {
      "text/plain": [
       "tuple"
      ]
     },
     "execution_count": 90,
     "metadata": {},
     "output_type": "execute_result"
    }
   ],
   "source": [
    "T = 11,222,33\n",
    "print(T)\n",
    "type(T)"
   ]
  },
  {
   "cell_type": "code",
   "execution_count": 91,
   "id": "8abde816",
   "metadata": {},
   "outputs": [
    {
     "name": "stdout",
     "output_type": "stream",
     "text": [
      "11\n",
      "<class 'int'>\n"
     ]
    }
   ],
   "source": [
    "T = (11)\n",
    "print(T)\n",
    "print(type(T))"
   ]
  },
  {
   "cell_type": "code",
   "execution_count": 93,
   "id": "1bcddee6",
   "metadata": {},
   "outputs": [
    {
     "name": "stdout",
     "output_type": "stream",
     "text": [
      "(11,)\n",
      "<class 'tuple'>\n"
     ]
    }
   ],
   "source": [
    "T = (11,)\n",
    "print(T)\n",
    "print(type(T))"
   ]
  },
  {
   "cell_type": "code",
   "execution_count": 94,
   "id": "5ab0fdc9",
   "metadata": {},
   "outputs": [
    {
     "name": "stdout",
     "output_type": "stream",
     "text": [
      "Hello\n",
      "None\n"
     ]
    }
   ],
   "source": [
    "print(print(\"Hello\"))"
   ]
  },
  {
   "cell_type": "code",
   "execution_count": 96,
   "id": "71eb2a8a",
   "metadata": {},
   "outputs": [
    {
     "name": "stdout",
     "output_type": "stream",
     "text": [
      "(11,)\n",
      "<class 'tuple'>\n"
     ]
    }
   ],
   "source": [
    "T = 11,\n",
    "print(T)\n",
    "print(type(T))"
   ]
  },
  {
   "cell_type": "code",
   "execution_count": 1,
   "id": "3daeabd6",
   "metadata": {},
   "outputs": [
    {
     "name": "stdout",
     "output_type": "stream",
     "text": [
      "(1, 2, 3, 4, 5, 6, 7, 8, 9, 10)\n",
      "1 2 3 4 5 6 7 8 9 10 \n",
      "1 2 3 4 5 6 7 8 9 10 \n",
      "1 2 3 4 5 6 7 8 9 10 "
     ]
    }
   ],
   "source": [
    "T = tuple(range(1,11))\n",
    "print(T)\n",
    "\n",
    "for i in range(10):\n",
    "    print(T[i],end=\" \")\n",
    "    \n",
    "print()\n",
    "\n",
    "for i in T:\n",
    "    print(i,end=\" \")\n",
    "    \n",
    "print()\n",
    "i = 0\n",
    "while i < len(T):\n",
    "    print(T[i],end=\" \")\n",
    "    i = i + 1"
   ]
  },
  {
   "cell_type": "code",
   "execution_count": 12,
   "id": "e17b2966",
   "metadata": {},
   "outputs": [
    {
     "name": "stdout",
     "output_type": "stream",
     "text": [
      "(1, 2, 3, 4, 5, 6, 7, 8, 9, 10)\n",
      "(1, 2, 3, 4, 5, 6, 7, 8, 9, 10)\n",
      "(10, 9, 8, 7, 6, 5, 4, 3, 2, 1)\n",
      "(4, 5)\n",
      "()\n",
      "(5, 6)\n",
      "2\n"
     ]
    }
   ],
   "source": [
    "T = tuple(range(1,11))\n",
    "print(T)\n",
    "\n",
    "print(T[::])\n",
    "print(T[::-1])\n",
    "print(T[3:5:])\n",
    "print(T[3:5:-1])\n",
    "print(T[4:6:])\n",
    "print(T[1])"
   ]
  },
  {
   "cell_type": "code",
   "execution_count": 19,
   "id": "a0c55235",
   "metadata": {},
   "outputs": [
    {
     "name": "stdout",
     "output_type": "stream",
     "text": [
      "(1, 2, 3, 4, 5) (6, 7, 8, 9, 10)\n",
      "(1, 2, 3, 4, 5, 6, 7, 8, 9, 10)\n",
      "(1, 2, 3, 4, 5, 1, 2, 3, 4, 5, 1, 2, 3, 4, 5, 1, 2, 3, 4, 5)\n",
      "(1, 2, 3, 4, 5, 1, 2, 3, 4, 5, 6, 7, 8, 9, 10, 6, 7, 8, 9, 10, 6, 7, 8, 9, 10)\n"
     ]
    }
   ],
   "source": [
    "T1 = tuple(range(1,6))\n",
    "T2 = tuple(range(6,11))\n",
    "print(T1,T2)\n",
    "print(T1+T2)\n",
    "print(T1*4)\n",
    "print(T1*2+3*T2)"
   ]
  },
  {
   "cell_type": "code",
   "execution_count": 26,
   "id": "bf7d1181",
   "metadata": {},
   "outputs": [
    {
     "name": "stdout",
     "output_type": "stream",
     "text": [
      "(11, 22, 33, 44)\n",
      "(1, 2, 3)\n",
      "(1, 2, 3)\n",
      "('aa', 'bb', 'cc')\n",
      "(1, 2, 3, 4)\n"
     ]
    }
   ],
   "source": [
    "L = [11,22,33,44]\n",
    "D = {1:\"aa\",2:\"bb\",3:\"cc\"}\n",
    "S = {1,2,3,4}\n",
    "\n",
    "T = tuple(L)\n",
    "print(T)\n",
    "\n",
    "T = tuple(D)\n",
    "print(T)\n",
    "\n",
    "T = tuple(D.keys())\n",
    "print(T)\n",
    "\n",
    "T = tuple(D.values())\n",
    "print(T)\n",
    "\n",
    "T = tuple(S)\n",
    "print(T)"
   ]
  },
  {
   "cell_type": "code",
   "execution_count": 29,
   "id": "32c414a6",
   "metadata": {},
   "outputs": [
    {
     "name": "stdout",
     "output_type": "stream",
     "text": [
      "(0, 1, 2, 3, 4, 5, 6, 7, 8, 9, 10, 11, 12, 13, 14, 15, 16, 17, 18, 19, 20, 21, 22, 23, 24, 25, 26, 27, 28, 29, 30, 31, 32, 33, 34, 35, 36, 37, 38, 39, 40, 41, 42, 43, 44, 45, 46, 47, 48, 49, 50, 51, 52, 53, 54, 55, 56, 57, 58, 59, 60, 61, 62, 63, 64, 65, 66, 67, 68, 69, 70, 71, 72, 73, 74, 75, 76, 77, 78, 79, 80, 81, 82, 83, 84, 85, 86, 87, 88, 89, 90, 91, 92, 93, 94, 95, 96, 97, 98, 99)\n",
      "100\n"
     ]
    }
   ],
   "source": [
    "T = tuple(range(100))\n",
    "print(T)\n",
    "print(len(T))"
   ]
  },
  {
   "cell_type": "code",
   "execution_count": 32,
   "id": "4df38e65",
   "metadata": {},
   "outputs": [
    {
     "name": "stdout",
     "output_type": "stream",
     "text": [
      "3\n",
      "2\n"
     ]
    }
   ],
   "source": [
    "T = 11,11,22,11,223,43,22\n",
    "print(T.count(11))\n",
    "print(T.count(22))"
   ]
  },
  {
   "cell_type": "code",
   "execution_count": 34,
   "id": "52122e86",
   "metadata": {},
   "outputs": [
    {
     "name": "stdout",
     "output_type": "stream",
     "text": [
      "Help on method_descriptor:\n",
      "\n",
      "count(self, value, /)\n",
      "    Return number of occurrences of value.\n",
      "\n"
     ]
    }
   ],
   "source": [
    "help(tuple.count)"
   ]
  },
  {
   "cell_type": "code",
   "execution_count": 37,
   "id": "4fbeeb71",
   "metadata": {},
   "outputs": [
    {
     "name": "stdout",
     "output_type": "stream",
     "text": [
      "4\n"
     ]
    }
   ],
   "source": [
    "T = 121,11,22,11,223,43,22\n",
    "print(T.index(223))"
   ]
  },
  {
   "cell_type": "code",
   "execution_count": 38,
   "id": "185e7521",
   "metadata": {},
   "outputs": [
    {
     "name": "stdout",
     "output_type": "stream",
     "text": [
      "Help on method_descriptor:\n",
      "\n",
      "index(self, value, start=0, stop=9223372036854775807, /)\n",
      "    Return first index of value.\n",
      "    \n",
      "    Raises ValueError if the value is not present.\n",
      "\n"
     ]
    }
   ],
   "source": [
    "help(tuple.index)"
   ]
  },
  {
   "cell_type": "code",
   "execution_count": 48,
   "id": "9428ba29",
   "metadata": {},
   "outputs": [
    {
     "name": "stdout",
     "output_type": "stream",
     "text": [
      "3\n"
     ]
    }
   ],
   "source": [
    "T = 11,11,22,11,223,43,22\n",
    "print(T.index(11,-5))"
   ]
  },
  {
   "cell_type": "code",
   "execution_count": 50,
   "id": "b0adb170",
   "metadata": {},
   "outputs": [
    {
     "name": "stdout",
     "output_type": "stream",
     "text": [
      "Help on built-in function sorted in module builtins:\n",
      "\n",
      "sorted(iterable, /, *, key=None, reverse=False)\n",
      "    Return a new list containing all items from the iterable in ascending order.\n",
      "    \n",
      "    A custom key function can be supplied to customize the sort order, and the\n",
      "    reverse flag can be set to request the result in descending order.\n",
      "\n"
     ]
    }
   ],
   "source": [
    "help(sorted)"
   ]
  },
  {
   "cell_type": "code",
   "execution_count": 54,
   "id": "d6b7aa83",
   "metadata": {},
   "outputs": [
    {
     "name": "stdout",
     "output_type": "stream",
     "text": [
      "(11, 11, 22, 11, 223, 43, 22)\n",
      "[11, 11, 11, 22, 22, 43, 223]\n"
     ]
    }
   ],
   "source": [
    "T = 11,11,22,11,223,43,22\n",
    "ST = sorted(T)\n",
    "print(T)\n",
    "print(ST)"
   ]
  },
  {
   "cell_type": "code",
   "execution_count": 60,
   "id": "e6e229e8",
   "metadata": {},
   "outputs": [
    {
     "name": "stdout",
     "output_type": "stream",
     "text": [
      "['bb', 'cc', 'zz']\n"
     ]
    }
   ],
   "source": [
    "D = {1:\"zz\",2:\"bb\",3:\"cc\"}\n",
    "SD = sorted(D.values())\n",
    "print(SD)"
   ]
  },
  {
   "cell_type": "code",
   "execution_count": 78,
   "id": "a7dd06a2",
   "metadata": {},
   "outputs": [
    {
     "name": "stdout",
     "output_type": "stream",
     "text": [
      "(12, 5, 32, 9, 32, 45)\n",
      "[5, 9, 12, 32, 32, 45]\n",
      "[45, 32, 32, 12, 9, 5]\n",
      "['Delhi', 'Jalgaon', 'Mumbai', 'Pune']\n",
      "['Delhi', 'Jalgaon', 'Mumbai', 'Pune']\n",
      "['Pune', 'Mumbai', 'Jalgaon', 'Delhi']\n",
      "['Delhi', 'Jalgaon', 'Pune', 'Mumbai']\n"
     ]
    }
   ],
   "source": [
    "T = 12,5,32,9,32,45\n",
    "print(T)\n",
    "print(sorted(T))\n",
    "print(sorted(T,reverse=True))\n",
    "\n",
    "T = \"Pune\",\"Mumbai\",\"Jalgaon\",\"Delhi\"\n",
    "print(sorted(T))\n",
    "print(sorted(T,key=min))\n",
    "print(sorted(T,reverse=True))\n",
    "print(sorted(T,key=max))"
   ]
  },
  {
   "cell_type": "code",
   "execution_count": 81,
   "id": "8009f50a",
   "metadata": {},
   "outputs": [
    {
     "name": "stdout",
     "output_type": "stream",
     "text": [
      "<generator object <genexpr> at 0x7fa1405d20b0>\n",
      "0 1 4 9 16 25 36 49 64 81 "
     ]
    }
   ],
   "source": [
    "T = (i*i for i in range(10))\n",
    "print(T)\n",
    "for i in T:\n",
    "    print(i,end=\" \")"
   ]
  },
  {
   "cell_type": "code",
   "execution_count": 84,
   "id": "46138757",
   "metadata": {},
   "outputs": [
    {
     "name": "stdout",
     "output_type": "stream",
     "text": [
      "<zip object at 0x7fa1407a1ec0>\n",
      "((101, 'AAA', 75.57), (102, 'BBB', 45.54), (103, 'CCC', 34))\n"
     ]
    }
   ],
   "source": [
    "rno = 101,102,103\n",
    "name = \"AAA\",\"BBB\",\"CCC\"\n",
    "per = 75.57,45.54,34\n",
    "\n",
    "T = zip(rno,name,per)\n",
    "print(T)\n",
    "print(tuple(T))"
   ]
  },
  {
   "cell_type": "code",
   "execution_count": 4,
   "id": "92a295e5",
   "metadata": {},
   "outputs": [
    {
     "name": "stdout",
     "output_type": "stream",
     "text": [
      "140707932380608\n",
      "9793408\n",
      "9793760\n",
      "9794112\n"
     ]
    }
   ],
   "source": [
    "T = 11,22,33\n",
    "print(id(T))\n",
    "for i in T:\n",
    "    print(id(i))"
   ]
  },
  {
   "cell_type": "code",
   "execution_count": null,
   "id": "e6a92296",
   "metadata": {},
   "outputs": [],
   "source": []
  },
  {
   "cell_type": "code",
   "execution_count": 17,
   "id": "8eb44d34",
   "metadata": {},
   "outputs": [
    {
     "name": "stdout",
     "output_type": "stream",
     "text": [
      "{False, None, True, 'Ganesh', 11, 22.34}\n",
      "<class 'set'>\n",
      "140707895453056\n"
     ]
    }
   ],
   "source": [
    "S = {11,22.34,\"Ganesh\",None,True,False}\n",
    "print(S)\n",
    "print(type(S))\n",
    "print(id(S))"
   ]
  },
  {
   "cell_type": "code",
   "execution_count": 13,
   "id": "c8cb33be",
   "metadata": {},
   "outputs": [
    {
     "name": "stdout",
     "output_type": "stream",
     "text": [
      "{33, 11, 44, 22}\n",
      "33 11 44 22 \n"
     ]
    },
    {
     "data": {
      "text/plain": [
       "'\\nfor i in range(len(S)):\\n    print(S[i],end=\" \")\\n    '"
      ]
     },
     "execution_count": 13,
     "metadata": {},
     "output_type": "execute_result"
    }
   ],
   "source": [
    "S = {11,22,11,33,44,22}\n",
    "print(S)\n",
    "\n",
    "for i in S:\n",
    "    print(i,end=\" \")\n",
    "\n",
    "print()\n",
    "\n",
    "for i in range(len(S)):\n",
    "    print(S[i],end=\" \")\n"
   ]
  },
  {
   "cell_type": "code",
   "execution_count": 19,
   "id": "3423d9a0",
   "metadata": {},
   "outputs": [
    {
     "name": "stdout",
     "output_type": "stream",
     "text": [
      "{False, None, True, 'Ganesh', 11, 22.34}\n",
      "<class 'set'>\n",
      "140707895455520\n"
     ]
    },
    {
     "ename": "TypeError",
     "evalue": "'set' object is not subscriptable",
     "output_type": "error",
     "traceback": [
      "\u001b[0;31m---------------------------------------------------------------------------\u001b[0m",
      "\u001b[0;31mTypeError\u001b[0m                                 Traceback (most recent call last)",
      "Cell \u001b[0;32mIn[19], line 5\u001b[0m\n\u001b[1;32m      3\u001b[0m \u001b[38;5;28mprint\u001b[39m(\u001b[38;5;28mtype\u001b[39m(S))\n\u001b[1;32m      4\u001b[0m \u001b[38;5;28mprint\u001b[39m(\u001b[38;5;28mid\u001b[39m(S))\n\u001b[0;32m----> 5\u001b[0m \u001b[38;5;28mprint\u001b[39m(\u001b[43mS\u001b[49m\u001b[43m[\u001b[49m\u001b[43m:\u001b[49m\u001b[43m:\u001b[49m\u001b[43m]\u001b[49m)\n",
      "\u001b[0;31mTypeError\u001b[0m: 'set' object is not subscriptable"
     ]
    }
   ],
   "source": [
    "S = {11,22.34,\"Ganesh\",None,True,False}\n",
    "print(S)\n",
    "print(type(S))\n",
    "print(id(S))\n",
    "print(S[::])"
   ]
  },
  {
   "cell_type": "code",
   "execution_count": 20,
   "id": "4e860ee1",
   "metadata": {},
   "outputs": [
    {
     "name": "stdout",
     "output_type": "stream",
     "text": [
      "{False, None, True, 'Ganesh', 11, 22.34}\n",
      "<class 'set'>\n",
      "140707895455072\n"
     ]
    },
    {
     "ename": "TypeError",
     "evalue": "'set' object is not subscriptable",
     "output_type": "error",
     "traceback": [
      "\u001b[0;31m---------------------------------------------------------------------------\u001b[0m",
      "\u001b[0;31mTypeError\u001b[0m                                 Traceback (most recent call last)",
      "Cell \u001b[0;32mIn[20], line 5\u001b[0m\n\u001b[1;32m      3\u001b[0m \u001b[38;5;28mprint\u001b[39m(\u001b[38;5;28mtype\u001b[39m(S))\n\u001b[1;32m      4\u001b[0m \u001b[38;5;28mprint\u001b[39m(\u001b[38;5;28mid\u001b[39m(S))\n\u001b[0;32m----> 5\u001b[0m \u001b[38;5;28mprint\u001b[39m(\u001b[43mS\u001b[49m\u001b[43m[\u001b[49m\u001b[38;5;241;43m3\u001b[39;49m\u001b[43m]\u001b[49m)\n",
      "\u001b[0;31mTypeError\u001b[0m: 'set' object is not subscriptable"
     ]
    }
   ],
   "source": [
    "S = {11,22.34,\"Ganesh\",None,True,False}\n",
    "print(S)\n",
    "print(type(S))\n",
    "print(id(S))\n",
    "print(S[3])"
   ]
  },
  {
   "cell_type": "code",
   "execution_count": 24,
   "id": "8af52cc2",
   "metadata": {},
   "outputs": [
    {
     "name": "stdout",
     "output_type": "stream",
     "text": [
      "{33, 11, 44, 22}\n",
      "{1, 2, 3}\n",
      "{'aa', 'bb', 'cc'}\n",
      "{1, 2, 3, 4}\n"
     ]
    }
   ],
   "source": [
    "L = [11,22,33,44]\n",
    "D = {1:\"aa\",2:\"bb\",3:\"cc\"}\n",
    "T = 1,2,3,4\n",
    "\n",
    "print(set(L))\n",
    "print(set(D))\n",
    "print(set(D.values()))\n",
    "print(set(T))"
   ]
  },
  {
   "cell_type": "code",
   "execution_count": 25,
   "id": "506778e0",
   "metadata": {},
   "outputs": [
    {
     "name": "stdout",
     "output_type": "stream",
     "text": [
      "<class 'dict'>\n"
     ]
    }
   ],
   "source": [
    "D = {}\n",
    "print(type(D))"
   ]
  },
  {
   "cell_type": "code",
   "execution_count": 26,
   "id": "41d1119e",
   "metadata": {},
   "outputs": [
    {
     "name": "stdout",
     "output_type": "stream",
     "text": [
      "<class 'set'>\n"
     ]
    }
   ],
   "source": [
    "D = set()\n",
    "print(type(D))"
   ]
  },
  {
   "cell_type": "code",
   "execution_count": 30,
   "id": "436aa262",
   "metadata": {},
   "outputs": [
    {
     "name": "stdout",
     "output_type": "stream",
     "text": [
      "{False, None, True, 'Ganesh', 11, 22.34}\n",
      "{False, None, True, 34, 'Ganesh', 11, 22.34}\n",
      "None\n"
     ]
    }
   ],
   "source": [
    "S = {11,22.34,\"Ganesh\",None,True,False}\n",
    "print(S)\n",
    "\n",
    "S.add(34)\n",
    "print(S)"
   ]
  },
  {
   "cell_type": "code",
   "execution_count": 32,
   "id": "d84a7e14",
   "metadata": {},
   "outputs": [
    {
     "name": "stdout",
     "output_type": "stream",
     "text": [
      "False :  0\n",
      "None :  593057\n",
      "True :  1\n",
      "Ganesh :  125889174751799338\n",
      "11 :  11\n",
      "22.34 :  783986623132655638\n"
     ]
    }
   ],
   "source": [
    "S = {11,22.34,\"Ganesh\",None,True,False}\n",
    "\n",
    "for i in S:\n",
    "    print(i ,\": \",hash(i))"
   ]
  },
  {
   "cell_type": "code",
   "execution_count": 37,
   "id": "138a5788",
   "metadata": {},
   "outputs": [
    {
     "name": "stdout",
     "output_type": "stream",
     "text": [
      "0\n",
      "1\n"
     ]
    }
   ],
   "source": [
    "print(hash(False))\n",
    "print(hash(True))"
   ]
  },
  {
   "cell_type": "code",
   "execution_count": 38,
   "id": "ab29f1db",
   "metadata": {},
   "outputs": [
    {
     "name": "stdout",
     "output_type": "stream",
     "text": [
      "Help on method_descriptor:\n",
      "\n",
      "add(...)\n",
      "    Add an element to a set.\n",
      "    \n",
      "    This has no effect if the element is already present.\n",
      "\n"
     ]
    }
   ],
   "source": [
    "help(set.add)"
   ]
  },
  {
   "cell_type": "code",
   "execution_count": 39,
   "id": "b73714e6",
   "metadata": {},
   "outputs": [
    {
     "name": "stdout",
     "output_type": "stream",
     "text": [
      "{33, 11, 22}\n",
      "{33, 11, 100, 22}\n",
      "{33, 11, 100, 22}\n"
     ]
    }
   ],
   "source": [
    "S = {11,22,33}\n",
    "print(S)\n",
    "S.add(100)\n",
    "print(S)\n",
    "S.add(33)\n",
    "print(S)"
   ]
  },
  {
   "cell_type": "code",
   "execution_count": 47,
   "id": "d6b9332b",
   "metadata": {},
   "outputs": [
    {
     "name": "stdout",
     "output_type": "stream",
     "text": [
      "Enter total elements : 3\n",
      "Enter element : 3\n",
      "Enter element : 4\n",
      "Enter element : 5\n",
      "{'4', '5', '3'}\n"
     ]
    }
   ],
   "source": [
    "S = set()\n",
    "n = int(input(prompt = \"Enter total elements : \"))\n",
    "\n",
    "for i in range(n):\n",
    "    S.add(input(\"Enter element : \"))\n",
    "print(S)\n"
   ]
  },
  {
   "cell_type": "code",
   "execution_count": 40,
   "id": "771c0346",
   "metadata": {},
   "outputs": [
    {
     "name": "stdout",
     "output_type": "stream",
     "text": [
      "Help on method raw_input in module ipykernel.kernelbase:\n",
      "\n",
      "raw_input(prompt='') method of ipykernel.ipkernel.IPythonKernel instance\n",
      "    Forward raw_input to frontends\n",
      "    \n",
      "    Raises\n",
      "    ------\n",
      "    StdinNotImplementedError if active frontend doesn't support stdin.\n",
      "\n"
     ]
    }
   ],
   "source": [
    "help(input)"
   ]
  },
  {
   "cell_type": "code",
   "execution_count": 50,
   "id": "519f200e",
   "metadata": {},
   "outputs": [
    {
     "name": "stdout",
     "output_type": "stream",
     "text": [
      "{1, 2, 3, 4, 'bb', 11, 22, 33, 'aa', 44, 'cc'}\n"
     ]
    }
   ],
   "source": [
    "L = [11,22,33,44]\n",
    "D = {1:\"aa\",2:\"bb\",3:\"cc\"}\n",
    "T = 1,2,3,4\n",
    "\n",
    "S = set()\n",
    "S.update(L,D,D.values(),T)\n",
    "print(S)"
   ]
  },
  {
   "cell_type": "code",
   "execution_count": 53,
   "id": "ff273cac",
   "metadata": {},
   "outputs": [
    {
     "ename": "TypeError",
     "evalue": "unhashable type: 'list'",
     "output_type": "error",
     "traceback": [
      "\u001b[0;31m---------------------------------------------------------------------------\u001b[0m",
      "\u001b[0;31mTypeError\u001b[0m                                 Traceback (most recent call last)",
      "Cell \u001b[0;32mIn[53], line 1\u001b[0m\n\u001b[0;32m----> 1\u001b[0m S \u001b[38;5;241m=\u001b[39m {\u001b[38;5;241m1\u001b[39m,\u001b[38;5;241m2\u001b[39m,[\u001b[38;5;241m1\u001b[39m,\u001b[38;5;241m2\u001b[39m]}\n\u001b[1;32m      2\u001b[0m \u001b[38;5;28mprint\u001b[39m(S)\n",
      "\u001b[0;31mTypeError\u001b[0m: unhashable type: 'list'"
     ]
    }
   ],
   "source": [
    "S = {1,2,[1,2]}\n",
    "print(S)"
   ]
  },
  {
   "cell_type": "code",
   "execution_count": 52,
   "id": "4faab56e",
   "metadata": {},
   "outputs": [],
   "source": [
    "S = {1,2,(11,22)}\n",
    "print(S)"
   ]
  },
  {
   "cell_type": "code",
   "execution_count": 54,
   "id": "7618343d",
   "metadata": {},
   "outputs": [
    {
     "ename": "TypeError",
     "evalue": "unhashable type: 'list'",
     "output_type": "error",
     "traceback": [
      "\u001b[0;31m---------------------------------------------------------------------------\u001b[0m",
      "\u001b[0;31mTypeError\u001b[0m                                 Traceback (most recent call last)",
      "Cell \u001b[0;32mIn[54], line 1\u001b[0m\n\u001b[0;32m----> 1\u001b[0m S \u001b[38;5;241m=\u001b[39m {\u001b[38;5;241m11\u001b[39m,\u001b[38;5;241m22\u001b[39m,(\u001b[38;5;241m33\u001b[39m,[\u001b[38;5;241m44\u001b[39m,\u001b[38;5;241m55\u001b[39m])}\n\u001b[1;32m      2\u001b[0m \u001b[38;5;28mprint\u001b[39m(S)\n",
      "\u001b[0;31mTypeError\u001b[0m: unhashable type: 'list'"
     ]
    }
   ],
   "source": [
    "S = {11,22,(33,[44,55])}\n",
    "print(S)"
   ]
  },
  {
   "cell_type": "code",
   "execution_count": 57,
   "id": "27863340",
   "metadata": {},
   "outputs": [
    {
     "name": "stdout",
     "output_type": "stream",
     "text": [
      "{33, 11, 22}\n",
      "{33, 11, 22}\n",
      "140707894275200\n",
      "140707894274528\n"
     ]
    }
   ],
   "source": [
    "S = {11,22,33}\n",
    "SS = S.copy()\n",
    "print(S)\n",
    "print(SS)\n",
    "print(id(S))\n",
    "print(id(SS))"
   ]
  },
  {
   "cell_type": "code",
   "execution_count": null,
   "id": "e1b89fe5",
   "metadata": {},
   "outputs": [],
   "source": [
    "#remove \n",
    "#pop \n",
    "#descart"
   ]
  },
  {
   "cell_type": "code",
   "execution_count": 60,
   "id": "2a95f6b6",
   "metadata": {},
   "outputs": [
    {
     "name": "stdout",
     "output_type": "stream",
     "text": [
      "{33, 44, 22, 55}\n"
     ]
    },
    {
     "ename": "KeyError",
     "evalue": "77",
     "output_type": "error",
     "traceback": [
      "\u001b[0;31m---------------------------------------------------------------------------\u001b[0m",
      "\u001b[0;31mKeyError\u001b[0m                                  Traceback (most recent call last)",
      "Cell \u001b[0;32mIn[60], line 4\u001b[0m\n\u001b[1;32m      2\u001b[0m S\u001b[38;5;241m.\u001b[39mremove(\u001b[38;5;241m11\u001b[39m)\n\u001b[1;32m      3\u001b[0m \u001b[38;5;28mprint\u001b[39m(S)\n\u001b[0;32m----> 4\u001b[0m \u001b[43mS\u001b[49m\u001b[38;5;241;43m.\u001b[39;49m\u001b[43mremove\u001b[49m\u001b[43m(\u001b[49m\u001b[38;5;241;43m77\u001b[39;49m\u001b[43m)\u001b[49m\n\u001b[1;32m      5\u001b[0m \u001b[38;5;28mprint\u001b[39m(S)\n",
      "\u001b[0;31mKeyError\u001b[0m: 77"
     ]
    }
   ],
   "source": [
    "S = {11,22,33,44,55}\n",
    "S.remove(11)\n",
    "print(S)\n",
    "S.remove(77)\n",
    "print(S)"
   ]
  },
  {
   "cell_type": "code",
   "execution_count": 62,
   "id": "0e612cd5",
   "metadata": {},
   "outputs": [
    {
     "name": "stdout",
     "output_type": "stream",
     "text": [
      "Help on method_descriptor:\n",
      "\n",
      "remove(...)\n",
      "    Remove an element from a set; it must be a member.\n",
      "    \n",
      "    If the element is not a member, raise a KeyError.\n",
      "\n"
     ]
    }
   ],
   "source": [
    "help(set.remove)"
   ]
  },
  {
   "cell_type": "code",
   "execution_count": 68,
   "id": "d840248f",
   "metadata": {},
   "outputs": [
    {
     "name": "stdout",
     "output_type": "stream",
     "text": [
      "{11, 44, 22, 55}\n",
      "{44, 22, 55}\n"
     ]
    },
    {
     "ename": "KeyError",
     "evalue": "'pop from an empty set'",
     "output_type": "error",
     "traceback": [
      "\u001b[0;31m---------------------------------------------------------------------------\u001b[0m",
      "\u001b[0;31mKeyError\u001b[0m                                  Traceback (most recent call last)",
      "Cell \u001b[0;32mIn[68], line 7\u001b[0m\n\u001b[1;32m      5\u001b[0m \u001b[38;5;28mprint\u001b[39m(S)\n\u001b[1;32m      6\u001b[0m S \u001b[38;5;241m=\u001b[39m \u001b[38;5;28mset\u001b[39m()\n\u001b[0;32m----> 7\u001b[0m \u001b[43mS\u001b[49m\u001b[38;5;241;43m.\u001b[39;49m\u001b[43mpop\u001b[49m\u001b[43m(\u001b[49m\u001b[43m)\u001b[49m\n\u001b[1;32m      8\u001b[0m \u001b[38;5;28mprint\u001b[39m(S)\n",
      "\u001b[0;31mKeyError\u001b[0m: 'pop from an empty set'"
     ]
    }
   ],
   "source": [
    "S = {11,22,33,44,55}\n",
    "S.pop()\n",
    "print(S)\n",
    "S.pop()\n",
    "print(S)\n",
    "S = set()\n",
    "S.pop()\n",
    "print(S)"
   ]
  },
  {
   "cell_type": "code",
   "execution_count": 71,
   "id": "b05387f6",
   "metadata": {},
   "outputs": [
    {
     "name": "stdout",
     "output_type": "stream",
     "text": [
      "set()\n",
      "{11}\n"
     ]
    }
   ],
   "source": [
    "S = {11,22,23}\n",
    "S.clear()\n",
    "print(S)\n",
    "S.add(11)\n",
    "print(S)"
   ]
  },
  {
   "cell_type": "code",
   "execution_count": 74,
   "id": "5de2010d",
   "metadata": {},
   "outputs": [
    {
     "name": "stdout",
     "output_type": "stream",
     "text": [
      "{33, 11, 44, 22}\n",
      "{33, 11, 44}\n",
      "{33, 11, 44}\n"
     ]
    }
   ],
   "source": [
    "S = {11,22,33,44}\n",
    "print(S)\n",
    "S.discard(22)\n",
    "print(S)\n",
    "S.discard(55)\n",
    "print(S)"
   ]
  },
  {
   "cell_type": "code",
   "execution_count": 90,
   "id": "9b34c71f",
   "metadata": {},
   "outputs": [
    {
     "name": "stdout",
     "output_type": "stream",
     "text": [
      "{33, 11, 44, 22} {66, 44, 77, 55}\n",
      "\n",
      "{33, 66, 11, 44, 77, 22, 55}\n",
      "{33, 66, 11, 44, 77, 22, 55}\n",
      "{44}\n",
      "{44}\n",
      "{33, 11, 22}\n",
      "{33, 11, 22}\n",
      "{33, 66, 11, 77, 22, 55}\n",
      "{33, 66, 11, 77, 22, 55}\n"
     ]
    }
   ],
   "source": [
    "S1 = {11,22,33,44}\n",
    "S2 = {44,55,66,77}\n",
    "print(S1,S2)\n",
    "print()\n",
    "\n",
    "print(S1 | S2)\n",
    "print(S1.union(S2))\n",
    "\n",
    "print(S1.intersection(S2))\n",
    "print(S1 & S2)\n",
    "\n",
    "print(S1.difference(S2))\n",
    "print(S1-S2)\n",
    "\n",
    "print(S1.symmetric_difference(S2))\n",
    "print(S1 ^ S2)"
   ]
  },
  {
   "cell_type": "code",
   "execution_count": 99,
   "id": "7be5dc47",
   "metadata": {},
   "outputs": [
    {
     "name": "stdout",
     "output_type": "stream",
     "text": [
      "{0, 2, 4, 6, 8, 10, 12, 14}\n",
      "{0, 8, 4}\n",
      "True\n",
      "False\n"
     ]
    }
   ],
   "source": [
    "S1 = {i for i in range(0,15,2)}\n",
    "print(S1)\n",
    "S2 = {i for i in range(0,10,4)}\n",
    "print(S2)\n",
    "\n",
    "print(S1 >= S2)\n",
    "print(S1 <= S2)"
   ]
  },
  {
   "cell_type": "code",
   "execution_count": 100,
   "id": "3ea13458",
   "metadata": {},
   "outputs": [
    {
     "name": "stdout",
     "output_type": "stream",
     "text": [
      "True\n",
      "False\n",
      "False\n",
      "True\n"
     ]
    }
   ],
   "source": [
    "S = {11,22,33}\n",
    "print(22 in S)\n",
    "print(22 not in S)\n",
    "\n",
    "print(44 in S)\n",
    "print(44 not in S)"
   ]
  },
  {
   "cell_type": "code",
   "execution_count": 103,
   "id": "8074d55c",
   "metadata": {},
   "outputs": [
    {
     "name": "stdout",
     "output_type": "stream",
     "text": [
      "{0, 1, 2, 3, 4, 5, 6, 7, 8, 9}\n",
      "9\n",
      "0\n"
     ]
    }
   ],
   "source": [
    "S = set(range(10))\n",
    "print(S)\n",
    "print(max(S))\n",
    "print(min(S))"
   ]
  },
  {
   "cell_type": "code",
   "execution_count": 107,
   "id": "9a900f70",
   "metadata": {},
   "outputs": [
    {
     "name": "stdout",
     "output_type": "stream",
     "text": [
      "frozenset({33, 11, 22})\n",
      "33 11 22 "
     ]
    }
   ],
   "source": [
    "S = frozenset({11,22,33})\n",
    "print(S)\n",
    "for i in S:\n",
    "    print(i,end=\" \")"
   ]
  },
  {
   "cell_type": "code",
   "execution_count": 115,
   "id": "fc0e6528",
   "metadata": {},
   "outputs": [
    {
     "name": "stdout",
     "output_type": "stream",
     "text": [
      "frozenset({frozenset({frozenset({11, frozenset({1, 2, 3, 4}), 'String'}), 11, 'String'}), 11, 'String'})\n",
      "frozenset({frozenset({11, frozenset({1, 2, 3, 4}), 'String'}), 11, 'String'})\n",
      "11\n",
      "String\n"
     ]
    }
   ],
   "source": [
    "L = 11\n",
    "D = {1:\"aa\",2:\"bb\",3:\"cc\"}\n",
    "T = \"String\"\n",
    "\n",
    "S = frozenset((S,L,T))\n",
    "print(S)\n",
    "\n",
    "for i in S:\n",
    "    print(i)"
   ]
  },
  {
   "cell_type": "code",
   "execution_count": null,
   "id": "5a7fada3",
   "metadata": {},
   "outputs": [],
   "source": []
  },
  {
   "cell_type": "code",
   "execution_count": 116,
   "id": "5e18ab1c",
   "metadata": {},
   "outputs": [
    {
     "name": "stdout",
     "output_type": "stream",
     "text": [
      "{11: 'AAA', 22: 'BBB', 33: 'CCC', 44: 'DDD', 55: 'EEE'}\n",
      "<class 'dict'>\n",
      "140707894786048\n"
     ]
    }
   ],
   "source": [
    "D = {11:\"AAA\",22:\"BBB\",33:\"CCC\",44:\"DDD\",55:\"EEE\"}\n",
    "print(D)\n",
    "print(type(D))\n",
    "print(id(D))"
   ]
  },
  {
   "cell_type": "code",
   "execution_count": 149,
   "id": "84f3b47d",
   "metadata": {},
   "outputs": [
    {
     "name": "stdout",
     "output_type": "stream",
     "text": [
      "{11: 'AAA', 22: 'BBB', 33: 'CCC', 44: 'DDD', 55: 'EEE'}\n",
      "11 22 33 44 55 \n",
      "11 22 33 44 55 \n",
      "AAA BBB CCC DDD EEE \n",
      "\n",
      "11 --> AAA\n",
      "22 --> BBB\n",
      "33 --> CCC\n",
      "44 --> DDD\n",
      "55 --> EEE\n"
     ]
    }
   ],
   "source": [
    "D = {11:\"AAA\",22:\"BBB\",33:\"CCC\",44:\"DDD\",55:\"EEE\"}\n",
    "print(D)\n",
    "\n",
    "for i in D:\n",
    "    print(i,end=\" \")\n",
    "    \n",
    "print()\n",
    "\n",
    "for i in D.keys():\n",
    "    print(i,end=\" \")\n",
    "\n",
    "print()\n",
    "\n",
    "for i in D.values():\n",
    "    print(i,end=\" \")\n",
    "    \n",
    "print(\"\\n\")\n",
    "\n",
    "for i,j in D.items():\n",
    "    print(i,\"-->\",j)"
   ]
  },
  {
   "cell_type": "code",
   "execution_count": 134,
   "id": "611f8ea6",
   "metadata": {},
   "outputs": [
    {
     "name": "stdout",
     "output_type": "stream",
     "text": [
      "{11: 22, 33: 44}\n",
      "{11: 22, 33: 44}\n"
     ]
    }
   ],
   "source": [
    "L = [[11,22],[33,44]]\n",
    "print(dict(L))\n",
    "L = [(11,22),(33,44)]\n",
    "print(dict(L))"
   ]
  },
  {
   "cell_type": "code",
   "execution_count": 137,
   "id": "34c03207",
   "metadata": {},
   "outputs": [
    {
     "name": "stdout",
     "output_type": "stream",
     "text": [
      "{11: 22, 33: 44}\n"
     ]
    }
   ],
   "source": [
    "S = {(11,22),(33,44)}\n",
    "print(dict(S))"
   ]
  },
  {
   "cell_type": "code",
   "execution_count": 139,
   "id": "68f5235f",
   "metadata": {},
   "outputs": [
    {
     "name": "stdout",
     "output_type": "stream",
     "text": [
      "{11: 22, 33: 44}\n",
      "{11: 22, 33: 44}\n"
     ]
    }
   ],
   "source": [
    "T = ((11,22),(33,44))\n",
    "print(dict(T))\n",
    "T = ([11,22],[33,44])\n",
    "print(dict(T))"
   ]
  },
  {
   "cell_type": "code",
   "execution_count": 144,
   "id": "28a83f11",
   "metadata": {},
   "outputs": [
    {
     "name": "stdout",
     "output_type": "stream",
     "text": [
      "{11: 'AAA', 22: 'BBB', 33: 'CCC', 44: 'DDD', 55: 'EEE'}\n",
      "{11: 'AAA', 22: 'BBB', 33: 'CCC', 44: 'DDD', 55: 'EEE', 123: 'ZZZ'}\n",
      "ZZZ\n"
     ]
    }
   ],
   "source": [
    "D = {11:\"AAA\",22:\"BBB\",33:\"CCC\",44:\"DDD\",55:\"EEE\"}\n",
    "print(D)\n",
    "D[123] = \"ZZZ\"\n",
    "print(D)\n",
    "print(D[123])"
   ]
  },
  {
   "cell_type": "code",
   "execution_count": 145,
   "id": "dcc931d4",
   "metadata": {},
   "outputs": [
    {
     "name": "stdout",
     "output_type": "stream",
     "text": [
      "{11: 'AAA', 22: 'BBB', 33: 'CCC', 44: 'DDD', 55: 'EEE'}\n",
      "{11: 'YYY', 22: 'BBB', 33: 'CCC', 44: 'DDD', 55: 'EEE'}\n"
     ]
    }
   ],
   "source": [
    "D = {11:\"AAA\",22:\"BBB\",33:\"CCC\",44:\"DDD\",55:\"EEE\"}\n",
    "print(D)\n",
    "D[11] = \"YYY\"\n",
    "print(D)"
   ]
  },
  {
   "cell_type": "code",
   "execution_count": 147,
   "id": "ed0af746",
   "metadata": {},
   "outputs": [
    {
     "name": "stdout",
     "output_type": "stream",
     "text": [
      "3\n"
     ]
    }
   ],
   "source": [
    "a = 1; b = 2; c = a + b\n",
    "print(c)"
   ]
  },
  {
   "cell_type": "code",
   "execution_count": 161,
   "id": "eedf7da2",
   "metadata": {},
   "outputs": [
    {
     "name": "stdout",
     "output_type": "stream",
     "text": [
      "AAA\n",
      "AAA\n",
      "AAA\n",
      "Not found\n"
     ]
    }
   ],
   "source": [
    "D = {11:\"AAA\",22:\"BBB\",33:\"CCC\",44:\"DDD\",55:\"EEE\"}\n",
    "print(D.get(11))\n",
    "print(D[11])\n",
    "\n",
    "print(D.get(11,\"Not found\"))\n",
    "\n",
    "print(D.get(123,\"Not found\"))"
   ]
  },
  {
   "cell_type": "code",
   "execution_count": 156,
   "id": "476e06f3",
   "metadata": {},
   "outputs": [
    {
     "name": "stdout",
     "output_type": "stream",
     "text": [
      "Help on method_descriptor:\n",
      "\n",
      "get(self, key, default=None, /)\n",
      "    Return the value for key if key is in the dictionary, else default.\n",
      "\n"
     ]
    }
   ],
   "source": [
    "help(dict.get)"
   ]
  },
  {
   "cell_type": "code",
   "execution_count": 165,
   "id": "0a66efbb",
   "metadata": {},
   "outputs": [
    {
     "name": "stdout",
     "output_type": "stream",
     "text": [
      "{11: 'AAA', 22: 'BBB', 33: 'CCC', 44: [1000, 2000], 55: 'EEE'}\n",
      "{11: 'AAA', 22: 'BBB', 33: 'CCC', 44: [1000, 2000], 55: 'EEE'}\n",
      "{11: 'AAA', 22: 'BBB', 33: 'CCC', 44: [3000, 2000], 55: 'EEE'}\n",
      "{11: 'AAA', 22: 'BBB', 33: 'CCC', 44: [3000, 2000], 55: 'EEE'}\n"
     ]
    }
   ],
   "source": [
    "D = {11:\"AAA\",22:\"BBB\",33:\"CCC\",44:[1000,2000],55:\"EEE\"}\n",
    "SD = D.copy()\n",
    "print(D)\n",
    "print(SD)\n",
    "\n",
    "D[44][0] = 3000\n",
    "\n",
    "print(D)\n",
    "print(SD)"
   ]
  },
  {
   "cell_type": "code",
   "execution_count": null,
   "id": "27f4b086",
   "metadata": {},
   "outputs": [],
   "source": [
    "del\n",
    "pop\n",
    "popitems"
   ]
  },
  {
   "cell_type": "code",
   "execution_count": 173,
   "id": "40027ecf",
   "metadata": {},
   "outputs": [
    {
     "name": "stdout",
     "output_type": "stream",
     "text": [
      "{11: 'AAA', 22: 'BBB', 33: 'CCC', 44: [1000, 2000], 55: 'EEE'}\n",
      "{22: 'BBB', 33: 'CCC', 44: [1000, 2000], 55: 'EEE'}\n",
      "BBB\n",
      "{33: 'CCC', 44: [1000, 2000], 55: 'EEE'}\n",
      "(55, 'EEE')\n",
      "{33: 'CCC', 44: [1000, 2000]}\n",
      "{}\n"
     ]
    }
   ],
   "source": [
    "D = {11:\"AAA\",22:\"BBB\",33:\"CCC\",44:[1000,2000],55:\"EEE\"}\n",
    "print(D)\n",
    "\n",
    "del D[11]\n",
    "print(D)\n",
    "\n",
    "print(D.pop(22))\n",
    "print(D)\n",
    "\n",
    "print(D.popitem())\n",
    "print(D)\n",
    "\n",
    "D.clear()\n",
    "print(D)"
   ]
  },
  {
   "cell_type": "code",
   "execution_count": 174,
   "id": "cbe1a27e",
   "metadata": {},
   "outputs": [
    {
     "name": "stdout",
     "output_type": "stream",
     "text": [
      "5\n"
     ]
    }
   ],
   "source": [
    "D = {11:\"AAA\",22:\"BBB\",33:\"CCC\",44:[1000,2000],55:\"EEE\"}\n",
    "print(len(D))"
   ]
  },
  {
   "cell_type": "code",
   "execution_count": 181,
   "id": "a457eeef",
   "metadata": {},
   "outputs": [
    {
     "name": "stdout",
     "output_type": "stream",
     "text": [
      "{11: 'AAA', 22: 'BBB', 33: 'CCC', 44: [1000, 2000], 55: 'EEE'}\n",
      "{0: 0, 1: 1, 2: 4, 3: 9, 4: 16} \n",
      "\n",
      "{11: 'AAA', 22: 'BBB', 33: 'CCC', 44: [1000, 2000], 55: 'EEE', 0: 0, 1: 1, 2: 4, 3: 9, 4: 16}\n",
      "{0: 0, 1: 1, 2: 4, 3: 9, 4: 16}\n"
     ]
    }
   ],
   "source": [
    "D1 = {11:\"AAA\",22:\"BBB\",33:\"CCC\",44:[1000,2000],55:\"EEE\"}\n",
    "D2 = {i:i*i for i in range(5)}\n",
    "print(D1)\n",
    "print(D2,\"\\n\")\n",
    "D1.update(D2)\n",
    "print(D1)\n",
    "print(D2)"
   ]
  },
  {
   "cell_type": "code",
   "execution_count": 178,
   "id": "9c17ab11",
   "metadata": {},
   "outputs": [
    {
     "name": "stdout",
     "output_type": "stream",
     "text": [
      "Help on method_descriptor:\n",
      "\n",
      "update(...)\n",
      "    D.update([E, ]**F) -> None.  Update D from dict/iterable E and F.\n",
      "    If E is present and has a .keys() method, then does:  for k in E: D[k] = E[k]\n",
      "    If E is present and lacks a .keys() method, then does:  for k, v in E: D[k] = v\n",
      "    In either case, this is followed by: for k in F:  D[k] = F[k]\n",
      "\n"
     ]
    }
   ],
   "source": [
    "help(dict.update)"
   ]
  },
  {
   "cell_type": "code",
   "execution_count": 184,
   "id": "fa1b3b41",
   "metadata": {},
   "outputs": [
    {
     "name": "stdout",
     "output_type": "stream",
     "text": [
      "55\n",
      "0\n"
     ]
    }
   ],
   "source": [
    "D = {11: 'AAA', 22: 'BBB', 33: 'CCC', 44: [1000, 2000], 55: 'EEE', 0: 0, 1: 1, 2: 4, 3: 9, 4: 16}\n",
    "print(max(D))\n",
    "print(min(D))\n"
   ]
  },
  {
   "cell_type": "code",
   "execution_count": 185,
   "id": "45f850d7",
   "metadata": {},
   "outputs": [
    {
     "name": "stdout",
     "output_type": "stream",
     "text": [
      "0\n",
      "16\n"
     ]
    }
   ],
   "source": [
    "D = {0: 0, 1: 1, 2: 4, 3: 9, 4: 16}\n",
    "print(min(D.values()))\n",
    "print(max(D.values()))"
   ]
  },
  {
   "cell_type": "code",
   "execution_count": 193,
   "id": "2978493c",
   "metadata": {},
   "outputs": [
    {
     "name": "stdout",
     "output_type": "stream",
     "text": [
      "True\n",
      "False\n",
      "True\n",
      "False\n",
      "False\n",
      "True\n"
     ]
    }
   ],
   "source": [
    "D = {11: 'AAA', 22: 'BBB', 33: 'CCC', 44: [1000, 2000], 55: 'EEE', 0: 0, 1: 1, 2: 4, 3: 9, 4: 16}\n",
    "print(11 in D)\n",
    "print(11 not in D)\n",
    "\n",
    "print('AAA' in D.values())\n",
    "print(16 not in D.values())\n",
    "\n",
    "print(44 in D.items())\n",
    "print([1000,2000] in D.values())"
   ]
  },
  {
   "cell_type": "code",
   "execution_count": 194,
   "id": "40ea4db6",
   "metadata": {},
   "outputs": [
    {
     "data": {
      "text/plain": [
       "175"
      ]
     },
     "execution_count": 194,
     "metadata": {},
     "output_type": "execute_result"
    }
   ],
   "source": [
    "D = {11: 'AAA', 22: 'BBB', 33: 'CCC', 44: [1000, 2000], 55: 'EEE', 0: 0, 1: 1, 2: 4, 3: 9, 4: 16}\n",
    "print(sum(D))"
   ]
  },
  {
   "cell_type": "code",
   "execution_count": 195,
   "id": "0402afc3",
   "metadata": {},
   "outputs": [
    {
     "name": "stdout",
     "output_type": "stream",
     "text": [
      "{1: 1, 2: 4, 3: 9, 4: 16, 5: 25}\n"
     ]
    }
   ],
   "source": [
    "D = {i:i**2 for i in range(1,6)}\n",
    "print(D)"
   ]
  },
  {
   "cell_type": "code",
   "execution_count": 196,
   "id": "5fb5bd9f",
   "metadata": {},
   "outputs": [
    {
     "name": "stdout",
     "output_type": "stream",
     "text": [
      "{1: 2, 2: 4, 3: 6, 4: 8, 5: 10}\n"
     ]
    }
   ],
   "source": [
    "D = {i:i*2 for i in range(1,6)}\n",
    "print(D)"
   ]
  },
  {
   "cell_type": "code",
   "execution_count": 209,
   "id": "f458d9b2",
   "metadata": {},
   "outputs": [
    {
     "name": "stdout",
     "output_type": "stream",
     "text": [
      "[0, 1, 2, 3, 4, 11, 22, 33, 44, 55]\n",
      "[0, 1, 2, 3, 4, 11, 22, 33, 44, 55]\n",
      "{0: 84, 1: 83, 2: 13, 3: 70, 4: 45, 5: 40, 6: 10, 7: 95, 8: 80, 9: 74}\n",
      "[10, 13, 40, 45, 70, 74, 80, 83, 84, 95]\n",
      "[95, 84, 83, 80, 74, 70, 45, 40, 13, 10]\n"
     ]
    }
   ],
   "source": [
    "D = {11: 'AAA', 22: 'BBB', 33: 'CCC', 44: [1000, 2000], 55: 'EEE', 0: 0, 1: 1, 2: 4, 3: 9, 4: 16}\n",
    "\n",
    "SD = sorted(D)\n",
    "print(SD)\n",
    "\n",
    "SD = sorted(D.keys())\n",
    "print(SD)\n",
    "\n",
    "import random\n",
    "D = {i:random.randint(1,100) for i in range(10)}\n",
    "print(D)\n",
    "SD = sorted(D.values())\n",
    "print(SD)\n",
    "\n",
    "SD = sorted(D.values(),reverse=True)\n",
    "print(SD)"
   ]
  },
  {
   "cell_type": "code",
   "execution_count": null,
   "id": "f0dfa80f",
   "metadata": {},
   "outputs": [],
   "source": [
    "FUNCTIONS"
   ]
  },
  {
   "cell_type": "code",
   "execution_count": 2,
   "id": "d5791d52",
   "metadata": {},
   "outputs": [
    {
     "name": "stdout",
     "output_type": "stream",
     "text": [
      "Hello, Ganesh\n"
     ]
    }
   ],
   "source": [
    "def greet(name):\n",
    "    print(\"Hello,\",name)\n",
    "    \n",
    "greet(\"Ganesh\")"
   ]
  },
  {
   "cell_type": "code",
   "execution_count": 5,
   "id": "9bf0abbb",
   "metadata": {},
   "outputs": [
    {
     "name": "stdout",
     "output_type": "stream",
     "text": [
      "Hello, Ganesh\n",
      "5\n"
     ]
    }
   ],
   "source": [
    "def greet(name):\n",
    "    print(\"Hello,\",name)\n",
    "    \n",
    "greet(\"Ganesh\")\n",
    "greet = 5\n",
    "print(greet)"
   ]
  },
  {
   "cell_type": "code",
   "execution_count": 11,
   "id": "0d071d50",
   "metadata": {},
   "outputs": [
    {
     "name": "stdout",
     "output_type": "stream",
     "text": [
      "Excedded\n",
      "Bye\n"
     ]
    }
   ],
   "source": [
    "def greet():\n",
    "    try:\n",
    "        greet()\n",
    "    except RecursionError as re:\n",
    "        print(\"Excedded\")\n",
    "    \n",
    "greet()\n",
    "\n",
    "print(\"Bye\")"
   ]
  },
  {
   "cell_type": "code",
   "execution_count": 12,
   "id": "83e0059e",
   "metadata": {},
   "outputs": [
    {
     "name": "stdout",
     "output_type": "stream",
     "text": [
      "Help on class RecursionError in module builtins:\n",
      "\n",
      "class RecursionError(RuntimeError)\n",
      " |  Recursion limit exceeded.\n",
      " |  \n",
      " |  Method resolution order:\n",
      " |      RecursionError\n",
      " |      RuntimeError\n",
      " |      Exception\n",
      " |      BaseException\n",
      " |      object\n",
      " |  \n",
      " |  Methods defined here:\n",
      " |  \n",
      " |  __init__(self, /, *args, **kwargs)\n",
      " |      Initialize self.  See help(type(self)) for accurate signature.\n",
      " |  \n",
      " |  ----------------------------------------------------------------------\n",
      " |  Static methods defined here:\n",
      " |  \n",
      " |  __new__(*args, **kwargs) from builtins.type\n",
      " |      Create and return a new object.  See help(type) for accurate signature.\n",
      " |  \n",
      " |  ----------------------------------------------------------------------\n",
      " |  Methods inherited from BaseException:\n",
      " |  \n",
      " |  __delattr__(self, name, /)\n",
      " |      Implement delattr(self, name).\n",
      " |  \n",
      " |  __getattribute__(self, name, /)\n",
      " |      Return getattr(self, name).\n",
      " |  \n",
      " |  __reduce__(...)\n",
      " |      Helper for pickle.\n",
      " |  \n",
      " |  __repr__(self, /)\n",
      " |      Return repr(self).\n",
      " |  \n",
      " |  __setattr__(self, name, value, /)\n",
      " |      Implement setattr(self, name, value).\n",
      " |  \n",
      " |  __setstate__(...)\n",
      " |  \n",
      " |  __str__(self, /)\n",
      " |      Return str(self).\n",
      " |  \n",
      " |  with_traceback(...)\n",
      " |      Exception.with_traceback(tb) --\n",
      " |      set self.__traceback__ to tb and return self.\n",
      " |  \n",
      " |  ----------------------------------------------------------------------\n",
      " |  Data descriptors inherited from BaseException:\n",
      " |  \n",
      " |  __cause__\n",
      " |      exception cause\n",
      " |  \n",
      " |  __context__\n",
      " |      exception context\n",
      " |  \n",
      " |  __dict__\n",
      " |  \n",
      " |  __suppress_context__\n",
      " |  \n",
      " |  __traceback__\n",
      " |  \n",
      " |  args\n",
      "\n"
     ]
    }
   ],
   "source": [
    "help(RecursionError)"
   ]
  },
  {
   "cell_type": "code",
   "execution_count": 13,
   "id": "f04f5ca5",
   "metadata": {},
   "outputs": [
    {
     "name": "stdout",
     "output_type": "stream",
     "text": [
      "Help on class Exception in module builtins:\n",
      "\n",
      "class Exception(BaseException)\n",
      " |  Common base class for all non-exit exceptions.\n",
      " |  \n",
      " |  Method resolution order:\n",
      " |      Exception\n",
      " |      BaseException\n",
      " |      object\n",
      " |  \n",
      " |  Built-in subclasses:\n",
      " |      ArithmeticError\n",
      " |      AssertionError\n",
      " |      AttributeError\n",
      " |      BufferError\n",
      " |      ... and 15 other subclasses\n",
      " |  \n",
      " |  Methods defined here:\n",
      " |  \n",
      " |  __init__(self, /, *args, **kwargs)\n",
      " |      Initialize self.  See help(type(self)) for accurate signature.\n",
      " |  \n",
      " |  ----------------------------------------------------------------------\n",
      " |  Static methods defined here:\n",
      " |  \n",
      " |  __new__(*args, **kwargs) from builtins.type\n",
      " |      Create and return a new object.  See help(type) for accurate signature.\n",
      " |  \n",
      " |  ----------------------------------------------------------------------\n",
      " |  Methods inherited from BaseException:\n",
      " |  \n",
      " |  __delattr__(self, name, /)\n",
      " |      Implement delattr(self, name).\n",
      " |  \n",
      " |  __getattribute__(self, name, /)\n",
      " |      Return getattr(self, name).\n",
      " |  \n",
      " |  __reduce__(...)\n",
      " |      Helper for pickle.\n",
      " |  \n",
      " |  __repr__(self, /)\n",
      " |      Return repr(self).\n",
      " |  \n",
      " |  __setattr__(self, name, value, /)\n",
      " |      Implement setattr(self, name, value).\n",
      " |  \n",
      " |  __setstate__(...)\n",
      " |  \n",
      " |  __str__(self, /)\n",
      " |      Return str(self).\n",
      " |  \n",
      " |  with_traceback(...)\n",
      " |      Exception.with_traceback(tb) --\n",
      " |      set self.__traceback__ to tb and return self.\n",
      " |  \n",
      " |  ----------------------------------------------------------------------\n",
      " |  Data descriptors inherited from BaseException:\n",
      " |  \n",
      " |  __cause__\n",
      " |      exception cause\n",
      " |  \n",
      " |  __context__\n",
      " |      exception context\n",
      " |  \n",
      " |  __dict__\n",
      " |  \n",
      " |  __suppress_context__\n",
      " |  \n",
      " |  __traceback__\n",
      " |  \n",
      " |  args\n",
      "\n"
     ]
    }
   ],
   "source": [
    "help(Exception)"
   ]
  },
  {
   "cell_type": "code",
   "execution_count": null,
   "id": "15df7183",
   "metadata": {},
   "outputs": [],
   "source": []
  },
  {
   "cell_type": "code",
   "execution_count": 15,
   "id": "7378a94e",
   "metadata": {},
   "outputs": [
    {
     "name": "stdout",
     "output_type": "stream",
     "text": [
      "Hello, Ganesh\n",
      "<function greet at 0x7f65c187b670>\n",
      "140075015321200\n",
      "<class 'function'>\n"
     ]
    }
   ],
   "source": [
    "def greet(name):\n",
    "    print(\"Hello,\",name)\n",
    "    \n",
    "greet(\"Ganesh\")\n",
    "print(greet)\n",
    "print(id(greet))\n",
    "print(type(greet))"
   ]
  },
  {
   "cell_type": "code",
   "execution_count": 22,
   "id": "3a17fa89",
   "metadata": {},
   "outputs": [
    {
     "name": "stdout",
     "output_type": "stream",
     "text": [
      "[74, 100, 55, 19, 69, 9, 82, 52, 58]\n",
      "[9, 19, 52, 55, 58, 69, 74, 82, 100]\n"
     ]
    }
   ],
   "source": [
    "from random import randint\n",
    "def sort_list(L):\n",
    "    return sorted(L)\n",
    "\n",
    "L = [randint(1,100) for i in range(1,10)]\n",
    "print(L)\n",
    "\n",
    "SL = sort_list(L)\n",
    "print(SL)"
   ]
  },
  {
   "cell_type": "code",
   "execution_count": 24,
   "id": "b02817f6",
   "metadata": {},
   "outputs": [
    {
     "name": "stdout",
     "output_type": "stream",
     "text": [
      "12 4 32 2\n"
     ]
    }
   ],
   "source": [
    "def cal(a,b):\n",
    "    return a+b,a-b,a*b,a//b\n",
    "\n",
    "a,b,c,d = cal(8,4)\n",
    "print(a,b,c,d)"
   ]
  },
  {
   "cell_type": "code",
   "execution_count": 30,
   "id": "9ac555b8",
   "metadata": {},
   "outputs": [
    {
     "name": "stdout",
     "output_type": "stream",
     "text": [
      "Hello, Ganesh\n",
      "Ganesh, Hello\n"
     ]
    },
    {
     "ename": "TypeError",
     "evalue": "greet() missing 1 required positional argument: 'name'",
     "output_type": "error",
     "traceback": [
      "\u001b[0;31m---------------------------------------------------------------------------\u001b[0m",
      "\u001b[0;31mTypeError\u001b[0m                                 Traceback (most recent call last)",
      "Cell \u001b[0;32mIn[30], line 6\u001b[0m\n\u001b[1;32m      4\u001b[0m greet(\u001b[38;5;124m\"\u001b[39m\u001b[38;5;124mHello\u001b[39m\u001b[38;5;124m\"\u001b[39m,\u001b[38;5;124m\"\u001b[39m\u001b[38;5;124mGanesh\u001b[39m\u001b[38;5;124m\"\u001b[39m)\n\u001b[1;32m      5\u001b[0m greet(\u001b[38;5;124m\"\u001b[39m\u001b[38;5;124mGanesh\u001b[39m\u001b[38;5;124m\"\u001b[39m,\u001b[38;5;124m\"\u001b[39m\u001b[38;5;124mHello\u001b[39m\u001b[38;5;124m\"\u001b[39m)\n\u001b[0;32m----> 6\u001b[0m \u001b[43mgreet\u001b[49m\u001b[43m(\u001b[49m\u001b[38;5;124;43m\"\u001b[39;49m\u001b[38;5;124;43mHello\u001b[39;49m\u001b[38;5;124;43m\"\u001b[39;49m\u001b[43m)\u001b[49m\n",
      "\u001b[0;31mTypeError\u001b[0m: greet() missing 1 required positional argument: 'name'"
     ]
    }
   ],
   "source": [
    "#positional args\n",
    "def greet(msg,name):\n",
    "    print(msg+\",\",name)\n",
    "    \n",
    "greet(\"Hello\",\"Ganesh\")\n",
    "greet(\"Ganesh\",\"Hello\")\n",
    "greet(\"Hello\")"
   ]
  },
  {
   "cell_type": "code",
   "execution_count": 33,
   "id": "41737e7a",
   "metadata": {},
   "outputs": [
    {
     "name": "stdout",
     "output_type": "stream",
     "text": [
      "Hello, Ganesh\n",
      "Hello, Ganesh\n"
     ]
    }
   ],
   "source": [
    "#keyword args\n",
    "def greet(msg,name):\n",
    "    print(msg+\",\",name)\n",
    "    \n",
    "greet(msg=\"Hello\",name=\"Ganesh\")\n",
    "greet(name=\"Ganesh\",msg=\"Hello\")"
   ]
  },
  {
   "cell_type": "code",
   "execution_count": 46,
   "id": "4cd7d016",
   "metadata": {},
   "outputs": [
    {
     "name": "stdout",
     "output_type": "stream",
     "text": [
      "10 20 30\n",
      "10 20 30\n",
      "10 20 30\n",
      "10 20 30\n"
     ]
    }
   ],
   "source": [
    "def addition(a,b,c):\n",
    "    print(a,b,c)\n",
    "    \n",
    "addition(10,20,30)\n",
    "addition(a=10,b=20,c=30)\n",
    "addition(10,20,c=30)\n",
    "addition(10,b=20,c=30)"
   ]
  },
  {
   "cell_type": "code",
   "execution_count": 55,
   "id": "8dab9f00",
   "metadata": {},
   "outputs": [
    {
     "name": "stdout",
     "output_type": "stream",
     "text": [
      "Hello, Ganesh\n",
      "Good Morning, Ganesh\n",
      "Good Morning, Ganesh\n",
      "Good Morning, Ganesh\n",
      "Good Morning, Ganesh\n"
     ]
    }
   ],
   "source": [
    "#default arguments\n",
    "\n",
    "def greet(msg=\"Hello\",name=\"Ganesh\"):\n",
    "    print(msg+\",\",name)\n",
    "    \n",
    "greet()\n",
    "greet(\"Good Morning\",\"Ganesh\")\n",
    "greet(msg=\"Good Morning\",name=\"Ganesh\")\n",
    "greet(name=\"Ganesh\",msg=\"Good Morning\")\n",
    "greet(\"Good Morning\",name=\"Ganesh\")\n"
   ]
  },
  {
   "cell_type": "code",
   "execution_count": 61,
   "id": "5343409d",
   "metadata": {},
   "outputs": [
    {
     "name": "stdout",
     "output_type": "stream",
     "text": [
      "Hello, Ganesh :  3\n",
      "Good Morning, Ganesh :  1\n",
      "Ganesh, 1 :  Good Morning\n"
     ]
    }
   ],
   "source": [
    "def greet(a,msg=\"Hello\",name=\"Ganesh\"):\n",
    "    print(msg+\",\",name,\": \",a)\n",
    "    \n",
    "greet(3)\n",
    "greet(1,\"Good Morning\",\"Ganesh\")\n",
    "greet(\"Good Morning\",\"Ganesh\",1)"
   ]
  },
  {
   "cell_type": "code",
   "execution_count": 67,
   "id": "5fb250fd",
   "metadata": {},
   "outputs": [
    {
     "name": "stdout",
     "output_type": "stream",
     "text": [
      "Sum :  10\n",
      "Sum :  30\n",
      "Sum :  60\n",
      "Sum :  100\n"
     ]
    }
   ],
   "source": [
    "def addition(*a):\n",
    "    s = 0\n",
    "    for i in a:\n",
    "        s+=i\n",
    "    print(\"Sum : \",s)\n",
    "\n",
    "addition(10)\n",
    "addition(10,20)\n",
    "addition(10,20,30)\n",
    "addition(10,20,30,40)"
   ]
  },
  {
   "cell_type": "code",
   "execution_count": 70,
   "id": "90011f30",
   "metadata": {},
   "outputs": [
    {
     "name": "stdout",
     "output_type": "stream",
     "text": [
      "()\n",
      "140075525697600\n",
      "<class 'tuple'>\n",
      "(10,)\n",
      "140075021876864\n",
      "<class 'tuple'>\n",
      "(10, 20, 'STR')\n",
      "140075015370240\n",
      "<class 'tuple'>\n"
     ]
    }
   ],
   "source": [
    "def var_len(*a):\n",
    "    print(a)\n",
    "    print(id(a))\n",
    "    print(type(a))\n",
    "\n",
    "var_len()\n",
    "var_len(10)\n",
    "var_len(10,20,\"STR\")"
   ]
  },
  {
   "cell_type": "code",
   "execution_count": 76,
   "id": "5b88bb4f",
   "metadata": {},
   "outputs": [
    {
     "name": "stdout",
     "output_type": "stream",
     "text": [
      "{'a': 10, 'b': 20}\n",
      "<class 'dict'>\n",
      "140075017948736\n"
     ]
    }
   ],
   "source": [
    "def var_len(**a):\n",
    "    print(a)\n",
    "    print(type(a))\n",
    "    print(id(a))\n",
    "    \n",
    "var_len(a=10,b=20)"
   ]
  },
  {
   "cell_type": "code",
   "execution_count": 2,
   "id": "5589753c",
   "metadata": {},
   "outputs": [
    {
     "name": "stdout",
     "output_type": "stream",
     "text": [
      "30\n",
      "{'a': 10, 'b': 20}\n",
      "\n",
      "\n"
     ]
    }
   ],
   "source": [
    "def add(a,b):\n",
    "    print(a+b)\n",
    "    print(locals())\n",
    "add(10,20)\n",
    "print(\"\\n\")\n",
    "#print(locals())\n"
   ]
  },
  {
   "cell_type": "code",
   "execution_count": 4,
   "id": "5bbc6b8a",
   "metadata": {},
   "outputs": [
    {
     "name": "stdout",
     "output_type": "stream",
     "text": [
      "<class 'builtin_function_or_method'>\n"
     ]
    }
   ],
   "source": [
    "print(type(globals))"
   ]
  },
  {
   "cell_type": "code",
   "execution_count": 5,
   "id": "9d9ba365",
   "metadata": {},
   "outputs": [
    {
     "name": "stdout",
     "output_type": "stream",
     "text": [
      "<class 'dict'>\n"
     ]
    }
   ],
   "source": [
    "print(type(globals()))"
   ]
  },
  {
   "cell_type": "code",
   "execution_count": 8,
   "id": "8a592638",
   "metadata": {},
   "outputs": [
    {
     "name": "stdout",
     "output_type": "stream",
     "text": [
      "<function <lambda> at 0x7f9ee4712af0>\n"
     ]
    }
   ],
   "source": [
    "print(lambda a,b : a+b)\n"
   ]
  },
  {
   "cell_type": "code",
   "execution_count": 11,
   "id": "810f812b",
   "metadata": {},
   "outputs": [
    {
     "name": "stdout",
     "output_type": "stream",
     "text": [
      "Hello\n",
      "<function <lambda> at 0x7f9ee46d44c0>\n",
      "<class 'function'>\n",
      "140320413926592\n"
     ]
    }
   ],
   "source": [
    "show = lambda msg:print(msg)\n",
    "show(\"Hello\")\n",
    "print(show)\n",
    "print(type(show))\n",
    "print(id(show))"
   ]
  },
  {
   "cell_type": "code",
   "execution_count": 14,
   "id": "d24e5e38",
   "metadata": {},
   "outputs": [
    {
     "name": "stdout",
     "output_type": "stream",
     "text": [
      "Maximum :  30\n"
     ]
    }
   ],
   "source": [
    "a = 30\n",
    "b = 10\n",
    "\n",
    "minmax = lambda a,b:a if a>b else b\n",
    "print(\"Maximum : \",minmax(a,b))"
   ]
  },
  {
   "cell_type": "code",
   "execution_count": 16,
   "id": "de2d43f9",
   "metadata": {},
   "outputs": [
    {
     "name": "stdout",
     "output_type": "stream",
     "text": [
      "Max :  20 and Min :  10\n"
     ]
    }
   ],
   "source": [
    "def display(a,b,max1,min1):\n",
    "    print(\"Max : \",max1(a,b),\"and Min : \",min1(a,b))\n",
    "\n",
    "display(10,20,lambda a,b:a if a>b else b, lambda a,b:a if a < b else b)"
   ]
  },
  {
   "cell_type": "code",
   "execution_count": 20,
   "id": "999556bf",
   "metadata": {},
   "outputs": [
    {
     "name": "stdout",
     "output_type": "stream",
     "text": [
      "[1, 2, 3, 4, 5, 6, 7, 8, 9, 10, 11, 12, 13, 14, 15, 16, 17, 18, 19]\n",
      "[2, 4, 6, 8, 10, 12, 14, 16, 18]\n",
      "[1, 3, 5, 7, 9, 11, 13, 15, 17, 19]\n"
     ]
    }
   ],
   "source": [
    "L = list(range(1,20))\n",
    "print(L)\n",
    "SL = list(filter(lambda a:a%2==0, L))\n",
    "print(SL)\n",
    "\n",
    "SL = list(filter(lambda a:a%2==1,L))\n",
    "print(SL)"
   ]
  },
  {
   "cell_type": "code",
   "execution_count": 21,
   "id": "c1037736",
   "metadata": {},
   "outputs": [
    {
     "name": "stdout",
     "output_type": "stream",
     "text": [
      "[6, 7, 8, 9, 10, 11, 12, 13, 14, 15]\n"
     ]
    }
   ],
   "source": [
    "L = list(range(1,11))\n",
    "SL = list(map(lambda a:a+5,L))\n",
    "print(SL)"
   ]
  },
  {
   "cell_type": "code",
   "execution_count": 27,
   "id": "f4147b05",
   "metadata": {
    "scrolled": true
   },
   "outputs": [
    {
     "name": "stdout",
     "output_type": "stream",
     "text": [
      "0 1\n",
      "None 2\n",
      "None 3\n",
      "None 4\n",
      "None 5\n",
      "None 6\n",
      "None 7\n",
      "None 8\n",
      "None 9\n",
      "None 10\n",
      "Sum :  None\n"
     ]
    }
   ],
   "source": [
    "import functools\n",
    "L = list(range(11))\n",
    "s = functools.reduce(lambda x,y:print(x,y),L)\n",
    "print(\"Sum : \",s)"
   ]
  },
  {
   "cell_type": "code",
   "execution_count": 28,
   "id": "6de9e0b2",
   "metadata": {},
   "outputs": [
    {
     "name": "stdout",
     "output_type": "stream",
     "text": [
      "Sum :  55\n"
     ]
    }
   ],
   "source": [
    "import functools\n",
    "L = list(range(11))\n",
    "s = functools.reduce(lambda x,y:x+y,L)\n",
    "print(\"Sum : \",s)"
   ]
  },
  {
   "cell_type": "code",
   "execution_count": 34,
   "id": "c42f8fa4",
   "metadata": {},
   "outputs": [
    {
     "name": "stdout",
     "output_type": "stream",
     "text": [
      "Sum :  720\n"
     ]
    }
   ],
   "source": [
    "import functools\n",
    "L = list(range(1,7))\n",
    "s = functools.reduce(lambda x,y:x*y,L)\n",
    "print(\"Sum : \",s)"
   ]
  },
  {
   "cell_type": "code",
   "execution_count": 3,
   "id": "d18f7b7a",
   "metadata": {},
   "outputs": [
    {
     "name": "stdout",
     "output_type": "stream",
     "text": [
      "hello\n"
     ]
    }
   ],
   "source": [
    "print(\"hello\")"
   ]
  },
  {
   "cell_type": "code",
   "execution_count": 3,
   "id": "d924e801",
   "metadata": {},
   "outputs": [
    {
     "name": "stdout",
     "output_type": "stream",
     "text": [
      "120\n"
     ]
    }
   ],
   "source": [
    "def factorial(n):\n",
    "    if n == 0 or n == 1:\n",
    "        return 1\n",
    "    else:\n",
    "        return n*factorial(n-1)\n",
    "print(factorial(5))"
   ]
  },
  {
   "cell_type": "code",
   "execution_count": 9,
   "id": "9712dd22",
   "metadata": {},
   "outputs": [
    {
     "name": "stdout",
     "output_type": "stream",
     "text": [
      "<class 'generator'>\n",
      "Ganesh\n",
      "Patil\n"
     ]
    }
   ],
   "source": [
    "def display():\n",
    "    yield \"Ganesh\"\n",
    "    yield \"Patil\"\n",
    "    \n",
    "gen = display()\n",
    "print(type(gen))\n",
    "\n",
    "print(next(gen))\n",
    "print(next(gen))"
   ]
  },
  {
   "cell_type": "code",
   "execution_count": 11,
   "id": "c3187e83",
   "metadata": {},
   "outputs": [
    {
     "name": "stdout",
     "output_type": "stream",
     "text": [
      "0 1 2 3 4 5 6 7 8 9 "
     ]
    }
   ],
   "source": [
    "def display(n):\n",
    "    i = 1\n",
    "    for i in range(n):\n",
    "        yield i\n",
    "g = display(10)\n",
    "for i in g:\n",
    "    print(i,end=\" \")"
   ]
  },
  {
   "cell_type": "code",
   "execution_count": 12,
   "id": "f52d69eb",
   "metadata": {},
   "outputs": [
    {
     "name": "stdout",
     "output_type": "stream",
     "text": [
      "[0, 1, 2, 3, 4, 5, 6, 7, 8, 9]\n"
     ]
    }
   ],
   "source": [
    "def display(n):\n",
    "    i = 1\n",
    "    for i in range(n):\n",
    "        yield i\n",
    "L = list(display(10))\n",
    "print(L)"
   ]
  },
  {
   "cell_type": "code",
   "execution_count": null,
   "id": "dc72b503",
   "metadata": {},
   "outputs": [],
   "source": [
    "Exception Handling"
   ]
  },
  {
   "cell_type": "code",
   "execution_count": 1,
   "id": "3397be09",
   "metadata": {},
   "outputs": [
    {
     "name": "stdout",
     "output_type": "stream",
     "text": [
      "Help on class ZeroDivisionError in module builtins:\n",
      "\n",
      "class ZeroDivisionError(ArithmeticError)\n",
      " |  Second argument to a division or modulo operation was zero.\n",
      " |  \n",
      " |  Method resolution order:\n",
      " |      ZeroDivisionError\n",
      " |      ArithmeticError\n",
      " |      Exception\n",
      " |      BaseException\n",
      " |      object\n",
      " |  \n",
      " |  Methods defined here:\n",
      " |  \n",
      " |  __init__(self, /, *args, **kwargs)\n",
      " |      Initialize self.  See help(type(self)) for accurate signature.\n",
      " |  \n",
      " |  ----------------------------------------------------------------------\n",
      " |  Static methods defined here:\n",
      " |  \n",
      " |  __new__(*args, **kwargs) from builtins.type\n",
      " |      Create and return a new object.  See help(type) for accurate signature.\n",
      " |  \n",
      " |  ----------------------------------------------------------------------\n",
      " |  Methods inherited from BaseException:\n",
      " |  \n",
      " |  __delattr__(self, name, /)\n",
      " |      Implement delattr(self, name).\n",
      " |  \n",
      " |  __getattribute__(self, name, /)\n",
      " |      Return getattr(self, name).\n",
      " |  \n",
      " |  __reduce__(...)\n",
      " |      Helper for pickle.\n",
      " |  \n",
      " |  __repr__(self, /)\n",
      " |      Return repr(self).\n",
      " |  \n",
      " |  __setattr__(self, name, value, /)\n",
      " |      Implement setattr(self, name, value).\n",
      " |  \n",
      " |  __setstate__(...)\n",
      " |  \n",
      " |  __str__(self, /)\n",
      " |      Return str(self).\n",
      " |  \n",
      " |  with_traceback(...)\n",
      " |      Exception.with_traceback(tb) --\n",
      " |      set self.__traceback__ to tb and return self.\n",
      " |  \n",
      " |  ----------------------------------------------------------------------\n",
      " |  Data descriptors inherited from BaseException:\n",
      " |  \n",
      " |  __cause__\n",
      " |      exception cause\n",
      " |  \n",
      " |  __context__\n",
      " |      exception context\n",
      " |  \n",
      " |  __dict__\n",
      " |  \n",
      " |  __suppress_context__\n",
      " |  \n",
      " |  __traceback__\n",
      " |  \n",
      " |  args\n",
      "\n"
     ]
    }
   ],
   "source": [
    "help(ZeroDivisionError)"
   ]
  },
  {
   "cell_type": "code",
   "execution_count": 2,
   "id": "ff90dcec",
   "metadata": {},
   "outputs": [
    {
     "ename": "ZeroDivisionError",
     "evalue": "division by zero",
     "output_type": "error",
     "traceback": [
      "\u001b[0;31m---------------------------------------------------------------------------\u001b[0m",
      "\u001b[0;31mZeroDivisionError\u001b[0m                         Traceback (most recent call last)",
      "Cell \u001b[0;32mIn[2], line 3\u001b[0m\n\u001b[1;32m      1\u001b[0m a \u001b[38;5;241m=\u001b[39m \u001b[38;5;241m100\u001b[39m\n\u001b[1;32m      2\u001b[0m b \u001b[38;5;241m=\u001b[39m \u001b[38;5;241m0\u001b[39m\n\u001b[0;32m----> 3\u001b[0m c \u001b[38;5;241m=\u001b[39m \u001b[43ma\u001b[49m\u001b[43m \u001b[49m\u001b[38;5;241;43m/\u001b[39;49m\u001b[43m \u001b[49m\u001b[43mb\u001b[49m\n\u001b[1;32m      4\u001b[0m \u001b[38;5;28mprint\u001b[39m(c)\n",
      "\u001b[0;31mZeroDivisionError\u001b[0m: division by zero"
     ]
    }
   ],
   "source": [
    "a = 100\n",
    "b = 0\n",
    "c = a / b\n",
    "print(c)"
   ]
  },
  {
   "cell_type": "code",
   "execution_count": 3,
   "id": "ce7032ba",
   "metadata": {},
   "outputs": [
    {
     "name": "stdout",
     "output_type": "stream",
     "text": [
      "aapli error :  division by zero\n",
      "Byee\n"
     ]
    }
   ],
   "source": [
    "try:\n",
    "    a = 100\n",
    "    b = 0\n",
    "    c = a / b\n",
    "    print(c)\n",
    "except ZeroDivisionError as ze:\n",
    "    print(\"aapli error : \",ze)\n",
    "finally:\n",
    "    print(\"Byee\")"
   ]
  },
  {
   "cell_type": "code",
   "execution_count": 4,
   "id": "00371091",
   "metadata": {},
   "outputs": [
    {
     "ename": "UnboundLocalError",
     "evalue": "local variable 'a' referenced before assignment",
     "output_type": "error",
     "traceback": [
      "\u001b[0;31m---------------------------------------------------------------------------\u001b[0m",
      "\u001b[0;31mUnboundLocalError\u001b[0m                         Traceback (most recent call last)",
      "Cell \u001b[0;32mIn[4], line 4\u001b[0m\n\u001b[1;32m      2\u001b[0m \u001b[38;5;28;01mdef\u001b[39;00m \u001b[38;5;21mdisplay\u001b[39m():\n\u001b[1;32m      3\u001b[0m     a \u001b[38;5;241m=\u001b[39m a \u001b[38;5;241m+\u001b[39m \u001b[38;5;241m1\u001b[39m\n\u001b[0;32m----> 4\u001b[0m \u001b[43mdisplay\u001b[49m\u001b[43m(\u001b[49m\u001b[43m)\u001b[49m\n",
      "Cell \u001b[0;32mIn[4], line 3\u001b[0m, in \u001b[0;36mdisplay\u001b[0;34m()\u001b[0m\n\u001b[1;32m      2\u001b[0m \u001b[38;5;28;01mdef\u001b[39;00m \u001b[38;5;21mdisplay\u001b[39m():\n\u001b[0;32m----> 3\u001b[0m     a \u001b[38;5;241m=\u001b[39m \u001b[43ma\u001b[49m \u001b[38;5;241m+\u001b[39m \u001b[38;5;241m1\u001b[39m\n",
      "\u001b[0;31mUnboundLocalError\u001b[0m: local variable 'a' referenced before assignment"
     ]
    }
   ],
   "source": [
    "a = 10\n",
    "def display():\n",
    "    a = a + 1\n",
    "display()"
   ]
  },
  {
   "cell_type": "code",
   "execution_count": 6,
   "id": "c2338306",
   "metadata": {},
   "outputs": [],
   "source": [
    "\n",
    "def display():\n",
    "    global a\n",
    "    a = a + 1\n",
    "a = 10\n",
    "    \n",
    "display()"
   ]
  },
  {
   "cell_type": "code",
   "execution_count": 7,
   "id": "be5e4546",
   "metadata": {},
   "outputs": [
    {
     "name": "stdout",
     "output_type": "stream",
     "text": [
      "Error occured as  division by zero\n"
     ]
    }
   ],
   "source": [
    "a = 10\n",
    "b = 0\n",
    "try: \n",
    "    c = a/b\n",
    "except Exception as e:\n",
    "    print(\"Error occured as \",e)\n",
    "else:\n",
    "    print(\"There is no error\")\n",
    "    "
   ]
  },
  {
   "cell_type": "code",
   "execution_count": 8,
   "id": "6ba97110",
   "metadata": {},
   "outputs": [
    {
     "name": "stdout",
     "output_type": "stream",
     "text": [
      "There is no error\n"
     ]
    }
   ],
   "source": [
    "a = 10\n",
    "b = 5\n",
    "try: \n",
    "    c = a/b\n",
    "except Exception as e:\n",
    "    print(\"Error occured as \",e)\n",
    "else:\n",
    "    print(\"There is no error\")\n"
   ]
  },
  {
   "cell_type": "code",
   "execution_count": 9,
   "id": "7922c49b",
   "metadata": {},
   "outputs": [
    {
     "name": "stdout",
     "output_type": "stream",
     "text": [
      "There is no error\n",
      "I will be get executed if there's error or no error\n"
     ]
    }
   ],
   "source": [
    "a = 10\n",
    "b = 5\n",
    "try: \n",
    "    c = a/b\n",
    "except Exception as e:\n",
    "    print(\"Error occured as \",e)\n",
    "else:\n",
    "    print(\"There is no error\")\n",
    "finally:\n",
    "    print(\"I will be get executed if there's error or no error\")"
   ]
  },
  {
   "cell_type": "code",
   "execution_count": 10,
   "id": "8b3d6b6c",
   "metadata": {},
   "outputs": [
    {
     "name": "stdout",
     "output_type": "stream",
     "text": [
      "Error occured as  division by zero\n",
      "I will be get executed if there's error or no error\n"
     ]
    }
   ],
   "source": [
    "a = 10\n",
    "b = 0\n",
    "try: \n",
    "    c = a/b\n",
    "except Exception as e:\n",
    "    print(\"Error occured as \",e)\n",
    "else:\n",
    "    print(\"There is no error\")\n",
    "finally:\n",
    "    print(\"I will be get executed if there's error or no error\")"
   ]
  },
  {
   "cell_type": "code",
   "execution_count": 9,
   "id": "863eebd6",
   "metadata": {},
   "outputs": [
    {
     "name": "stdout",
     "output_type": "stream",
     "text": [
      "Enter no1 : 3\n",
      "Enter no1 : 4\n",
      "Division :  0.75\n",
      "Bye\n"
     ]
    }
   ],
   "source": [
    "a = (input(\"Enter no1 : \"))\n",
    "b = (input(\"Enter no1 : \"))\n",
    "\n",
    "try:\n",
    "    c = int(a)/int(b)\n",
    "except: \n",
    "    print(\"There is an error\")\n",
    "else:\n",
    "    print(\"Division : \",c)\n",
    "finally:\n",
    "    print(\"Bye\")"
   ]
  },
  {
   "cell_type": "code",
   "execution_count": 13,
   "id": "daa5ad73",
   "metadata": {},
   "outputs": [
    {
     "name": "stdout",
     "output_type": "stream",
     "text": [
      "Enter no1 : asdjf\n",
      "Enter no1 : 3\n",
      "There is an error :  invalid literal for int() with base 10: 'asdjf'\n",
      "Bye\n"
     ]
    }
   ],
   "source": [
    "a = (input(\"Enter no1 : \"))\n",
    "b = (input(\"Enter no1 : \"))\n",
    "\n",
    "try:\n",
    "    c = int(a)/int(b)\n",
    "except Exception as e:\n",
    "    print(\"There is an error : \",e)\n",
    "else:\n",
    "    print(\"Division : \",c)\n",
    "finally:\n",
    "    print(\"Bye\")"
   ]
  },
  {
   "cell_type": "code",
   "execution_count": 22,
   "id": "13292e08",
   "metadata": {},
   "outputs": [
    {
     "ename": "ValueError",
     "evalue": "invalid literal for int() with base 10: 'IND'",
     "output_type": "error",
     "traceback": [
      "\u001b[0;31m---------------------------------------------------------------------------\u001b[0m",
      "\u001b[0;31mValueError\u001b[0m                                Traceback (most recent call last)",
      "Cell \u001b[0;32mIn[22], line 12\u001b[0m\n\u001b[1;32m     10\u001b[0m a \u001b[38;5;241m=\u001b[39m \u001b[38;5;241m10\u001b[39m\n\u001b[1;32m     11\u001b[0m \u001b[38;5;28;01mtry\u001b[39;00m:\n\u001b[0;32m---> 12\u001b[0m     a \u001b[38;5;241m=\u001b[39m \u001b[38;5;28;43mint\u001b[39;49m\u001b[43m(\u001b[49m\u001b[38;5;124;43m\"\u001b[39;49m\u001b[38;5;124;43mIND\u001b[39;49m\u001b[38;5;124;43m\"\u001b[39;49m\u001b[43m)\u001b[49m\n\u001b[1;32m     13\u001b[0m \u001b[38;5;28;01mexcept\u001b[39;00m RnoError \u001b[38;5;28;01mas\u001b[39;00m re:\n\u001b[1;32m     14\u001b[0m     \u001b[38;5;28mprint\u001b[39m(\u001b[38;5;124m\"\u001b[39m\u001b[38;5;124mRoll no shoud be int\u001b[39m\u001b[38;5;124m\"\u001b[39m,re)\n",
      "\u001b[0;31mValueError\u001b[0m: invalid literal for int() with base 10: 'IND'"
     ]
    }
   ],
   "source": [
    "class RnoError(Exception):\n",
    "    def __init__(self,msg):\n",
    "        self.msg = msg\n",
    "    \n",
    "class PercentageError(Exception):\n",
    "    def __init__(self,msg):\n",
    "        self.msg = msg\n",
    "        \n",
    "\n",
    "a = 10\n",
    "try:\n",
    "    a = int(\"IND\")\n",
    "except RnoError as re:\n",
    "    print(\"Roll no shoud be int\",re)\n",
    "else:\n",
    "    print(a)\n",
    "    "
   ]
  },
  {
   "cell_type": "code",
   "execution_count": null,
   "id": "c10e4a51",
   "metadata": {},
   "outputs": [],
   "source": [
    "ASSERTION"
   ]
  },
  {
   "cell_type": "code",
   "execution_count": 24,
   "id": "e381a51b",
   "metadata": {},
   "outputs": [
    {
     "name": "stdout",
     "output_type": "stream",
     "text": [
      "Enter first no : 4\n",
      "Enter second no : 2\n",
      "Difference bet two heights :  2\n"
     ]
    }
   ],
   "source": [
    "def sub(a,b):\n",
    "    return a-b\n",
    "\n",
    "a = int(input(\"Enter first no : \"))\n",
    "b = int(input(\"Enter second no : \"))\n",
    "\n",
    "assert sub(a,b) >= 0,\"Height cannot be negative\"\n",
    "print(\"Difference bet two heights : \",sub(a,b))"
   ]
  },
  {
   "cell_type": "code",
   "execution_count": null,
   "id": "bd4a0ed0",
   "metadata": {},
   "outputs": [],
   "source": []
  },
  {
   "cell_type": "code",
   "execution_count": null,
   "id": "75a11f5b",
   "metadata": {},
   "outputs": [],
   "source": []
  },
  {
   "cell_type": "code",
   "execution_count": null,
   "id": "119ac0e6",
   "metadata": {},
   "outputs": [],
   "source": []
  },
  {
   "cell_type": "code",
   "execution_count": null,
   "id": "913a7cb8",
   "metadata": {},
   "outputs": [],
   "source": []
  },
  {
   "cell_type": "code",
   "execution_count": null,
   "id": "a6c097fb",
   "metadata": {},
   "outputs": [],
   "source": []
  },
  {
   "cell_type": "code",
   "execution_count": null,
   "id": "7d13d90f",
   "metadata": {},
   "outputs": [],
   "source": []
  },
  {
   "cell_type": "code",
   "execution_count": null,
   "id": "d7235979",
   "metadata": {},
   "outputs": [],
   "source": []
  },
  {
   "cell_type": "code",
   "execution_count": null,
   "id": "c06014de",
   "metadata": {},
   "outputs": [],
   "source": []
  },
  {
   "cell_type": "code",
   "execution_count": null,
   "id": "9974c8a5",
   "metadata": {},
   "outputs": [],
   "source": []
  },
  {
   "cell_type": "code",
   "execution_count": null,
   "id": "9eb4b037",
   "metadata": {},
   "outputs": [],
   "source": []
  },
  {
   "cell_type": "code",
   "execution_count": null,
   "id": "12b08ded",
   "metadata": {},
   "outputs": [],
   "source": []
  }
 ],
 "metadata": {
  "kernelspec": {
   "display_name": "Python 3 (ipykernel)",
   "language": "python",
   "name": "python3"
  },
  "language_info": {
   "codemirror_mode": {
    "name": "ipython",
    "version": 3
   },
   "file_extension": ".py",
   "mimetype": "text/x-python",
   "name": "python",
   "nbconvert_exporter": "python",
   "pygments_lexer": "ipython3",
   "version": "3.8.10"
  }
 },
 "nbformat": 4,
 "nbformat_minor": 5
}
