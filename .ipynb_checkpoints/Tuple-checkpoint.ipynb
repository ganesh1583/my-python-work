{
 "cells": [
  {
   "cell_type": "code",
   "execution_count": null,
   "id": "d6e1bd11",
   "metadata": {},
   "outputs": [],
   "source": [
    "#Tuple Type    "
   ]
  },
  {
   "cell_type": "code",
   "execution_count": 2,
   "id": "864efb45",
   "metadata": {},
   "outputs": [
    {
     "name": "stdout",
     "output_type": "stream",
     "text": [
      "(11, 'TCA', 45.54, None, True)\n",
      "<class 'tuple'>\n",
      "140540253101808\n"
     ]
    }
   ],
   "source": [
    "T = (11,\"TCA\",45.54,None,True)\n",
    "print(T)\n",
    "print(type(T))\n",
    "print(id(T))"
   ]
  },
  {
   "cell_type": "code",
   "execution_count": 3,
   "id": "75558bd1",
   "metadata": {},
   "outputs": [
    {
     "ename": "TypeError",
     "evalue": "'tuple' object does not support item assignment",
     "output_type": "error",
     "traceback": [
      "\u001b[0;31m---------------------------------------------------------------------------\u001b[0m",
      "\u001b[0;31mTypeError\u001b[0m                                 Traceback (most recent call last)",
      "Cell \u001b[0;32mIn[3], line 2\u001b[0m\n\u001b[1;32m      1\u001b[0m T \u001b[38;5;241m=\u001b[39m (\u001b[38;5;241m11\u001b[39m,\u001b[38;5;241m22\u001b[39m,\u001b[38;5;241m33\u001b[39m)\n\u001b[0;32m----> 2\u001b[0m \u001b[43mT\u001b[49m\u001b[43m[\u001b[49m\u001b[38;5;241;43m0\u001b[39;49m\u001b[43m]\u001b[49m \u001b[38;5;241m=\u001b[39m \u001b[38;5;241m44\u001b[39m\n\u001b[1;32m      3\u001b[0m \u001b[38;5;28mprint\u001b[39m(T)\n",
      "\u001b[0;31mTypeError\u001b[0m: 'tuple' object does not support item assignment"
     ]
    }
   ],
   "source": [
    "T = (11,22,33)\n",
    "T[0] = 44\n",
    "print(T)"
   ]
  },
  {
   "cell_type": "code",
   "execution_count": 7,
   "id": "c4146c94",
   "metadata": {},
   "outputs": [
    {
     "name": "stdout",
     "output_type": "stream",
     "text": [
      "(11, 6, 33, 54, 22, 209, 34)\n",
      "[6, 11, 22, 33, 34, 54, 209]\n",
      "140540189510624\n",
      "140540189584192\n"
     ]
    }
   ],
   "source": [
    "T = (11,6,33,54,22,209,34)\n",
    "print(T)\n",
    "ST = sorted(T)\n",
    "print(ST)\n",
    "print(id(T))\n",
    "print(id(ST))"
   ]
  },
  {
   "cell_type": "code",
   "execution_count": 11,
   "id": "94867fb5",
   "metadata": {},
   "outputs": [
    {
     "name": "stdout",
     "output_type": "stream",
     "text": [
      "140540189815680\n",
      "140540189470272\n"
     ]
    }
   ],
   "source": [
    "L = [11,33]\n",
    "LS = L[::] \n",
    "print(id(L))\n",
    "print(id(LS))"
   ]
  },
  {
   "cell_type": "code",
   "execution_count": 16,
   "id": "52b383d4",
   "metadata": {},
   "outputs": [
    {
     "name": "stdout",
     "output_type": "stream",
     "text": [
      "140540193529216\n",
      "140540189538640\n"
     ]
    }
   ],
   "source": [
    "T = (11,22,33)\n",
    "print(id(T))\n",
    "T = T + (44,55)\n",
    "print(id(T))"
   ]
  },
  {
   "cell_type": "code",
   "execution_count": 17,
   "id": "c294b62c",
   "metadata": {},
   "outputs": [
    {
     "ename": "AttributeError",
     "evalue": "'tuple' object has no attribute 'find'",
     "output_type": "error",
     "traceback": [
      "\u001b[0;31m---------------------------------------------------------------------------\u001b[0m",
      "\u001b[0;31mAttributeError\u001b[0m                            Traceback (most recent call last)",
      "Cell \u001b[0;32mIn[17], line 2\u001b[0m\n\u001b[1;32m      1\u001b[0m T \u001b[38;5;241m=\u001b[39m (\u001b[38;5;241m11\u001b[39m,\u001b[38;5;241m22\u001b[39m,\u001b[38;5;241m33\u001b[39m,\u001b[38;5;241m44\u001b[39m,\u001b[38;5;241m55\u001b[39m)\n\u001b[0;32m----> 2\u001b[0m \u001b[38;5;28mprint\u001b[39m(\u001b[43mT\u001b[49m\u001b[38;5;241;43m.\u001b[39;49m\u001b[43mfind\u001b[49m(\u001b[38;5;241m99\u001b[39m))\n\u001b[1;32m      3\u001b[0m \u001b[38;5;28mprint\u001b[39m(T\u001b[38;5;241m.\u001b[39mindex(\u001b[38;5;241m99\u001b[39m))\n",
      "\u001b[0;31mAttributeError\u001b[0m: 'tuple' object has no attribute 'find'"
     ]
    }
   ],
   "source": [
    "T = (11,22,33,44,55)\n",
    "print(T.find(99))\n",
    "print(T.index(99))"
   ]
  },
  {
   "cell_type": "code",
   "execution_count": 22,
   "id": "bbf49e8f",
   "metadata": {},
   "outputs": [
    {
     "name": "stdout",
     "output_type": "stream",
     "text": [
      "<generator object <genexpr> at 0x7fd1f9f49f90>\n",
      "<class 'generator'>\n",
      "1\n",
      "4\n",
      "9\n",
      "16\n",
      "25\n"
     ]
    }
   ],
   "source": [
    "T = 1,2,3,4,5\n",
    "ST = (i*i for i in T)\n",
    "print(ST)\n",
    "print(type(ST))\n",
    "for i in ST:\n",
    "    print(i)"
   ]
  },
  {
   "cell_type": "code",
   "execution_count": 25,
   "id": "b098e0dd",
   "metadata": {},
   "outputs": [
    {
     "name": "stdout",
     "output_type": "stream",
     "text": [
      "<class 'zip'>\n"
     ]
    }
   ],
   "source": [
    "rno = (101,102,103)\n",
    "name = (\"AAA\",\"BBB\",\"CCC\")\n",
    "per = (34.54,32,45.44)\n",
    "z = zip(rno,name,per)\n",
    "print(type(z))"
   ]
  },
  {
   "cell_type": "code",
   "execution_count": 110,
   "id": "cd596585",
   "metadata": {},
   "outputs": [
    {
     "name": "stdout",
     "output_type": "stream",
     "text": [
      "9793408\n",
      "9793760\n",
      "9794144\n",
      "9794496\n",
      "140540189278656\n"
     ]
    }
   ],
   "source": [
    "L = [11,22,[34,45]]\n",
    "print(id(L[0]))\n",
    "print(id(L[1]))\n",
    "print(id(L[2][0]))\n",
    "print(id(L[2][1]))\n",
    "print(id(L))"
   ]
  },
  {
   "cell_type": "code",
   "execution_count": null,
   "id": "72966601",
   "metadata": {},
   "outputs": [],
   "source": []
  },
  {
   "cell_type": "code",
   "execution_count": null,
   "id": "98b530c5",
   "metadata": {},
   "outputs": [],
   "source": []
  },
  {
   "cell_type": "code",
   "execution_count": null,
   "id": "e7f391f3",
   "metadata": {},
   "outputs": [],
   "source": []
  },
  {
   "cell_type": "code",
   "execution_count": null,
   "id": "3eec967d",
   "metadata": {},
   "outputs": [],
   "source": []
  },
  {
   "cell_type": "code",
   "execution_count": null,
   "id": "ce8452cc",
   "metadata": {},
   "outputs": [],
   "source": []
  }
 ],
 "metadata": {
  "kernelspec": {
   "display_name": "Python 3 (ipykernel)",
   "language": "python",
   "name": "python3"
  },
  "language_info": {
   "codemirror_mode": {
    "name": "ipython",
    "version": 3
   },
   "file_extension": ".py",
   "mimetype": "text/x-python",
   "name": "python",
   "nbconvert_exporter": "python",
   "pygments_lexer": "ipython3",
   "version": "3.8.10"
  }
 },
 "nbformat": 4,
 "nbformat_minor": 5
}
